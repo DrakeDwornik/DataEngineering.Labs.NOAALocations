{
 "cells": [
  {
   "cell_type": "code",
   "execution_count": 146,
   "metadata": {},
   "outputs": [],
   "source": [
    "import pandas as pd\n",
    "import os\n",
    "import json\n",
    "from IPython.display import JSON\n",
    "import pickle"
   ]
  },
  {
   "cell_type": "markdown",
   "metadata": {},
   "source": [
    "## Read a single JSON"
   ]
  },
  {
   "cell_type": "markdown",
   "metadata": {},
   "source": [
    "Define a function called read_json. Given a string representing a file path to a json file, this function should open said file and convert its contens into a json object."
   ]
  },
  {
   "cell_type": "code",
   "execution_count": 35,
   "metadata": {},
   "outputs": [],
   "source": [
    "# implement me\n",
    "def read_json(file_path):\n",
    "    with open(file_path) as file:\n",
    "        json_object = json.load(file)\n",
    "    return json_object"
   ]
  },
  {
   "cell_type": "markdown",
   "metadata": {},
   "source": [
    "Use the read_json function defined above to read the contents of one of the locations_4.json file acquired in the Data Acquisition Lab."
   ]
  },
  {
   "cell_type": "code",
   "execution_count": 3,
   "metadata": {
    "tags": []
   },
   "outputs": [],
   "source": [
    "file_path = os.path.join('./', 'data', 'locations', 'locations_04.json')\n",
    "json_contents = read_json(file_path)"
   ]
  },
  {
   "cell_type": "markdown",
   "metadata": {},
   "source": [
    "Display the value of the json_contents variable defined above."
   ]
  },
  {
   "cell_type": "code",
   "execution_count": 10,
   "metadata": {},
   "outputs": [
    {
     "data": {
      "application/json": {
       "metadata": {
        "resultset": {
         "count": 38862,
         "limit": 1000,
         "offset": 4001
        }
       },
       "results": [
        {
         "datacoverage": 1,
         "id": "FIPS:30071",
         "maxdate": "2021-11-12",
         "mindate": "1905-05-08",
         "name": "Phillips County, MT"
        },
        {
         "datacoverage": 1,
         "id": "FIPS:30073",
         "maxdate": "2021-11-12",
         "mindate": "1911-03-01",
         "name": "Pondera County, MT"
        },
        {
         "datacoverage": 1,
         "id": "FIPS:30075",
         "maxdate": "2021-11-12",
         "mindate": "1893-02-01",
         "name": "Powder River County, MT"
        },
        {
         "datacoverage": 1,
         "id": "FIPS:30077",
         "maxdate": "2021-11-12",
         "mindate": "1893-01-01",
         "name": "Powell County, MT"
        },
        {
         "datacoverage": 1,
         "id": "FIPS:30079",
         "maxdate": "2021-11-12",
         "mindate": "1904-11-01",
         "name": "Prairie County, MT"
        },
        {
         "datacoverage": 1,
         "id": "FIPS:30081",
         "maxdate": "2021-11-12",
         "mindate": "1895-06-12",
         "name": "Ravalli County, MT"
        },
        {
         "datacoverage": 1,
         "id": "FIPS:30083",
         "maxdate": "2021-11-13",
         "mindate": "1900-05-04",
         "name": "Richland County, MT"
        },
        {
         "datacoverage": 1,
         "id": "FIPS:30085",
         "maxdate": "2021-11-13",
         "mindate": "1893-02-01",
         "name": "Roosevelt County, MT"
        },
        {
         "datacoverage": 1,
         "id": "FIPS:30087",
         "maxdate": "2021-11-12",
         "mindate": "1903-01-01",
         "name": "Rosebud County, MT"
        },
        {
         "datacoverage": 1,
         "id": "FIPS:30089",
         "maxdate": "2021-11-12",
         "mindate": "1898-09-01",
         "name": "Sanders County, MT"
        },
        {
         "datacoverage": 1,
         "id": "FIPS:30091",
         "maxdate": "2021-11-12",
         "mindate": "1906-07-06",
         "name": "Sheridan County, MT"
        },
        {
         "datacoverage": 1,
         "id": "FIPS:30093",
         "maxdate": "2021-11-13",
         "mindate": "1909-08-01",
         "name": "Silver Bow County, MT"
        },
        {
         "datacoverage": 1,
         "id": "FIPS:30095",
         "maxdate": "2021-11-12",
         "mindate": "1905-03-16",
         "name": "Stillwater County, MT"
        },
        {
         "datacoverage": 1,
         "id": "FIPS:30097",
         "maxdate": "2021-11-12",
         "mindate": "1894-04-08",
         "name": "Sweet Grass County, MT"
        },
        {
         "datacoverage": 1,
         "id": "FIPS:30099",
         "maxdate": "2021-11-12",
         "mindate": "1893-01-01",
         "name": "Teton County, MT"
        },
        {
         "datacoverage": 1,
         "id": "FIPS:30101",
         "maxdate": "2021-11-12",
         "mindate": "1905-06-20",
         "name": "Toole County, MT"
        },
        {
         "datacoverage": 1,
         "id": "FIPS:30103",
         "maxdate": "2021-11-12",
         "mindate": "1925-09-01",
         "name": "Treasure County, MT"
        },
        {
         "datacoverage": 1,
         "id": "FIPS:30105",
         "maxdate": "2021-11-13",
         "mindate": "1893-07-01",
         "name": "Valley County, MT"
        },
        {
         "datacoverage": 1,
         "id": "FIPS:30107",
         "maxdate": "2021-11-12",
         "mindate": "1895-05-19",
         "name": "Wheatland County, MT"
        },
        {
         "datacoverage": 1,
         "id": "FIPS:30109",
         "maxdate": "2021-11-12",
         "mindate": "1895-06-01",
         "name": "Wibaux County, MT"
        },
        {
         "datacoverage": 1,
         "id": "FIPS:30111",
         "maxdate": "2021-11-13",
         "mindate": "1906-10-13",
         "name": "Yellowstone County, MT"
        },
        {
         "datacoverage": 1,
         "id": "FIPS:31",
         "maxdate": "2021-11-13",
         "mindate": "1878-01-01",
         "name": "Nebraska"
        },
        {
         "datacoverage": 1,
         "id": "FIPS:31001",
         "maxdate": "2021-11-13",
         "mindate": "1894-11-01",
         "name": "Adams County, NE"
        },
        {
         "datacoverage": 1,
         "id": "FIPS:31003",
         "maxdate": "2021-11-12",
         "mindate": "1893-01-01",
         "name": "Antelope County, NE"
        },
        {
         "datacoverage": 1,
         "id": "FIPS:31005",
         "maxdate": "2021-11-12",
         "mindate": "1909-08-01",
         "name": "Arthur County, NE"
        },
        {
         "datacoverage": 1,
         "id": "FIPS:31007",
         "maxdate": "2021-11-12",
         "mindate": "1922-05-15",
         "name": "Banner County, NE"
        },
        {
         "datacoverage": 1,
         "id": "FIPS:31009",
         "maxdate": "2021-11-12",
         "mindate": "1893-01-01",
         "name": "Blaine County, NE"
        },
        {
         "datacoverage": 1,
         "id": "FIPS:31011",
         "maxdate": "2021-11-13",
         "mindate": "1893-01-01",
         "name": "Boone County, NE"
        },
        {
         "datacoverage": 1,
         "id": "FIPS:31013",
         "maxdate": "2021-11-13",
         "mindate": "1894-11-01",
         "name": "Box Butte County, NE"
        },
        {
         "datacoverage": 1,
         "id": "FIPS:31015",
         "maxdate": "2021-11-12",
         "mindate": "1893-04-01",
         "name": "Boyd County, NE"
        },
        {
         "datacoverage": 1,
         "id": "FIPS:31017",
         "maxdate": "2021-11-13",
         "mindate": "1905-11-01",
         "name": "Brown County, NE"
        },
        {
         "datacoverage": 1,
         "id": "FIPS:31019",
         "maxdate": "2021-11-13",
         "mindate": "1893-01-01",
         "name": "Buffalo County, NE"
        },
        {
         "datacoverage": 1,
         "id": "FIPS:31021",
         "maxdate": "2021-11-13",
         "mindate": "1893-01-01",
         "name": "Burt County, NE"
        },
        {
         "datacoverage": 1,
         "id": "FIPS:31023",
         "maxdate": "2021-11-12",
         "mindate": "1889-01-01",
         "name": "Butler County, NE"
        },
        {
         "datacoverage": 1,
         "id": "FIPS:31025",
         "maxdate": "2021-11-13",
         "mindate": "1891-10-01",
         "name": "Cass County, NE"
        },
        {
         "datacoverage": 1,
         "id": "FIPS:31027",
         "maxdate": "2021-11-12",
         "mindate": "1893-01-01",
         "name": "Cedar County, NE"
        },
        {
         "datacoverage": 1,
         "id": "FIPS:31029",
         "maxdate": "2021-11-13",
         "mindate": "1893-01-01",
         "name": "Chase County, NE"
        },
        {
         "datacoverage": 1,
         "id": "FIPS:31031",
         "maxdate": "2021-11-13",
         "mindate": "1893-01-01",
         "name": "Cherry County, NE"
        },
        {
         "datacoverage": 1,
         "id": "FIPS:31033",
         "maxdate": "2021-11-13",
         "mindate": "1894-09-05",
         "name": "Cheyenne County, NE"
        },
        {
         "datacoverage": 1,
         "id": "FIPS:31035",
         "maxdate": "2021-11-12",
         "mindate": "1893-08-01",
         "name": "Clay County, NE"
        },
        {
         "datacoverage": 1,
         "id": "FIPS:31037",
         "maxdate": "2021-11-12",
         "mindate": "1905-01-01",
         "name": "Colfax County, NE"
        },
        {
         "datacoverage": 1,
         "id": "FIPS:31039",
         "maxdate": "2021-11-12",
         "mindate": "1890-01-01",
         "name": "Cuming County, NE"
        },
        {
         "datacoverage": 1,
         "id": "FIPS:31041",
         "maxdate": "2021-11-13",
         "mindate": "1893-01-01",
         "name": "Custer County, NE"
        },
        {
         "datacoverage": 1,
         "id": "FIPS:31043",
         "maxdate": "2021-11-12",
         "mindate": "1946-03-01",
         "name": "Dakota County, NE"
        },
        {
         "datacoverage": 1,
         "id": "FIPS:31045",
         "maxdate": "2021-11-13",
         "mindate": "1894-09-01",
         "name": "Dawes County, NE"
        },
        {
         "datacoverage": 1,
         "id": "FIPS:31047",
         "maxdate": "2021-11-13",
         "mindate": "1893-01-01",
         "name": "Dawson County, NE"
        },
        {
         "datacoverage": 1,
         "id": "FIPS:31049",
         "maxdate": "2021-11-12",
         "mindate": "1916-05-01",
         "name": "Deuel County, NE"
        },
        {
         "datacoverage": 1,
         "id": "FIPS:31051",
         "maxdate": "2021-11-12",
         "mindate": "1894-10-01",
         "name": "Dixon County, NE"
        },
        {
         "datacoverage": 1,
         "id": "FIPS:31053",
         "maxdate": "2021-11-13",
         "mindate": "1893-01-01",
         "name": "Dodge County, NE"
        },
        {
         "datacoverage": 1,
         "id": "FIPS:31055",
         "maxdate": "2021-11-13",
         "mindate": "1917-08-01",
         "name": "Douglas County, NE"
        },
        {
         "datacoverage": 1,
         "id": "FIPS:31057",
         "maxdate": "2021-11-12",
         "mindate": "1893-01-01",
         "name": "Dundy County, NE"
        },
        {
         "datacoverage": 1,
         "id": "FIPS:31059",
         "maxdate": "2021-11-12",
         "mindate": "1893-01-01",
         "name": "Fillmore County, NE"
        },
        {
         "datacoverage": 1,
         "id": "FIPS:31061",
         "maxdate": "2021-11-12",
         "mindate": "1888-01-01",
         "name": "Franklin County, NE"
        },
        {
         "datacoverage": 1,
         "id": "FIPS:31063",
         "maxdate": "2021-11-12",
         "mindate": "1893-11-01",
         "name": "Frontier County, NE"
        },
        {
         "datacoverage": 1,
         "id": "FIPS:31065",
         "maxdate": "2021-11-12",
         "mindate": "1893-01-01",
         "name": "Furnas County, NE"
        },
        {
         "datacoverage": 1,
         "id": "FIPS:31067",
         "maxdate": "2021-11-13",
         "mindate": "1893-01-01",
         "name": "Gage County, NE"
        },
        {
         "datacoverage": 1,
         "id": "FIPS:31069",
         "maxdate": "2021-11-12",
         "mindate": "1913-06-04",
         "name": "Garden County, NE"
        },
        {
         "datacoverage": 1,
         "id": "FIPS:31071",
         "maxdate": "2021-11-12",
         "mindate": "1911-06-21",
         "name": "Garfield County, NE"
        },
        {
         "datacoverage": 1,
         "id": "FIPS:31073",
         "maxdate": "2021-11-12",
         "mindate": "1900-06-01",
         "name": "Gosper County, NE"
        },
        {
         "datacoverage": 1,
         "id": "FIPS:31075",
         "maxdate": "2021-11-13",
         "mindate": "1893-01-01",
         "name": "Grant County, NE"
        },
        {
         "datacoverage": 1,
         "id": "FIPS:31077",
         "maxdate": "2021-11-12",
         "mindate": "1894-09-01",
         "name": "Greeley County, NE"
        },
        {
         "datacoverage": 1,
         "id": "FIPS:31079",
         "maxdate": "2021-11-13",
         "mindate": "1895-01-01",
         "name": "Hall County, NE"
        },
        {
         "datacoverage": 1,
         "id": "FIPS:31081",
         "maxdate": "2021-11-13",
         "mindate": "1893-02-01",
         "name": "Hamilton County, NE"
        },
        {
         "datacoverage": 1,
         "id": "FIPS:31083",
         "maxdate": "2021-11-12",
         "mindate": "1894-11-01",
         "name": "Harlan County, NE"
        },
        {
         "datacoverage": 1,
         "id": "FIPS:31085",
         "maxdate": "2021-11-12",
         "mindate": "1894-12-01",
         "name": "Hayes County, NE"
        },
        {
         "datacoverage": 1,
         "id": "FIPS:31087",
         "maxdate": "2021-11-12",
         "mindate": "1889-06-01",
         "name": "Hitchcock County, NE"
        },
        {
         "datacoverage": 1,
         "id": "FIPS:31089",
         "maxdate": "2021-11-13",
         "mindate": "1893-01-01",
         "name": "Holt County, NE"
        },
        {
         "datacoverage": 1,
         "id": "FIPS:31091",
         "maxdate": "2021-11-12",
         "mindate": "1893-01-01",
         "name": "Hooker County, NE"
        },
        {
         "datacoverage": 1,
         "id": "FIPS:31093",
         "maxdate": "2021-11-12",
         "mindate": "1894-09-01",
         "name": "Howard County, NE"
        },
        {
         "datacoverage": 1,
         "id": "FIPS:31095",
         "maxdate": "2021-11-12",
         "mindate": "1893-01-01",
         "name": "Jefferson County, NE"
        },
        {
         "datacoverage": 1,
         "id": "FIPS:31097",
         "maxdate": "2021-11-12",
         "mindate": "1893-06-01",
         "name": "Johnson County, NE"
        },
        {
         "datacoverage": 1,
         "id": "FIPS:31099",
         "maxdate": "2021-11-12",
         "mindate": "1893-01-01",
         "name": "Kearney County, NE"
        },
        {
         "datacoverage": 1,
         "id": "FIPS:31101",
         "maxdate": "2021-11-13",
         "mindate": "1893-05-01",
         "name": "Keith County, NE"
        },
        {
         "datacoverage": 1,
         "id": "FIPS:31103",
         "maxdate": "2021-11-12",
         "mindate": "1893-01-01",
         "name": "Keya Paha County, NE"
        },
        {
         "datacoverage": 1,
         "id": "FIPS:31105",
         "maxdate": "2021-11-13",
         "mindate": "1893-01-01",
         "name": "Kimball County, NE"
        },
        {
         "datacoverage": 1,
         "id": "FIPS:31107",
         "maxdate": "2021-11-12",
         "mindate": "1893-01-01",
         "name": "Knox County, NE"
        },
        {
         "datacoverage": 1,
         "id": "FIPS:31109",
         "maxdate": "2021-11-13",
         "mindate": "1882-01-01",
         "name": "Lancaster County, NE"
        },
        {
         "datacoverage": 1,
         "id": "FIPS:31111",
         "maxdate": "2021-11-13",
         "mindate": "1893-02-01",
         "name": "Lincoln County, NE"
        },
        {
         "datacoverage": 1,
         "id": "FIPS:31113",
         "maxdate": "2021-11-12",
         "mindate": "1893-01-01",
         "name": "Logan County, NE"
        },
        {
         "datacoverage": 1,
         "id": "FIPS:31115",
         "maxdate": "2021-11-12",
         "mindate": "1921-10-15",
         "name": "Loup County, NE"
        },
        {
         "datacoverage": 1,
         "id": "FIPS:31117",
         "maxdate": "2021-11-12",
         "mindate": "1945-09-07",
         "name": "McPherson County, NE"
        },
        {
         "datacoverage": 1,
         "id": "FIPS:31119",
         "maxdate": "2021-11-13",
         "mindate": "1893-02-01",
         "name": "Madison County, NE"
        },
        {
         "datacoverage": 1,
         "id": "FIPS:31121",
         "maxdate": "2021-11-12",
         "mindate": "1878-01-01",
         "name": "Merrick County, NE"
        },
        {
         "datacoverage": 1,
         "id": "FIPS:31123",
         "maxdate": "2021-11-12",
         "mindate": "1897-05-01",
         "name": "Morrill County, NE"
        },
        {
         "datacoverage": 1,
         "id": "FIPS:31125",
         "maxdate": "2021-11-12",
         "mindate": "1893-01-01",
         "name": "Nance County, NE"
        },
        {
         "datacoverage": 1,
         "id": "FIPS:31127",
         "maxdate": "2021-11-12",
         "mindate": "1893-01-01",
         "name": "Nemaha County, NE"
        },
        {
         "datacoverage": 1,
         "id": "FIPS:31129",
         "maxdate": "2021-11-12",
         "mindate": "1893-01-01",
         "name": "Nuckolls County, NE"
        },
        {
         "datacoverage": 1,
         "id": "FIPS:31131",
         "maxdate": "2021-11-13",
         "mindate": "1893-01-01",
         "name": "Otoe County, NE"
        },
        {
         "datacoverage": 1,
         "id": "FIPS:31133",
         "maxdate": "2021-11-12",
         "mindate": "1894-11-01",
         "name": "Pawnee County, NE"
        },
        {
         "datacoverage": 1,
         "id": "FIPS:31135",
         "maxdate": "2021-11-12",
         "mindate": "1893-01-01",
         "name": "Perkins County, NE"
        },
        {
         "datacoverage": 1,
         "id": "FIPS:31137",
         "maxdate": "2021-11-13",
         "mindate": "1894-11-01",
         "name": "Phelps County, NE"
        },
        {
         "datacoverage": 1,
         "id": "FIPS:31139",
         "maxdate": "2021-11-12",
         "mindate": "1929-07-01",
         "name": "Pierce County, NE"
        },
        {
         "datacoverage": 1,
         "id": "FIPS:31141",
         "maxdate": "2021-11-13",
         "mindate": "1893-01-01",
         "name": "Platte County, NE"
        },
        {
         "datacoverage": 1,
         "id": "FIPS:31143",
         "maxdate": "2021-11-12",
         "mindate": "1895-07-07",
         "name": "Polk County, NE"
        },
        {
         "datacoverage": 1,
         "id": "FIPS:31145",
         "maxdate": "2021-11-13",
         "mindate": "1893-02-01",
         "name": "Red Willow County, NE"
        },
        {
         "datacoverage": 1,
         "id": "FIPS:31147",
         "maxdate": "2021-11-13",
         "mindate": "1894-11-01",
         "name": "Richardson County, NE"
        },
        {
         "datacoverage": 1,
         "id": "FIPS:31149",
         "maxdate": "2021-11-12",
         "mindate": "1893-01-01",
         "name": "Rock County, NE"
        },
        {
         "datacoverage": 1,
         "id": "FIPS:31151",
         "maxdate": "2021-11-12",
         "mindate": "1880-03-01",
         "name": "Saline County, NE"
        },
        {
         "datacoverage": 1,
         "id": "FIPS:31153",
         "maxdate": "2021-11-13",
         "mindate": "1895-05-01",
         "name": "Sarpy County, NE"
        },
        {
         "datacoverage": 1,
         "id": "FIPS:31155",
         "maxdate": "2021-11-13",
         "mindate": "1895-02-01",
         "name": "Saunders County, NE"
        },
        {
         "datacoverage": 1,
         "id": "FIPS:31157",
         "maxdate": "2021-11-13",
         "mindate": "1893-01-01",
         "name": "Scotts Bluff County, NE"
        },
        {
         "datacoverage": 1,
         "id": "FIPS:31159",
         "maxdate": "2021-11-12",
         "mindate": "1893-01-01",
         "name": "Seward County, NE"
        },
        {
         "datacoverage": 1,
         "id": "FIPS:31161",
         "maxdate": "2021-11-12",
         "mindate": "1893-01-01",
         "name": "Sheridan County, NE"
        },
        {
         "datacoverage": 1,
         "id": "FIPS:31163",
         "maxdate": "2021-11-12",
         "mindate": "1893-01-01",
         "name": "Sherman County, NE"
        },
        {
         "datacoverage": 1,
         "id": "FIPS:31165",
         "maxdate": "2021-11-13",
         "mindate": "1893-03-01",
         "name": "Sioux County, NE"
        },
        {
         "datacoverage": 1,
         "id": "FIPS:31167",
         "maxdate": "2021-11-12",
         "mindate": "1893-01-01",
         "name": "Stanton County, NE"
        },
        {
         "datacoverage": 1,
         "id": "FIPS:31169",
         "maxdate": "2021-11-13",
         "mindate": "1893-01-01",
         "name": "Thayer County, NE"
        },
        {
         "datacoverage": 1,
         "id": "FIPS:31171",
         "maxdate": "2021-11-13",
         "mindate": "1893-01-01",
         "name": "Thomas County, NE"
        },
        {
         "datacoverage": 1,
         "id": "FIPS:31173",
         "maxdate": "2021-11-12",
         "mindate": "1900-02-01",
         "name": "Thurston County, NE"
        },
        {
         "datacoverage": 1,
         "id": "FIPS:31175",
         "maxdate": "2021-11-13",
         "mindate": "1893-01-01",
         "name": "Valley County, NE"
        },
        {
         "datacoverage": 1,
         "id": "FIPS:31177",
         "maxdate": "2021-11-13",
         "mindate": "1893-04-01",
         "name": "Washington County, NE"
        },
        {
         "datacoverage": 1,
         "id": "FIPS:31179",
         "maxdate": "2021-11-13",
         "mindate": "1936-07-01",
         "name": "Wayne County, NE"
        },
        {
         "datacoverage": 1,
         "id": "FIPS:31181",
         "maxdate": "2021-11-12",
         "mindate": "1894-11-01",
         "name": "Webster County, NE"
        },
        {
         "datacoverage": 1,
         "id": "FIPS:31183",
         "maxdate": "2021-11-12",
         "mindate": "1893-01-01",
         "name": "Wheeler County, NE"
        },
        {
         "datacoverage": 1,
         "id": "FIPS:31185",
         "maxdate": "2021-11-13",
         "mindate": "1893-01-01",
         "name": "York County, NE"
        },
        {
         "datacoverage": 1,
         "id": "FIPS:32",
         "maxdate": "2021-11-13",
         "mindate": "1877-07-01",
         "name": "Nevada"
        },
        {
         "datacoverage": 1,
         "id": "FIPS:32001",
         "maxdate": "2021-11-13",
         "mindate": "1887-10-01",
         "name": "Churchill County, NV"
        },
        {
         "datacoverage": 1,
         "id": "FIPS:32003",
         "maxdate": "2021-11-13",
         "mindate": "1895-04-01",
         "name": "Clark County, NV"
        },
        {
         "datacoverage": 1,
         "id": "FIPS:32005",
         "maxdate": "2021-11-12",
         "mindate": "1888-02-01",
         "name": "Douglas County, NV"
        },
        {
         "datacoverage": 1,
         "id": "FIPS:32007",
         "maxdate": "2021-11-13",
         "mindate": "1888-01-01",
         "name": "Elko County, NV"
        },
        {
         "datacoverage": 1,
         "id": "FIPS:32009",
         "maxdate": "2021-11-12",
         "mindate": "1890-02-01",
         "name": "Esmeralda County, NV"
        },
        {
         "datacoverage": 1,
         "id": "FIPS:32011",
         "maxdate": "2021-11-13",
         "mindate": "1888-04-01",
         "name": "Eureka County, NV"
        },
        {
         "datacoverage": 1,
         "id": "FIPS:32013",
         "maxdate": "2021-11-13",
         "mindate": "1877-07-01",
         "name": "Humboldt County, NV"
        },
        {
         "datacoverage": 1,
         "id": "FIPS:32015",
         "maxdate": "2021-11-13",
         "mindate": "1887-10-01",
         "name": "Lander County, NV"
        },
        {
         "datacoverage": 1,
         "id": "FIPS:32017",
         "maxdate": "2021-11-12",
         "mindate": "1888-01-01",
         "name": "Lincoln County, NV"
        },
        {
         "datacoverage": 1,
         "id": "FIPS:32019",
         "maxdate": "2021-11-12",
         "mindate": "1891-10-11",
         "name": "Lyon County, NV"
        },
        {
         "datacoverage": 1,
         "id": "FIPS:32021",
         "maxdate": "2021-11-12",
         "mindate": "1887-11-01",
         "name": "Mineral County, NV"
        },
        {
         "datacoverage": 1,
         "id": "FIPS:32023",
         "maxdate": "2021-11-13",
         "mindate": "1889-05-01",
         "name": "Nye County, NV"
        },
        {
         "datacoverage": 1,
         "id": "FIPS:32027",
         "maxdate": "2021-11-13",
         "mindate": "1892-01-01",
         "name": "Pershing County, NV"
        },
        {
         "datacoverage": 1,
         "id": "FIPS:32029",
         "maxdate": "2021-11-12",
         "mindate": "1887-12-01",
         "name": "Storey County, NV"
        },
        {
         "datacoverage": 1,
         "id": "FIPS:32031",
         "maxdate": "2021-11-13",
         "mindate": "1893-01-01",
         "name": "Washoe County, NV"
        },
        {
         "datacoverage": 1,
         "id": "FIPS:32033",
         "maxdate": "2021-11-13",
         "mindate": "1888-04-01",
         "name": "White Pine County, NV"
        },
        {
         "datacoverage": 1,
         "id": "FIPS:32510",
         "maxdate": "2021-11-13",
         "mindate": "1893-01-01",
         "name": "Carson City County, NV"
        },
        {
         "datacoverage": 1,
         "id": "FIPS:33",
         "maxdate": "2021-11-13",
         "mindate": "1868-01-01",
         "name": "New Hampshire"
        },
        {
         "datacoverage": 1,
         "id": "FIPS:33001",
         "maxdate": "2021-11-13",
         "mindate": "1890-01-01",
         "name": "Belknap County, NH"
        },
        {
         "datacoverage": 1,
         "id": "FIPS:33003",
         "maxdate": "2021-11-12",
         "mindate": "1887-09-10",
         "name": "Carroll County, NH"
        },
        {
         "datacoverage": 1,
         "id": "FIPS:33005",
         "maxdate": "2021-11-13",
         "mindate": "1885-05-01",
         "name": "Cheshire County, NH"
        },
        {
         "datacoverage": 1,
         "id": "FIPS:33007",
         "maxdate": "2021-11-13",
         "mindate": "1886-06-01",
         "name": "Coos County, NH"
        },
        {
         "datacoverage": 1,
         "id": "FIPS:33009",
         "maxdate": "2021-11-13",
         "mindate": "1884-11-01",
         "name": "Grafton County, NH"
        },
        {
         "datacoverage": 1,
         "id": "FIPS:33011",
         "maxdate": "2021-11-13",
         "mindate": "1885-02-01",
         "name": "Hillsborough County, NH"
        },
        {
         "datacoverage": 1,
         "id": "FIPS:33013",
         "maxdate": "2021-11-13",
         "mindate": "1868-01-01",
         "name": "Merrimack County, NH"
        },
        {
         "datacoverage": 1,
         "id": "FIPS:33015",
         "maxdate": "2021-11-13",
         "mindate": "1889-04-01",
         "name": "Rockingham County, NH"
        },
        {
         "datacoverage": 1,
         "id": "FIPS:33017",
         "maxdate": "2021-11-13",
         "mindate": "1893-01-01",
         "name": "Strafford County, NH"
        },
        {
         "datacoverage": 1,
         "id": "FIPS:33019",
         "maxdate": "2021-11-12",
         "mindate": "1893-01-01",
         "name": "Sullivan County, NH"
        },
        {
         "datacoverage": 1,
         "id": "FIPS:34",
         "maxdate": "2021-11-13",
         "mindate": "1865-06-01",
         "name": "New Jersey"
        },
        {
         "datacoverage": 1,
         "id": "FIPS:34001",
         "maxdate": "2021-11-13",
         "mindate": "1873-12-10",
         "name": "Atlantic County, NJ"
        },
        {
         "datacoverage": 1,
         "id": "FIPS:34003",
         "maxdate": "2021-11-13",
         "mindate": "1916-03-01",
         "name": "Bergen County, NJ"
        },
        {
         "datacoverage": 1,
         "id": "FIPS:34005",
         "maxdate": "2021-11-13",
         "mindate": "1893-01-01",
         "name": "Burlington County, NJ"
        },
        {
         "datacoverage": 1,
         "id": "FIPS:34007",
         "maxdate": "2021-11-12",
         "mindate": "1893-01-01",
         "name": "Camden County, NJ"
        },
        {
         "datacoverage": 1,
         "id": "FIPS:34009",
         "maxdate": "2021-11-13",
         "mindate": "1893-01-01",
         "name": "Cape May County, NJ"
        },
        {
         "datacoverage": 1,
         "id": "FIPS:34011",
         "maxdate": "2021-11-13",
         "mindate": "1893-01-01",
         "name": "Cumberland County, NJ"
        },
        {
         "datacoverage": 1,
         "id": "FIPS:34013",
         "maxdate": "2021-11-13",
         "mindate": "1893-01-01",
         "name": "Essex County, NJ"
        },
        {
         "datacoverage": 1,
         "id": "FIPS:34015",
         "maxdate": "2021-11-12",
         "mindate": "1896-11-01",
         "name": "Gloucester County, NJ"
        },
        {
         "datacoverage": 1,
         "id": "FIPS:34017",
         "maxdate": "2021-11-12",
         "mindate": "1905-12-01",
         "name": "Hudson County, NJ"
        },
        {
         "datacoverage": 1,
         "id": "FIPS:34019",
         "maxdate": "2021-11-12",
         "mindate": "1893-01-01",
         "name": "Hunterdon County, NJ"
        },
        {
         "datacoverage": 1,
         "id": "FIPS:34021",
         "maxdate": "2021-11-13",
         "mindate": "1865-06-01",
         "name": "Mercer County, NJ"
        },
        {
         "datacoverage": 1,
         "id": "FIPS:34023",
         "maxdate": "2021-11-12",
         "mindate": "1893-01-01",
         "name": "Middlesex County, NJ"
        },
        {
         "datacoverage": 1,
         "id": "FIPS:34025",
         "maxdate": "2021-11-13",
         "mindate": "1893-01-01",
         "name": "Monmouth County, NJ"
        },
        {
         "datacoverage": 1,
         "id": "FIPS:34027",
         "maxdate": "2021-11-13",
         "mindate": "1893-01-01",
         "name": "Morris County, NJ"
        },
        {
         "datacoverage": 1,
         "id": "FIPS:34029",
         "maxdate": "2021-11-13",
         "mindate": "1893-01-01",
         "name": "Ocean County, NJ"
        },
        {
         "datacoverage": 1,
         "id": "FIPS:34031",
         "maxdate": "2021-11-12",
         "mindate": "1893-01-01",
         "name": "Passaic County, NJ"
        },
        {
         "datacoverage": 1,
         "id": "FIPS:34033",
         "maxdate": "2021-11-12",
         "mindate": "1876-12-24",
         "name": "Salem County, NJ"
        },
        {
         "datacoverage": 1,
         "id": "FIPS:34035",
         "maxdate": "2021-11-13",
         "mindate": "1893-01-01",
         "name": "Somerset County, NJ"
        },
        {
         "datacoverage": 1,
         "id": "FIPS:34037",
         "maxdate": "2021-11-13",
         "mindate": "1893-01-01",
         "name": "Sussex County, NJ"
        },
        {
         "datacoverage": 1,
         "id": "FIPS:34039",
         "maxdate": "2021-11-13",
         "mindate": "1893-01-01",
         "name": "Union County, NJ"
        },
        {
         "datacoverage": 1,
         "id": "FIPS:34041",
         "maxdate": "2021-11-12",
         "mindate": "1893-01-01",
         "name": "Warren County, NJ"
        },
        {
         "datacoverage": 1,
         "id": "FIPS:35",
         "maxdate": "2021-11-13",
         "mindate": "1870-01-01",
         "name": "New Mexico"
        },
        {
         "datacoverage": 1,
         "id": "FIPS:35001",
         "maxdate": "2021-11-13",
         "mindate": "1910-04-01",
         "name": "Bernalillo County, NM"
        },
        {
         "datacoverage": 1,
         "id": "FIPS:35003",
         "maxdate": "2021-11-12",
         "mindate": "1894-04-01",
         "name": "Catron County, NM"
        },
        {
         "datacoverage": 1,
         "id": "FIPS:35005",
         "maxdate": "2021-11-13",
         "mindate": "1894-05-01",
         "name": "Chaves County, NM"
        },
        {
         "datacoverage": 1,
         "id": "FIPS:35006",
         "maxdate": "2021-11-13",
         "mindate": "1896-05-01",
         "name": "Cibola County, NM"
        },
        {
         "datacoverage": 1,
         "id": "FIPS:35007",
         "maxdate": "2021-11-13",
         "mindate": "1892-01-01",
         "name": "Colfax County, NM"
        },
        {
         "datacoverage": 1,
         "id": "FIPS:35009",
         "maxdate": "2021-11-13",
         "mindate": "1908-07-01",
         "name": "Curry County, NM"
        },
        {
         "datacoverage": 1,
         "id": "FIPS:35011",
         "maxdate": "2021-11-12",
         "mindate": "1905-02-01",
         "name": "De Baca County, NM"
        },
        {
         "datacoverage": 1,
         "id": "FIPS:35013",
         "maxdate": "2021-11-13",
         "mindate": "1870-01-01",
         "name": "Dona Ana County, NM"
        },
        {
         "datacoverage": 1,
         "id": "FIPS:35015",
         "maxdate": "2021-11-13",
         "mindate": "1895-07-27",
         "name": "Eddy County, NM"
        },
        {
         "datacoverage": 1,
         "id": "FIPS:35017",
         "maxdate": "2021-11-13",
         "mindate": "1894-11-01",
         "name": "Grant County, NM"
        },
        {
         "datacoverage": 1,
         "id": "FIPS:35019",
         "maxdate": "2021-11-12",
         "mindate": "1895-04-01",
         "name": "Guadalupe County, NM"
        },
        {
         "datacoverage": 1,
         "id": "FIPS:35021",
         "maxdate": "2021-11-12",
         "mindate": "1893-01-01",
         "name": "Harding County, NM"
        },
        {
         "datacoverage": 1,
         "id": "FIPS:35023",
         "maxdate": "2021-11-12",
         "mindate": "1892-10-01",
         "name": "Hidalgo County, NM"
        },
        {
         "datacoverage": 1,
         "id": "FIPS:35025",
         "maxdate": "2021-11-13",
         "mindate": "1906-01-08",
         "name": "Lea County, NM"
        },
        {
         "datacoverage": 1,
         "id": "FIPS:35027",
         "maxdate": "2021-11-13",
         "mindate": "1896-05-01",
         "name": "Lincoln County, NM"
        },
        {
         "datacoverage": 1,
         "id": "FIPS:35028",
         "maxdate": "2021-11-13",
         "mindate": "1910-11-01",
         "name": "Los Alamos County, NM"
        },
        {
         "datacoverage": 1,
         "id": "FIPS:35029",
         "maxdate": "2021-11-13",
         "mindate": "1892-10-01",
         "name": "Luna County, NM"
        },
        {
         "datacoverage": 1,
         "id": "FIPS:35031",
         "maxdate": "2021-11-13",
         "mindate": "1892-12-01",
         "name": "McKinley County, NM"
        },
        {
         "datacoverage": 1,
         "id": "FIPS:35033",
         "maxdate": "2021-11-12",
         "mindate": "1893-01-01",
         "name": "Mora County, NM"
        },
        {
         "datacoverage": 1,
         "id": "FIPS:35035",
         "maxdate": "2021-11-13",
         "mindate": "1892-01-01",
         "name": "Otero County, NM"
        },
        {
         "datacoverage": 1,
         "id": "FIPS:35037",
         "maxdate": "2021-11-13",
         "mindate": "1904-12-16",
         "name": "Quay County, NM"
        },
        {
         "datacoverage": 1,
         "id": "FIPS:35039",
         "maxdate": "2021-11-12",
         "mindate": "1893-01-01",
         "name": "Rio Arriba County, NM"
        },
        {
         "datacoverage": 1,
         "id": "FIPS:35041",
         "maxdate": "2021-11-12",
         "mindate": "1905-01-14",
         "name": "Roosevelt County, NM"
        },
        {
         "datacoverage": 1,
         "id": "FIPS:35043",
         "maxdate": "2021-11-13",
         "mindate": "1895-05-20",
         "name": "Sandoval County, NM"
        },
        {
         "datacoverage": 1,
         "id": "FIPS:35045",
         "maxdate": "2021-11-13",
         "mindate": "1892-12-01",
         "name": "San Juan County, NM"
        },
        {
         "datacoverage": 1,
         "id": "FIPS:35047",
         "maxdate": "2021-11-12",
         "mindate": "1892-12-01",
         "name": "San Miguel County, NM"
        },
        {
         "datacoverage": 1,
         "id": "FIPS:35049",
         "maxdate": "2021-11-13",
         "mindate": "1871-11-18",
         "name": "Santa Fe County, NM"
        },
        {
         "datacoverage": 1,
         "id": "FIPS:35051",
         "maxdate": "2021-11-13",
         "mindate": "1889-06-01",
         "name": "Sierra County, NM"
        },
        {
         "datacoverage": 1,
         "id": "FIPS:35053",
         "maxdate": "2021-11-13",
         "mindate": "1893-01-01",
         "name": "Socorro County, NM"
        },
        {
         "datacoverage": 1,
         "id": "FIPS:35055",
         "maxdate": "2021-11-13",
         "mindate": "1892-12-01",
         "name": "Taos County, NM"
        },
        {
         "datacoverage": 1,
         "id": "FIPS:35057",
         "maxdate": "2021-11-13",
         "mindate": "1902-05-01",
         "name": "Torrance County, NM"
        },
        {
         "datacoverage": 1,
         "id": "FIPS:35059",
         "maxdate": "2021-11-13",
         "mindate": "1892-12-01",
         "name": "Union County, NM"
        },
        {
         "datacoverage": 1,
         "id": "FIPS:35061",
         "maxdate": "2021-11-12",
         "mindate": "1892-12-01",
         "name": "Valencia County, NM"
        },
        {
         "datacoverage": 1,
         "id": "FIPS:36",
         "maxdate": "2021-11-13",
         "mindate": "1869-01-01",
         "name": "New York"
        },
        {
         "datacoverage": 1,
         "id": "FIPS:36001",
         "maxdate": "2021-11-13",
         "mindate": "1898-08-01",
         "name": "Albany County, NY"
        },
        {
         "datacoverage": 1,
         "id": "FIPS:36003",
         "maxdate": "2021-11-13",
         "mindate": "1891-08-01",
         "name": "Allegany County, NY"
        },
        {
         "datacoverage": 1,
         "id": "FIPS:36005",
         "maxdate": "2021-11-12",
         "mindate": "1939-06-01",
         "name": "Bronx County, NY"
        },
        {
         "datacoverage": 1,
         "id": "FIPS:36007",
         "maxdate": "2021-11-13",
         "mindate": "1893-01-01",
         "name": "Broome County, NY"
        },
        {
         "datacoverage": 1,
         "id": "FIPS:36009",
         "maxdate": "2021-11-12",
         "mindate": "1896-10-17",
         "name": "Cattaraugus County, NY"
        },
        {
         "datacoverage": 1,
         "id": "FIPS:36011",
         "maxdate": "2021-11-12",
         "mindate": "1893-01-01",
         "name": "Cayuga County, NY"
        },
        {
         "datacoverage": 1,
         "id": "FIPS:36013",
         "maxdate": "2021-11-13",
         "mindate": "1893-03-01",
         "name": "Chautauqua County, NY"
        },
        {
         "datacoverage": 1,
         "id": "FIPS:36015",
         "maxdate": "2021-11-13",
         "mindate": "1893-01-01",
         "name": "Chemung County, NY"
        },
        {
         "datacoverage": 1,
         "id": "FIPS:36017",
         "maxdate": "2021-11-12",
         "mindate": "1893-01-01",
         "name": "Chenango County, NY"
        },
        {
         "datacoverage": 1,
         "id": "FIPS:36019",
         "maxdate": "2021-11-13",
         "mindate": "1898-03-01",
         "name": "Clinton County, NY"
        },
        {
         "datacoverage": 1,
         "id": "FIPS:36021",
         "maxdate": "2021-11-12",
         "mindate": "1893-01-01",
         "name": "Columbia County, NY"
        },
        {
         "datacoverage": 1,
         "id": "FIPS:36023",
         "maxdate": "2021-11-13",
         "mindate": "1892-03-01",
         "name": "Cortland County, NY"
        },
        {
         "datacoverage": 1,
         "id": "FIPS:36025",
         "maxdate": "2021-11-12",
         "mindate": "1900-03-01",
         "name": "Delaware County, NY"
        },
        {
         "datacoverage": 1,
         "id": "FIPS:36027",
         "maxdate": "2021-11-13",
         "mindate": "1893-01-01",
         "name": "Dutchess County, NY"
        },
        {
         "datacoverage": 1,
         "id": "FIPS:36029",
         "maxdate": "2021-11-13",
         "mindate": "1871-01-01",
         "name": "Erie County, NY"
        },
        {
         "datacoverage": 1,
         "id": "FIPS:36031",
         "maxdate": "2021-11-12",
         "mindate": "1893-12-01",
         "name": "Essex County, NY"
        },
        {
         "datacoverage": 1,
         "id": "FIPS:36033",
         "maxdate": "2021-11-13",
         "mindate": "1893-01-01",
         "name": "Franklin County, NY"
        },
        {
         "datacoverage": 1,
         "id": "FIPS:36035",
         "maxdate": "2021-11-12",
         "mindate": "1893-01-01",
         "name": "Fulton County, NY"
        },
        {
         "datacoverage": 1,
         "id": "FIPS:36037",
         "maxdate": "2021-11-12",
         "mindate": "1893-01-01",
         "name": "Genesee County, NY"
        },
        {
         "datacoverage": 1,
         "id": "FIPS:36039",
         "maxdate": "2021-11-12",
         "mindate": "1896-07-01",
         "name": "Greene County, NY"
        },
        {
         "datacoverage": 1,
         "id": "FIPS:36041",
         "maxdate": "2021-11-12",
         "mindate": "1892-11-01",
         "name": "Hamilton County, NY"
        },
        {
         "datacoverage": 1,
         "id": "FIPS:36043",
         "maxdate": "2021-11-12",
         "mindate": "1896-09-01",
         "name": "Herkimer County, NY"
        },
        {
         "datacoverage": 1,
         "id": "FIPS:36045",
         "maxdate": "2021-11-13",
         "mindate": "1890-04-01",
         "name": "Jefferson County, NY"
        },
        {
         "datacoverage": 1,
         "id": "FIPS:36047",
         "maxdate": "2021-11-12",
         "mindate": "1872-06-01",
         "name": "Kings County, NY"
        },
        {
         "datacoverage": 1,
         "id": "FIPS:36049",
         "maxdate": "2021-11-12",
         "mindate": "1891-11-01",
         "name": "Lewis County, NY"
        },
        {
         "datacoverage": 1,
         "id": "FIPS:36051",
         "maxdate": "2021-11-13",
         "mindate": "1893-01-01",
         "name": "Livingston County, NY"
        },
        {
         "datacoverage": 1,
         "id": "FIPS:36053",
         "maxdate": "2021-11-12",
         "mindate": "1893-01-01",
         "name": "Madison County, NY"
        },
        {
         "datacoverage": 1,
         "id": "FIPS:36055",
         "maxdate": "2021-11-13",
         "mindate": "1893-01-01",
         "name": "Monroe County, NY"
        },
        {
         "datacoverage": 1,
         "id": "FIPS:36057",
         "maxdate": "2021-11-12",
         "mindate": "1896-11-01",
         "name": "Montgomery County, NY"
        },
        {
         "datacoverage": 1,
         "id": "FIPS:36059",
         "maxdate": "2021-11-12",
         "mindate": "1903-05-01",
         "name": "Nassau County, NY"
        },
        {
         "datacoverage": 1,
         "id": "FIPS:36061",
         "maxdate": "2021-11-13",
         "mindate": "1869-01-01",
         "name": "New York County, NY"
        },
        {
         "datacoverage": 1,
         "id": "FIPS:36063",
         "maxdate": "2021-11-13",
         "mindate": "1893-01-01",
         "name": "Niagara County, NY"
        },
        {
         "datacoverage": 1,
         "id": "FIPS:36065",
         "maxdate": "2021-11-13",
         "mindate": "1893-01-01",
         "name": "Oneida County, NY"
        },
        {
         "datacoverage": 1,
         "id": "FIPS:36067",
         "maxdate": "2021-11-13",
         "mindate": "1893-01-01",
         "name": "Onondaga County, NY"
        },
        {
         "datacoverage": 1,
         "id": "FIPS:36069",
         "maxdate": "2021-11-12",
         "mindate": "1883-01-01",
         "name": "Ontario County, NY"
        },
        {
         "datacoverage": 1,
         "id": "FIPS:36071",
         "maxdate": "2021-11-13",
         "mindate": "1893-01-01",
         "name": "Orange County, NY"
        },
        {
         "datacoverage": 1,
         "id": "FIPS:36073",
         "maxdate": "2021-11-12",
         "mindate": "1897-02-01",
         "name": "Orleans County, NY"
        },
        {
         "datacoverage": 1,
         "id": "FIPS:36075",
         "maxdate": "2021-11-13",
         "mindate": "1893-01-01",
         "name": "Oswego County, NY"
        },
        {
         "datacoverage": 1,
         "id": "FIPS:36077",
         "maxdate": "2021-11-12",
         "mindate": "1893-01-01",
         "name": "Otsego County, NY"
        },
        {
         "datacoverage": 1,
         "id": "FIPS:36079",
         "maxdate": "2021-11-12",
         "mindate": "1888-01-01",
         "name": "Putnam County, NY"
        },
        {
         "datacoverage": 1,
         "id": "FIPS:36081",
         "maxdate": "2021-11-13",
         "mindate": "1916-02-01",
         "name": "Queens County, NY"
        },
        {
         "datacoverage": 1,
         "id": "FIPS:36083",
         "maxdate": "2021-11-12",
         "mindate": "1900-03-01",
         "name": "Rensselaer County, NY"
        },
        {
         "datacoverage": 1,
         "id": "FIPS:36085",
         "maxdate": "2021-11-12",
         "mindate": "1948-05-01",
         "name": "Richmond County, NY"
        },
        {
         "datacoverage": 1,
         "id": "FIPS:36087",
         "maxdate": "2021-11-12",
         "mindate": "1940-06-24",
         "name": "Rockland County, NY"
        },
        {
         "datacoverage": 1,
         "id": "FIPS:36089",
         "maxdate": "2021-11-13",
         "mindate": "1893-01-01",
         "name": "St. Lawrence County, NY"
        },
        {
         "datacoverage": 1,
         "id": "FIPS:36091",
         "maxdate": "2021-11-12",
         "mindate": "1895-02-01",
         "name": "Saratoga County, NY"
        },
        {
         "datacoverage": 1,
         "id": "FIPS:36093",
         "maxdate": "2021-11-13",
         "mindate": "1898-11-01",
         "name": "Schenectady County, NY"
        },
        {
         "datacoverage": 1,
         "id": "FIPS:36095",
         "maxdate": "2021-11-12",
         "mindate": "1899-03-01",
         "name": "Schoharie County, NY"
        },
        {
         "datacoverage": 1,
         "id": "FIPS:36097",
         "maxdate": "2021-11-12",
         "mindate": "1893-01-01",
         "name": "Schuyler County, NY"
        },
        {
         "datacoverage": 1,
         "id": "FIPS:36099",
         "maxdate": "2021-11-12",
         "mindate": "1893-02-01",
         "name": "Seneca County, NY"
        },
        {
         "datacoverage": 1,
         "id": "FIPS:36101",
         "maxdate": "2021-11-12",
         "mindate": "1893-01-01",
         "name": "Steuben County, NY"
        },
        {
         "datacoverage": 1,
         "id": "FIPS:36103",
         "maxdate": "2021-11-13",
         "mindate": "1893-01-01",
         "name": "Suffolk County, NY"
        },
        {
         "datacoverage": 1,
         "id": "FIPS:36105",
         "maxdate": "2021-11-13",
         "mindate": "1898-02-01",
         "name": "Sullivan County, NY"
        },
        {
         "datacoverage": 1,
         "id": "FIPS:36107",
         "maxdate": "2021-11-12",
         "mindate": "1896-10-17",
         "name": "Tioga County, NY"
        },
        {
         "datacoverage": 1,
         "id": "FIPS:36109",
         "maxdate": "2021-11-13",
         "mindate": "1918-08-01",
         "name": "Tompkins County, NY"
        },
        {
         "datacoverage": 1,
         "id": "FIPS:36111",
         "maxdate": "2021-11-12",
         "mindate": "1892-05-01",
         "name": "Ulster County, NY"
        },
        {
         "datacoverage": 1,
         "id": "FIPS:36113",
         "maxdate": "2021-11-13",
         "mindate": "1893-01-01",
         "name": "Warren County, NY"
        },
        {
         "datacoverage": 1,
         "id": "FIPS:36115",
         "maxdate": "2021-11-12",
         "mindate": "1897-08-01",
         "name": "Washington County, NY"
        },
        {
         "datacoverage": 1,
         "id": "FIPS:36117",
         "maxdate": "2021-11-12",
         "mindate": "1892-12-01",
         "name": "Wayne County, NY"
        },
        {
         "datacoverage": 1,
         "id": "FIPS:36119",
         "maxdate": "2021-11-13",
         "mindate": "1890-03-01",
         "name": "Westchester County, NY"
        },
        {
         "datacoverage": 1,
         "id": "FIPS:36121",
         "maxdate": "2021-11-12",
         "mindate": "1893-01-01",
         "name": "Wyoming County, NY"
        },
        {
         "datacoverage": 1,
         "id": "FIPS:36123",
         "maxdate": "2021-11-13",
         "mindate": "1897-08-01",
         "name": "Yates County, NY"
        },
        {
         "datacoverage": 1,
         "id": "FIPS:37",
         "maxdate": "2021-11-13",
         "mindate": "1869-03-01",
         "name": "North Carolina"
        },
        {
         "datacoverage": 1,
         "id": "FIPS:37001",
         "maxdate": "2021-11-13",
         "mindate": "1905-01-01",
         "name": "Alamance County, NC"
        },
        {
         "datacoverage": 1,
         "id": "FIPS:37003",
         "maxdate": "2021-11-12",
         "mindate": "1948-09-01",
         "name": "Alexander County, NC"
        },
        {
         "datacoverage": 1,
         "id": "FIPS:37005",
         "maxdate": "2021-11-12",
         "mindate": "1942-01-20",
         "name": "Alleghany County, NC"
        },
        {
         "datacoverage": 1,
         "id": "FIPS:37007",
         "maxdate": "2021-11-13",
         "mindate": "1938-06-01",
         "name": "Anson County, NC"
        },
        {
         "datacoverage": 1,
         "id": "FIPS:37009",
         "maxdate": "2021-11-13",
         "mindate": "1917-10-01",
         "name": "Ashe County, NC"
        },
        {
         "datacoverage": 1,
         "id": "FIPS:37011",
         "maxdate": "2021-11-12",
         "mindate": "1907-09-01",
         "name": "Avery County, NC"
        },
        {
         "datacoverage": 1,
         "id": "FIPS:37013",
         "maxdate": "2021-11-13",
         "mindate": "1900-02-01",
         "name": "Beaufort County, NC"
        },
        {
         "datacoverage": 1,
         "id": "FIPS:37015",
         "maxdate": "2021-11-12",
         "mindate": "1954-03-01",
         "name": "Bertie County, NC"
        },
        {
         "datacoverage": 1,
         "id": "FIPS:37017",
         "maxdate": "2021-11-13",
         "mindate": "1911-02-01",
         "name": "Bladen County, NC"
        },
        {
         "datacoverage": 1,
         "id": "FIPS:37019",
         "maxdate": "2021-11-13",
         "mindate": "1961-12-01",
         "name": "Brunswick County, NC"
        },
        {
         "datacoverage": 1,
         "id": "FIPS:37021",
         "maxdate": "2021-11-13",
         "mindate": "1869-03-01",
         "name": "Buncombe County, NC"
        },
        {
         "datacoverage": 1,
         "id": "FIPS:37023",
         "maxdate": "2021-11-12",
         "mindate": "1889-02-01",
         "name": "Burke County, NC"
        },
        {
         "datacoverage": 1,
         "id": "FIPS:37025",
         "maxdate": "2021-11-13",
         "mindate": "1893-01-01",
         "name": "Cabarrus County, NC"
        },
        {
         "datacoverage": 1,
         "id": "FIPS:37027",
         "maxdate": "2021-11-13",
         "mindate": "1871-11-01",
         "name": "Caldwell County, NC"
        },
        {
         "datacoverage": 1,
         "id": "FIPS:37029",
         "maxdate": "2021-11-12",
         "mindate": "1911-04-01",
         "name": "Camden County, NC"
        },
        {
         "datacoverage": 1,
         "id": "FIPS:37031",
         "maxdate": "2021-11-13",
         "mindate": "1896-02-01",
         "name": "Carteret County, NC"
        },
        {
         "datacoverage": 1,
         "id": "FIPS:37033",
         "maxdate": "2021-11-12",
         "mindate": "1891-04-01",
         "name": "Caswell County, NC"
        },
        {
         "datacoverage": 1,
         "id": "FIPS:37035",
         "maxdate": "2021-11-13",
         "mindate": "1913-01-01",
         "name": "Catawba County, NC"
        },
        {
         "datacoverage": 1,
         "id": "FIPS:37037",
         "maxdate": "2021-11-12",
         "mindate": "1893-01-01",
         "name": "Chatham County, NC"
        },
        {
         "datacoverage": 1,
         "id": "FIPS:37039",
         "maxdate": "2021-11-13",
         "mindate": "1872-03-01",
         "name": "Cherokee County, NC"
        },
        {
         "datacoverage": 1,
         "id": "FIPS:37041",
         "maxdate": "2021-11-13",
         "mindate": "1896-01-01",
         "name": "Chowan County, NC"
        },
        {
         "datacoverage": 1,
         "id": "FIPS:37043",
         "maxdate": "2021-11-12",
         "mindate": "1948-01-01",
         "name": "Clay County, NC"
        },
        {
         "datacoverage": 1,
         "id": "FIPS:37045",
         "maxdate": "2021-11-13",
         "mindate": "1893-02-08",
         "name": "Cleveland County, NC"
        },
        {
         "datacoverage": 1,
         "id": "FIPS:37047",
         "maxdate": "2021-11-13",
         "mindate": "1903-07-01",
         "name": "Columbus County, NC"
        },
        {
         "datacoverage": 1,
         "id": "FIPS:37049",
         "maxdate": "2021-11-13",
         "mindate": "1943-02-01",
         "name": "Craven County, NC"
        },
        {
         "datacoverage": 1,
         "id": "FIPS:37051",
         "maxdate": "2021-11-13",
         "mindate": "1871-11-01",
         "name": "Cumberland County, NC"
        },
        {
         "datacoverage": 1,
         "id": "FIPS:37053",
         "maxdate": "2021-11-13",
         "mindate": "1995-05-04",
         "name": "Currituck County, NC"
        },
        {
         "datacoverage": 1,
         "id": "FIPS:37055",
         "maxdate": "2021-11-13",
         "mindate": "1893-01-01",
         "name": "Dare County, NC"
        },
        {
         "datacoverage": 1,
         "id": "FIPS:37057",
         "maxdate": "2021-11-13",
         "mindate": "1938-06-01",
         "name": "Davidson County, NC"
        },
        {
         "datacoverage": 1,
         "id": "FIPS:37059",
         "maxdate": "2021-11-12",
         "mindate": "1893-01-01",
         "name": "Davie County, NC"
        },
        {
         "datacoverage": 1,
         "id": "FIPS:37061",
         "maxdate": "2021-11-13",
         "mindate": "1893-03-01",
         "name": "Duplin County, NC"
        },
        {
         "datacoverage": 1,
         "id": "FIPS:37063",
         "maxdate": "2021-11-12",
         "mindate": "1891-01-01",
         "name": "Durham County, NC"
        },
        {
         "datacoverage": 1,
         "id": "FIPS:37065",
         "maxdate": "2021-11-13",
         "mindate": "1871-08-01",
         "name": "Edgecombe County, NC"
        },
        {
         "datacoverage": 1,
         "id": "FIPS:37067",
         "maxdate": "2021-11-13",
         "mindate": "1893-01-01",
         "name": "Forsyth County, NC"
        },
        {
         "datacoverage": 1,
         "id": "FIPS:37069",
         "maxdate": "2021-11-13",
         "mindate": "1893-01-01",
         "name": "Franklin County, NC"
        },
        {
         "datacoverage": 1,
         "id": "FIPS:37071",
         "maxdate": "2021-11-13",
         "mindate": "1885-10-01",
         "name": "Gaston County, NC"
        },
        {
         "datacoverage": 1,
         "id": "FIPS:37073",
         "maxdate": "2021-11-12",
         "mindate": "1948-05-01",
         "name": "Gates County, NC"
        },
        {
         "datacoverage": 1,
         "id": "FIPS:37075",
         "maxdate": "2021-11-12",
         "mindate": "1948-01-01",
         "name": "Graham County, NC"
        },
        {
         "datacoverage": 1,
         "id": "FIPS:37077",
         "maxdate": "2021-11-13",
         "mindate": "1920-04-01",
         "name": "Granville County, NC"
        },
        {
         "datacoverage": 1,
         "id": "FIPS:37079",
         "maxdate": "2021-11-12",
         "mindate": "1995-01-01",
         "name": "Greene County, NC"
        },
        {
         "datacoverage": 1,
         "id": "FIPS:37081",
         "maxdate": "2021-11-13",
         "mindate": "1892-04-01",
         "name": "Guilford County, NC"
        },
        {
         "datacoverage": 1,
         "id": "FIPS:37083",
         "maxdate": "2021-11-13",
         "mindate": "1893-01-01",
         "name": "Halifax County, NC"
        },
        {
         "datacoverage": 1,
         "id": "FIPS:37085",
         "maxdate": "2021-11-13",
         "mindate": "1962-09-01",
         "name": "Harnett County, NC"
        },
        {
         "datacoverage": 1,
         "id": "FIPS:37087",
         "maxdate": "2021-11-12",
         "mindate": "1891-08-01",
         "name": "Haywood County, NC"
        },
        {
         "datacoverage": 1,
         "id": "FIPS:37089",
         "maxdate": "2021-11-13",
         "mindate": "1898-06-01",
         "name": "Henderson County, NC"
        },
        {
         "datacoverage": 1,
         "id": "FIPS:37091",
         "maxdate": "2021-11-13",
         "mindate": "1894-12-01",
         "name": "Hertford County, NC"
        },
        {
         "datacoverage": 1,
         "id": "FIPS:37093",
         "maxdate": "2021-11-12",
         "mindate": "1914-03-27",
         "name": "Hoke County, NC"
        },
        {
         "datacoverage": 1,
         "id": "FIPS:37095",
         "maxdate": "2021-11-12",
         "mindate": "1911-06-01",
         "name": "Hyde County, NC"
        },
        {
         "datacoverage": 1,
         "id": "FIPS:37097",
         "maxdate": "2021-11-13",
         "mindate": "1895-08-01",
         "name": "Iredell County, NC"
        },
        {
         "datacoverage": 1,
         "id": "FIPS:37099",
         "maxdate": "2021-11-12",
         "mindate": "1909-12-01",
         "name": "Jackson County, NC"
        },
        {
         "datacoverage": 1,
         "id": "FIPS:37101",
         "maxdate": "2021-11-13",
         "mindate": "1892-07-01",
         "name": "Johnston County, NC"
        },
        {
         "datacoverage": 1,
         "id": "FIPS:37103",
         "maxdate": "2021-11-12",
         "mindate": "1955-10-17",
         "name": "Jones County, NC"
        },
        {
         "datacoverage": 1,
         "id": "FIPS:37105",
         "maxdate": "2021-11-13",
         "mindate": "1961-06-01",
         "name": "Lee County, NC"
        },
        {
         "datacoverage": 1,
         "id": "FIPS:37107",
         "maxdate": "2021-11-13",
         "mindate": "1899-09-01",
         "name": "Lenoir County, NC"
        },
        {
         "datacoverage": 1,
         "id": "FIPS:37109",
         "maxdate": "2021-11-13",
         "mindate": "1952-04-01",
         "name": "Lincoln County, NC"
        },
        {
         "datacoverage": 1,
         "id": "FIPS:37111",
         "maxdate": "2021-11-12",
         "mindate": "1893-01-01",
         "name": "McDowell County, NC"
        },
        {
         "datacoverage": 1,
         "id": "FIPS:37113",
         "maxdate": "2021-11-13",
         "mindate": "1877-02-01",
         "name": "Macon County, NC"
        },
        {
         "datacoverage": 1,
         "id": "FIPS:37115",
         "maxdate": "2021-11-12",
         "mindate": "1898-11-01",
         "name": "Madison County, NC"
        },
        {
         "datacoverage": 1,
         "id": "FIPS:37117",
         "maxdate": "2021-11-12",
         "mindate": "1930-07-01",
         "name": "Martin County, NC"
        },
        {
         "datacoverage": 1,
         "id": "FIPS:37119",
         "maxdate": "2021-11-13",
         "mindate": "1893-01-01",
         "name": "Mecklenburg County, NC"
        },
        {
         "datacoverage": 1,
         "id": "FIPS:37121",
         "maxdate": "2021-11-12",
         "mindate": "1938-11-29",
         "name": "Mitchell County, NC"
        },
        {
         "datacoverage": 1,
         "id": "FIPS:37123",
         "maxdate": "2021-11-12",
         "mindate": "1948-09-01",
         "name": "Montgomery County, NC"
        },
        {
         "datacoverage": 1,
         "id": "FIPS:37125",
         "maxdate": "2021-11-13",
         "mindate": "1896-09-01",
         "name": "Moore County, NC"
        },
        {
         "datacoverage": 1,
         "id": "FIPS:37127",
         "maxdate": "2021-11-13",
         "mindate": "1904-05-10",
         "name": "Nash County, NC"
        },
        {
         "datacoverage": 1,
         "id": "FIPS:37129",
         "maxdate": "2021-11-13",
         "mindate": "1870-12-01",
         "name": "New Hanover County, NC"
        },
        {
         "datacoverage": 1,
         "id": "FIPS:37131",
         "maxdate": "2021-11-12",
         "mindate": "1904-03-01",
         "name": "Northampton County, NC"
        },
        {
         "datacoverage": 1,
         "id": "FIPS:37133",
         "maxdate": "2021-11-13",
         "mindate": "1921-09-01",
         "name": "Onslow County, NC"
        },
        {
         "datacoverage": 1,
         "id": "FIPS:37135",
         "maxdate": "2021-11-13",
         "mindate": "1893-01-01",
         "name": "Orange County, NC"
        },
        {
         "datacoverage": 1,
         "id": "FIPS:37137",
         "maxdate": "2021-11-12",
         "mindate": "1922-10-01",
         "name": "Pamlico County, NC"
        },
        {
         "datacoverage": 1,
         "id": "FIPS:37139",
         "maxdate": "2021-11-13",
         "mindate": "1945-01-01",
         "name": "Pasquotank County, NC"
        },
        {
         "datacoverage": 1,
         "id": "FIPS:37141",
         "maxdate": "2021-11-12",
         "mindate": "1948-08-01",
         "name": "Pender County, NC"
        },
        {
         "datacoverage": 1,
         "id": "FIPS:37143",
         "maxdate": "2021-11-12",
         "mindate": "1945-03-01",
         "name": "Perquimans County, NC"
        },
        {
         "datacoverage": 1,
         "id": "FIPS:37145",
         "maxdate": "2021-11-13",
         "mindate": "1893-01-01",
         "name": "Person County, NC"
        },
        {
         "datacoverage": 1,
         "id": "FIPS:37147",
         "maxdate": "2021-11-13",
         "mindate": "1875-03-01",
         "name": "Pitt County, NC"
        },
        {
         "datacoverage": 1,
         "id": "FIPS:37149",
         "maxdate": "2021-11-12",
         "mindate": "1917-01-01",
         "name": "Polk County, NC"
        },
        {
         "datacoverage": 1,
         "id": "FIPS:37151",
         "maxdate": "2021-11-13",
         "mindate": "1905-01-01",
         "name": "Randolph County, NC"
        },
        {
         "datacoverage": 1,
         "id": "FIPS:37153",
         "maxdate": "2021-11-13",
         "mindate": "1900-01-01",
         "name": "Richmond County, NC"
        },
        {
         "datacoverage": 1,
         "id": "FIPS:37155",
         "maxdate": "2021-11-12",
         "mindate": "1901-04-01",
         "name": "Robeson County, NC"
        },
        {
         "datacoverage": 1,
         "id": "FIPS:37157",
         "maxdate": "2021-11-13",
         "mindate": "1901-11-01",
         "name": "Rockingham County, NC"
        },
        {
         "datacoverage": 1,
         "id": "FIPS:37159",
         "maxdate": "2021-11-13",
         "mindate": "1893-01-01",
         "name": "Rowan County, NC"
        },
        {
         "datacoverage": 1,
         "id": "FIPS:37161",
         "maxdate": "2021-11-13",
         "mindate": "1900-01-01",
         "name": "Rutherford County, NC"
        },
        {
         "datacoverage": 1,
         "id": "FIPS:37163",
         "maxdate": "2021-11-13",
         "mindate": "1907-06-01",
         "name": "Sampson County, NC"
        },
        {
         "datacoverage": 1,
         "id": "FIPS:37165",
         "maxdate": "2021-11-13",
         "mindate": "1946-05-01",
         "name": "Scotland County, NC"
        },
        {
         "datacoverage": 1,
         "id": "FIPS:37167",
         "maxdate": "2021-11-13",
         "mindate": "1911-06-01",
         "name": "Stanly County, NC"
        },
        {
         "datacoverage": 1,
         "id": "FIPS:37169",
         "maxdate": "2021-11-12",
         "mindate": "1941-03-01",
         "name": "Stokes County, NC"
        },
        {
         "datacoverage": 1,
         "id": "FIPS:37171",
         "maxdate": "2021-11-13",
         "mindate": "1893-01-01",
         "name": "Surry County, NC"
        },
        {
         "datacoverage": 1,
         "id": "FIPS:37173",
         "maxdate": "2021-11-12",
         "mindate": "1888-02-01",
         "name": "Swain County, NC"
        },
        {
         "datacoverage": 1,
         "id": "FIPS:37175",
         "maxdate": "2021-11-12",
         "mindate": "1902-01-01",
         "name": "Transylvania County, NC"
        },
        {
         "datacoverage": 1,
         "id": "FIPS:37177",
         "maxdate": "2021-11-12",
         "mindate": "1962-07-01",
         "name": "Tyrrell County, NC"
        },
        {
         "datacoverage": 1,
         "id": "FIPS:37179",
         "maxdate": "2021-11-13",
         "mindate": "1896-01-13",
         "name": "Union County, NC"
        },
        {
         "datacoverage": 1,
         "id": "FIPS:37181",
         "maxdate": "2021-11-12",
         "mindate": "1893-06-01",
         "name": "Vance County, NC"
        },
        {
         "datacoverage": 1,
         "id": "FIPS:37183",
         "maxdate": "2021-11-13",
         "mindate": "1911-07-12",
         "name": "Wake County, NC"
        },
        {
         "datacoverage": 1,
         "id": "FIPS:37185",
         "maxdate": "2021-11-12",
         "mindate": "1932-01-01",
         "name": "Warren County, NC"
        },
        {
         "datacoverage": 1,
         "id": "FIPS:37187",
         "maxdate": "2021-11-12",
         "mindate": "1914-10-14",
         "name": "Washington County, NC"
        },
        {
         "datacoverage": 1,
         "id": "FIPS:37189",
         "maxdate": "2021-11-13",
         "mindate": "1929-01-01",
         "name": "Watauga County, NC"
        },
        {
         "datacoverage": 1,
         "id": "FIPS:37191",
         "maxdate": "2021-11-13",
         "mindate": "1931-01-01",
         "name": "Wayne County, NC"
        },
        {
         "datacoverage": 1,
         "id": "FIPS:37193",
         "maxdate": "2021-11-13",
         "mindate": "1896-02-01",
         "name": "Wilkes County, NC"
        },
        {
         "datacoverage": 1,
         "id": "FIPS:37195",
         "maxdate": "2021-11-12",
         "mindate": "1916-10-01",
         "name": "Wilson County, NC"
        },
        {
         "datacoverage": 1,
         "id": "FIPS:37197",
         "maxdate": "2021-11-12",
         "mindate": "1940-03-01",
         "name": "Yadkin County, NC"
        },
        {
         "datacoverage": 1,
         "id": "FIPS:37199",
         "maxdate": "2021-11-12",
         "mindate": "1925-06-01",
         "name": "Yancey County, NC"
        },
        {
         "datacoverage": 1,
         "id": "FIPS:38",
         "maxdate": "2021-11-13",
         "mindate": "1891-07-01",
         "name": "North Dakota"
        },
        {
         "datacoverage": 1,
         "id": "FIPS:38001",
         "maxdate": "2021-11-13",
         "mindate": "1907-01-01",
         "name": "Adams County, ND"
        },
        {
         "datacoverage": 1,
         "id": "FIPS:38003",
         "maxdate": "2021-11-12",
         "mindate": "1893-04-01",
         "name": "Barnes County, ND"
        },
        {
         "datacoverage": 1,
         "id": "FIPS:38005",
         "maxdate": "2021-11-12",
         "mindate": "1919-01-01",
         "name": "Benson County, ND"
        },
        {
         "datacoverage": 1,
         "id": "FIPS:38007",
         "maxdate": "2021-11-13",
         "mindate": "1918-04-01",
         "name": "Billings County, ND"
        },
        {
         "datacoverage": 1,
         "id": "FIPS:38009",
         "maxdate": "2021-11-12",
         "mindate": "1893-01-01",
         "name": "Bottineau County, ND"
        },
        {
         "datacoverage": 1,
         "id": "FIPS:38011",
         "maxdate": "2021-11-12",
         "mindate": "1908-03-01",
         "name": "Bowman County, ND"
        },
        {
         "datacoverage": 1,
         "id": "FIPS:38013",
         "maxdate": "2021-11-13",
         "mindate": "1912-04-01",
         "name": "Burke County, ND"
        },
        {
         "datacoverage": 1,
         "id": "FIPS:38015",
         "maxdate": "2021-11-13",
         "mindate": "1936-07-01",
         "name": "Burleigh County, ND"
        },
        {
         "datacoverage": 1,
         "id": "FIPS:38017",
         "maxdate": "2021-11-13",
         "mindate": "1895-09-01",
         "name": "Cass County, ND"
        },
        {
         "datacoverage": 1,
         "id": "FIPS:38019",
         "maxdate": "2021-11-13",
         "mindate": "1893-01-01",
         "name": "Cavalier County, ND"
        },
        {
         "datacoverage": 1,
         "id": "FIPS:38021",
         "maxdate": "2021-11-13",
         "mindate": "1893-01-01",
         "name": "Dickey County, ND"
        },
        {
         "datacoverage": 1,
         "id": "FIPS:38023",
         "maxdate": "2021-11-13",
         "mindate": "1907-04-07",
         "name": "Divide County, ND"
        },
        {
         "datacoverage": 1,
         "id": "FIPS:38025",
         "maxdate": "2021-11-12",
         "mindate": "1893-04-01",
         "name": "Dunn County, ND"
        },
        {
         "datacoverage": 1,
         "id": "FIPS:38027",
         "maxdate": "2021-11-12",
         "mindate": "1893-07-01",
         "name": "Eddy County, ND"
        },
        {
         "datacoverage": 1,
         "id": "FIPS:38029",
         "maxdate": "2021-11-13",
         "mindate": "1917-09-01",
         "name": "Emmons County, ND"
        },
        {
         "datacoverage": 1,
         "id": "FIPS:38031",
         "maxdate": "2021-11-13",
         "mindate": "1898-01-01",
         "name": "Foster County, ND"
        },
        {
         "datacoverage": 1,
         "id": "FIPS:38033",
         "maxdate": "2021-11-13",
         "mindate": "1906-08-01",
         "name": "Golden Valley County, ND"
        },
        {
         "datacoverage": 1,
         "id": "FIPS:38035",
         "maxdate": "2021-11-13",
         "mindate": "1893-01-01",
         "name": "Grand Forks County, ND"
        },
        {
         "datacoverage": 1,
         "id": "FIPS:38037",
         "maxdate": "2021-11-12",
         "mindate": "1912-02-01",
         "name": "Grant County, ND"
        },
        {
         "datacoverage": 1,
         "id": "FIPS:38039",
         "maxdate": "2021-11-13",
         "mindate": "1893-02-01",
         "name": "Griggs County, ND"
        },
        {
         "datacoverage": 1,
         "id": "FIPS:38041",
         "maxdate": "2021-11-12",
         "mindate": "1894-03-01",
         "name": "Hettinger County, ND"
        },
        {
         "datacoverage": 1,
         "id": "FIPS:38043",
         "maxdate": "2021-11-13",
         "mindate": "1894-04-01",
         "name": "Kidder County, ND"
        },
        {
         "datacoverage": 1,
         "id": "FIPS:38045",
         "maxdate": "2021-11-12",
         "mindate": "1893-03-01",
         "name": "LaMoure County, ND"
        },
        {
         "datacoverage": 1,
         "id": "FIPS:38047",
         "maxdate": "2021-11-12",
         "mindate": "1893-01-01",
         "name": "Logan County, ND"
        },
        {
         "datacoverage": 1,
         "id": "FIPS:38049",
         "maxdate": "2021-11-12",
         "mindate": "1896-02-01",
         "name": "McHenry County, ND"
        },
        {
         "datacoverage": 1,
         "id": "FIPS:38051",
         "maxdate": "2021-11-12",
         "mindate": "1893-01-01",
         "name": "McIntosh County, ND"
        },
        {
         "datacoverage": 1,
         "id": "FIPS:38053",
         "maxdate": "2021-11-13",
         "mindate": "1919-05-01",
         "name": "McKenzie County, ND"
        },
        {
         "datacoverage": 1,
         "id": "FIPS:38055",
         "maxdate": "2021-11-13",
         "mindate": "1912-09-01",
         "name": "McLean County, ND"
        },
        {
         "datacoverage": 1,
         "id": "FIPS:38057",
         "maxdate": "2021-11-13",
         "mindate": "1914-01-01",
         "name": "Mercer County, ND"
        },
        {
         "datacoverage": 1,
         "id": "FIPS:38059",
         "maxdate": "2021-11-13",
         "mindate": "1893-06-01",
         "name": "Morton County, ND"
        },
        {
         "datacoverage": 1,
         "id": "FIPS:38061",
         "maxdate": "2021-11-13",
         "mindate": "1916-06-01",
         "name": "Mountrail County, ND"
        },
        {
         "datacoverage": 1,
         "id": "FIPS:38063",
         "maxdate": "2021-11-12",
         "mindate": "1939-07-15",
         "name": "Nelson County, ND"
        },
        {
         "datacoverage": 1,
         "id": "FIPS:38065",
         "maxdate": "2021-11-12",
         "mindate": "1907-01-01",
         "name": "Oliver County, ND"
        },
        {
         "datacoverage": 1,
         "id": "FIPS:38067",
         "maxdate": "2021-11-13",
         "mindate": "1904-05-01",
         "name": "Pembina County, ND"
        },
        {
         "datacoverage": 1,
         "id": "FIPS:38069",
         "maxdate": "2021-11-13",
         "mindate": "1904-05-01",
         "name": "Pierce County, ND"
        },
        {
         "datacoverage": 1,
         "id": "FIPS:38071",
         "maxdate": "2021-11-13",
         "mindate": "1893-01-01",
         "name": "Ramsey County, ND"
        },
        {
         "datacoverage": 1,
         "id": "FIPS:38073",
         "maxdate": "2021-11-12",
         "mindate": "1903-04-01",
         "name": "Ransom County, ND"
        },
        {
         "datacoverage": 1,
         "id": "FIPS:38075",
         "maxdate": "2021-11-12",
         "mindate": "1899-06-01",
         "name": "Renville County, ND"
        },
        {
         "datacoverage": 1,
         "id": "FIPS:38077",
         "maxdate": "2021-11-13",
         "mindate": "1893-01-01",
         "name": "Richland County, ND"
        },
        {
         "datacoverage": 1,
         "id": "FIPS:38079",
         "maxdate": "2021-11-13",
         "mindate": "1893-01-01",
         "name": "Rolette County, ND"
        },
        {
         "datacoverage": 1,
         "id": "FIPS:38081",
         "maxdate": "2021-11-13",
         "mindate": "1893-01-01",
         "name": "Sargent County, ND"
        },
        {
         "datacoverage": 1,
         "id": "FIPS:38083",
         "maxdate": "2021-11-12",
         "mindate": "1917-09-01",
         "name": "Sheridan County, ND"
        },
        {
         "datacoverage": 1,
         "id": "FIPS:38085",
         "maxdate": "2021-11-12",
         "mindate": "1893-01-01",
         "name": "Sioux County, ND"
        },
        {
         "datacoverage": 1,
         "id": "FIPS:38087",
         "maxdate": "2021-11-12",
         "mindate": "1909-01-01",
         "name": "Slope County, ND"
        },
        {
         "datacoverage": 1,
         "id": "FIPS:38089",
         "maxdate": "2021-11-13",
         "mindate": "1893-01-01",
         "name": "Stark County, ND"
        },
        {
         "datacoverage": 1,
         "id": "FIPS:38091",
         "maxdate": "2021-11-12",
         "mindate": "1923-01-01",
         "name": "Steele County, ND"
        },
        {
         "datacoverage": 1,
         "id": "FIPS:38093",
         "maxdate": "2021-11-13",
         "mindate": "1891-07-01",
         "name": "Stutsman County, ND"
        },
        {
         "datacoverage": 1,
         "id": "FIPS:38095",
         "maxdate": "2021-11-13",
         "mindate": "1901-03-01",
         "name": "Towner County, ND"
        },
        {
         "datacoverage": 1,
         "id": "FIPS:38097",
         "maxdate": "2021-11-12",
         "mindate": "1893-01-01",
         "name": "Traill County, ND"
        },
        {
         "datacoverage": 1,
         "id": "FIPS:38099",
         "maxdate": "2021-11-13",
         "mindate": "1893-01-01",
         "name": "Walsh County, ND"
        },
        {
         "datacoverage": 1,
         "id": "FIPS:38101",
         "maxdate": "2021-11-13",
         "mindate": "1920-11-01",
         "name": "Ward County, ND"
        },
        {
         "datacoverage": 1,
         "id": "FIPS:38103",
         "maxdate": "2021-11-13",
         "mindate": "1903-06-01",
         "name": "Wells County, ND"
        },
        {
         "datacoverage": 1,
         "id": "FIPS:38105",
         "maxdate": "2021-11-13",
         "mindate": "1905-05-01",
         "name": "Williams County, ND"
        },
        {
         "datacoverage": 1,
         "id": "FIPS:39",
         "maxdate": "2021-11-13",
         "mindate": "1871-01-01",
         "name": "Ohio"
        },
        {
         "datacoverage": 1,
         "id": "FIPS:39001",
         "maxdate": "2021-11-12",
         "mindate": "1908-01-01",
         "name": "Adams County, OH"
        },
        {
         "datacoverage": 1,
         "id": "FIPS:39003",
         "maxdate": "2021-11-13",
         "mindate": "1893-01-01",
         "name": "Allen County, OH"
        },
        {
         "datacoverage": 1,
         "id": "FIPS:39005",
         "maxdate": "2021-11-12",
         "mindate": "1889-02-01",
         "name": "Ashland County, OH"
        },
        {
         "datacoverage": 1,
         "id": "FIPS:39007",
         "maxdate": "2021-11-13",
         "mindate": "1907-03-01",
         "name": "Ashtabula County, OH"
        },
        {
         "datacoverage": 1,
         "id": "FIPS:39009",
         "maxdate": "2021-11-13",
         "mindate": "1916-01-01",
         "name": "Athens County, OH"
        },
        {
         "datacoverage": 1,
         "id": "FIPS:39011",
         "maxdate": "2021-11-12",
         "mindate": "1894-01-01",
         "name": "Auglaize County, OH"
        },
        {
         "datacoverage": 1,
         "id": "FIPS:39013",
         "maxdate": "2021-11-12",
         "mindate": "1926-02-01",
         "name": "Belmont County, OH"
        },
        {
         "datacoverage": 1,
         "id": "FIPS:39015",
         "maxdate": "2021-11-12",
         "mindate": "1893-06-01",
         "name": "Brown County, OH"
        },
        {
         "datacoverage": 1,
         "id": "FIPS:39017",
         "maxdate": "2021-11-13",
         "mindate": "1893-01-01",
         "name": "Butler County, OH"
        },
        {
         "datacoverage": 1,
         "id": "FIPS:39019",
         "maxdate": "2021-11-12",
         "mindate": "1938-04-01",
         "name": "Carroll County, OH"
        },
        {
         "datacoverage": 1,
         "id": "FIPS:39021",
         "maxdate": "2021-11-12",
         "mindate": "1894-04-01",
         "name": "Champaign County, OH"
        },
        {
         "datacoverage": 1,
         "id": "FIPS:39023",
         "maxdate": "2021-11-13",
         "mindate": "1904-11-01",
         "name": "Clark County, OH"
        },
        {
         "datacoverage": 1,
         "id": "FIPS:39025",
         "maxdate": "2021-11-13",
         "mindate": "1893-01-01",
         "name": "Clermont County, OH"
        },
        {
         "datacoverage": 1,
         "id": "FIPS:39027",
         "maxdate": "2021-11-13",
         "mindate": "1893-06-01",
         "name": "Clinton County, OH"
        },
        {
         "datacoverage": 1,
         "id": "FIPS:39029",
         "maxdate": "2021-11-12",
         "mindate": "1893-01-01",
         "name": "Columbiana County, OH"
        },
        {
         "datacoverage": 1,
         "id": "FIPS:39031",
         "maxdate": "2021-11-12",
         "mindate": "1894-08-01",
         "name": "Coshocton County, OH"
        },
        {
         "datacoverage": 1,
         "id": "FIPS:39033",
         "maxdate": "2021-11-12",
         "mindate": "1893-05-01",
         "name": "Crawford County, OH"
        },
        {
         "datacoverage": 1,
         "id": "FIPS:39035",
         "maxdate": "2021-11-13",
         "mindate": "1871-01-01",
         "name": "Cuyahoga County, OH"
        },
        {
         "datacoverage": 1,
         "id": "FIPS:39037",
         "maxdate": "2021-11-13",
         "mindate": "1893-01-01",
         "name": "Darke County, OH"
        },
        {
         "datacoverage": 1,
         "id": "FIPS:39039",
         "maxdate": "2021-11-13",
         "mindate": "1895-05-01",
         "name": "Defiance County, OH"
        },
        {
         "datacoverage": 1,
         "id": "FIPS:39041",
         "maxdate": "2021-11-13",
         "mindate": "1896-02-01",
         "name": "Delaware County, OH"
        },
        {
         "datacoverage": 1,
         "id": "FIPS:39043",
         "maxdate": "2021-11-12",
         "mindate": "1893-04-01",
         "name": "Erie County, OH"
        },
        {
         "datacoverage": 1,
         "id": "FIPS:39045",
         "maxdate": "2021-11-13",
         "mindate": "1895-09-01",
         "name": "Fairfield County, OH"
        },
        {
         "datacoverage": 1,
         "id": "FIPS:39047",
         "maxdate": "2021-11-12",
         "mindate": "1916-01-01",
         "name": "Fayette County, OH"
        },
        {
         "datacoverage": 1,
         "id": "FIPS:39049",
         "maxdate": "2021-11-13",
         "mindate": "1897-04-15",
         "name": "Franklin County, OH"
        },
        {
         "datacoverage": 1,
         "id": "FIPS:39051",
         "maxdate": "2021-11-12",
         "mindate": "1893-02-01",
         "name": "Fulton County, OH"
        },
        {
         "datacoverage": 1,
         "id": "FIPS:39053",
         "maxdate": "2021-11-12",
         "mindate": "1911-01-01",
         "name": "Gallia County, OH"
        },
        {
         "datacoverage": 1,
         "id": "FIPS:39055",
         "maxdate": "2021-11-12",
         "mindate": "1893-01-01",
         "name": "Geauga County, OH"
        },
        {
         "datacoverage": 1,
         "id": "FIPS:39057",
         "maxdate": "2021-11-13",
         "mindate": "1893-01-01",
         "name": "Greene County, OH"
        },
        {
         "datacoverage": 1,
         "id": "FIPS:39059",
         "maxdate": "2021-11-12",
         "mindate": "1893-01-01",
         "name": "Guernsey County, OH"
        },
        {
         "datacoverage": 1,
         "id": "FIPS:39061",
         "maxdate": "2021-11-13",
         "mindate": "1914-03-01",
         "name": "Hamilton County, OH"
        },
        {
         "datacoverage": 1,
         "id": "FIPS:39063",
         "maxdate": "2021-11-13",
         "mindate": "1893-02-01",
         "name": "Hancock County, OH"
        },
        {
         "datacoverage": 1,
         "id": "FIPS:39065",
         "maxdate": "2021-11-12",
         "mindate": "1893-01-01",
         "name": "Hardin County, OH"
        },
        {
         "datacoverage": 1,
         "id": "FIPS:39067",
         "maxdate": "2021-11-12",
         "mindate": "1903-09-01",
         "name": "Harrison County, OH"
        },
        {
         "datacoverage": 1,
         "id": "FIPS:39069",
         "maxdate": "2021-11-12",
         "mindate": "1893-01-01",
         "name": "Henry County, OH"
        },
        {
         "datacoverage": 1,
         "id": "FIPS:39071",
         "maxdate": "2021-11-12",
         "mindate": "1893-01-01",
         "name": "Highland County, OH"
        },
        {
         "datacoverage": 1,
         "id": "FIPS:39073",
         "maxdate": "2021-11-12",
         "mindate": "1915-01-01",
         "name": "Hocking County, OH"
        },
        {
         "datacoverage": 1,
         "id": "FIPS:39075",
         "maxdate": "2021-11-12",
         "mindate": "1893-01-01",
         "name": "Holmes County, OH"
        },
        {
         "datacoverage": 1,
         "id": "FIPS:39077",
         "maxdate": "2021-11-12",
         "mindate": "1894-01-01",
         "name": "Huron County, OH"
        },
        {
         "datacoverage": 1,
         "id": "FIPS:39079",
         "maxdate": "2021-11-12",
         "mindate": "1893-01-01",
         "name": "Jackson County, OH"
        },
        {
         "datacoverage": 1,
         "id": "FIPS:39081",
         "maxdate": "2021-11-12",
         "mindate": "1878-02-01",
         "name": "Jefferson County, OH"
        },
        {
         "datacoverage": 1,
         "id": "FIPS:39083",
         "maxdate": "2021-11-13",
         "mindate": "1893-05-01",
         "name": "Knox County, OH"
        },
        {
         "datacoverage": 1,
         "id": "FIPS:39085",
         "maxdate": "2021-11-12",
         "mindate": "1893-01-01",
         "name": "Lake County, OH"
        },
        {
         "datacoverage": 1,
         "id": "FIPS:39087",
         "maxdate": "2021-11-12",
         "mindate": "1887-07-01",
         "name": "Lawrence County, OH"
        },
        {
         "datacoverage": 1,
         "id": "FIPS:39089",
         "maxdate": "2021-11-13",
         "mindate": "1893-01-01",
         "name": "Licking County, OH"
        },
        {
         "datacoverage": 1,
         "id": "FIPS:39091",
         "maxdate": "2021-11-13",
         "mindate": "1894-01-01",
         "name": "Logan County, OH"
        },
        {
         "datacoverage": 1,
         "id": "FIPS:39093",
         "maxdate": "2021-11-13",
         "mindate": "1893-04-01",
         "name": "Lorain County, OH"
        },
        {
         "datacoverage": 1,
         "id": "FIPS:39095",
         "maxdate": "2021-11-13",
         "mindate": "1871-01-01",
         "name": "Lucas County, OH"
        },
        {
         "datacoverage": 1,
         "id": "FIPS:39097",
         "maxdate": "2021-11-12",
         "mindate": "1918-04-01",
         "name": "Madison County, OH"
        },
        {
         "datacoverage": 1,
         "id": "FIPS:39099",
         "maxdate": "2021-11-12",
         "mindate": "1916-05-01",
         "name": "Mahoning County, OH"
        },
        {
         "datacoverage": 1,
         "id": "FIPS:39101",
         "maxdate": "2021-11-13",
         "mindate": "1892-12-01",
         "name": "Marion County, OH"
        },
        {
         "datacoverage": 1,
         "id": "FIPS:39103",
         "maxdate": "2021-11-12",
         "mindate": "1893-01-01",
         "name": "Medina County, OH"
        },
        {
         "datacoverage": 1,
         "id": "FIPS:39105",
         "maxdate": "2021-11-12",
         "mindate": "1893-03-01",
         "name": "Meigs County, OH"
        },
        {
         "datacoverage": 1,
         "id": "FIPS:39107",
         "maxdate": "2021-11-12",
         "mindate": "1906-04-13",
         "name": "Mercer County, OH"
        },
        {
         "datacoverage": 1,
         "id": "FIPS:39109",
         "maxdate": "2021-11-12",
         "mindate": "1910-05-01",
         "name": "Miami County, OH"
        },
        {
         "datacoverage": 1,
         "id": "FIPS:39111",
         "maxdate": "2021-11-12",
         "mindate": "1901-07-01",
         "name": "Monroe County, OH"
        },
        {
         "datacoverage": 1,
         "id": "FIPS:39113",
         "maxdate": "2021-11-13",
         "mindate": "1893-06-01",
         "name": "Montgomery County, OH"
        },
        {
         "datacoverage": 1,
         "id": "FIPS:39115",
         "maxdate": "2021-11-12",
         "mindate": "1893-06-01",
         "name": "Morgan County, OH"
        },
        {
         "datacoverage": 1,
         "id": "FIPS:39117",
         "maxdate": "2021-11-12",
         "mindate": "1893-01-01",
         "name": "Morrow County, OH"
        },
        {
         "datacoverage": 1,
         "id": "FIPS:39119",
         "maxdate": "2021-11-13",
         "mindate": "1895-06-01",
         "name": "Muskingum County, OH"
        },
        {
         "datacoverage": 1,
         "id": "FIPS:39121",
         "maxdate": "2021-11-12",
         "mindate": "1934-09-01",
         "name": "Noble County, OH"
        },
        {
         "datacoverage": 1,
         "id": "FIPS:39123",
         "maxdate": "2021-11-13",
         "mindate": "1916-03-01",
         "name": "Ottawa County, OH"
        },
        {
         "datacoverage": 1,
         "id": "FIPS:39125",
         "maxdate": "2021-11-12",
         "mindate": "1914-09-01",
         "name": "Paulding County, OH"
        },
        {
         "datacoverage": 1,
         "id": "FIPS:39127",
         "maxdate": "2021-11-12",
         "mindate": "1893-08-01",
         "name": "Perry County, OH"
        },
        {
         "datacoverage": 1,
         "id": "FIPS:39129",
         "maxdate": "2021-11-12",
         "mindate": "1893-01-01",
         "name": "Pickaway County, OH"
        },
        {
         "datacoverage": 1,
         "id": "FIPS:39131",
         "maxdate": "2021-11-12",
         "mindate": "1893-06-01",
         "name": "Pike County, OH"
        },
        {
         "datacoverage": 1,
         "id": "FIPS:39133",
         "maxdate": "2021-11-13",
         "mindate": "1893-01-01",
         "name": "Portage County, OH"
        },
        {
         "datacoverage": 1,
         "id": "FIPS:39135",
         "maxdate": "2021-11-12",
         "mindate": "1893-06-01",
         "name": "Preble County, OH"
        },
        {
         "datacoverage": 1,
         "id": "FIPS:39137",
         "maxdate": "2021-11-12",
         "mindate": "1948-01-01",
         "name": "Putnam County, OH"
        },
        {
         "datacoverage": 1,
         "id": "FIPS:39139",
         "maxdate": "2021-11-13",
         "mindate": "1893-02-01",
         "name": "Richland County, OH"
        },
        {
         "datacoverage": 1,
         "id": "FIPS:39141",
         "maxdate": "2021-11-12",
         "mindate": "1893-01-01",
         "name": "Ross County, OH"
        },
        {
         "datacoverage": 1,
         "id": "FIPS:39143",
         "maxdate": "2021-11-12",
         "mindate": "1893-04-01",
         "name": "Sandusky County, OH"
        },
        {
         "datacoverage": 1,
         "id": "FIPS:39145",
         "maxdate": "2021-11-12",
         "mindate": "1893-02-01",
         "name": "Scioto County, OH"
        },
        {
         "datacoverage": 1,
         "id": "FIPS:39147",
         "maxdate": "2021-11-12",
         "mindate": "1893-06-01",
         "name": "Seneca County, OH"
        },
        {
         "datacoverage": 1,
         "id": "FIPS:39149",
         "maxdate": "2021-11-12",
         "mindate": "1894-07-01",
         "name": "Shelby County, OH"
        },
        {
         "datacoverage": 1,
         "id": "FIPS:39151",
         "maxdate": "2021-11-12",
         "mindate": "1893-01-01",
         "name": "Stark County, OH"
        },
        {
         "datacoverage": 1,
         "id": "FIPS:39153",
         "maxdate": "2021-11-13",
         "mindate": "1940-12-01",
         "name": "Summit County, OH"
        },
        {
         "datacoverage": 1,
         "id": "FIPS:39155",
         "maxdate": "2021-11-13",
         "mindate": "1893-01-01",
         "name": "Trumbull County, OH"
        },
        {
         "datacoverage": 1,
         "id": "FIPS:39157",
         "maxdate": "2021-11-13",
         "mindate": "1893-06-01",
         "name": "Tuscarawas County, OH"
        },
        {
         "datacoverage": 1,
         "id": "FIPS:39159",
         "maxdate": "2021-11-13",
         "mindate": "1894-09-01",
         "name": "Union County, OH"
        },
        {
         "datacoverage": 1,
         "id": "FIPS:39161",
         "maxdate": "2021-11-12",
         "mindate": "1924-07-01",
         "name": "Van Wert County, OH"
        },
        {
         "datacoverage": 1,
         "id": "FIPS:39163",
         "maxdate": "2021-11-12",
         "mindate": "1916-09-22",
         "name": "Vinton County, OH"
        },
        {
         "datacoverage": 1,
         "id": "FIPS:39165",
         "maxdate": "2021-11-12",
         "mindate": "1893-01-01",
         "name": "Warren County, OH"
        },
        {
         "datacoverage": 1,
         "id": "FIPS:39167",
         "maxdate": "2021-11-12",
         "mindate": "1894-01-01",
         "name": "Washington County, OH"
        },
        {
         "datacoverage": 1,
         "id": "FIPS:39169",
         "maxdate": "2021-11-13",
         "mindate": "1893-01-01",
         "name": "Wayne County, OH"
        },
        {
         "datacoverage": 1,
         "id": "FIPS:39171",
         "maxdate": "2021-11-12",
         "mindate": "1893-06-01",
         "name": "Williams County, OH"
        },
        {
         "datacoverage": 1,
         "id": "FIPS:39173",
         "maxdate": "2021-11-13",
         "mindate": "1893-06-01",
         "name": "Wood County, OH"
        },
        {
         "datacoverage": 1,
         "id": "FIPS:39175",
         "maxdate": "2021-11-12",
         "mindate": "1893-06-01",
         "name": "Wyandot County, OH"
        },
        {
         "datacoverage": 1,
         "id": "FIPS:40",
         "maxdate": "2021-11-13",
         "mindate": "1870-04-01",
         "name": "Oklahoma"
        },
        {
         "datacoverage": 1,
         "id": "FIPS:40001",
         "maxdate": "2021-11-12",
         "mindate": "1922-04-18",
         "name": "Adair County, OK"
        },
        {
         "datacoverage": 1,
         "id": "FIPS:40003",
         "maxdate": "2021-11-12",
         "mindate": "1906-11-01",
         "name": "Alfalfa County, OK"
        },
        {
         "datacoverage": 1,
         "id": "FIPS:40005",
         "maxdate": "2021-11-12",
         "mindate": "1926-04-13",
         "name": "Atoka County, OK"
        },
        {
         "datacoverage": 1,
         "id": "FIPS:40007",
         "maxdate": "2021-11-12",
         "mindate": "1896-02-01",
         "name": "Beaver County, OK"
        },
        {
         "datacoverage": 1,
         "id": "FIPS:40009",
         "maxdate": "2021-11-13",
         "mindate": "1904-05-01",
         "name": "Beckham County, OK"
        },
        {
         "datacoverage": 1,
         "id": "FIPS:40011",
         "maxdate": "2021-11-13",
         "mindate": "1893-01-01",
         "name": "Blaine County, OK"
        },
        {
         "datacoverage": 1,
         "id": "FIPS:40013",
         "maxdate": "2021-11-13",
         "mindate": "1893-05-15",
         "name": "Bryan County, OK"
        },
        {
         "datacoverage": 1,
         "id": "FIPS:40015",
         "maxdate": "2021-11-12",
         "mindate": "1893-01-01",
         "name": "Caddo County, OK"
        },
        {
         "datacoverage": 1,
         "id": "FIPS:40017",
         "maxdate": "2021-11-13",
         "mindate": "1893-01-01",
         "name": "Canadian County, OK"
        },
        {
         "datacoverage": 1,
         "id": "FIPS:40019",
         "maxdate": "2021-11-13",
         "mindate": "1894-01-01",
         "name": "Carter County, OK"
        },
        {
         "datacoverage": 1,
         "id": "FIPS:40021",
         "maxdate": "2021-11-13",
         "mindate": "1900-01-01",
         "name": "Cherokee County, OK"
        },
        {
         "datacoverage": 1,
         "id": "FIPS:40023",
         "maxdate": "2021-11-13",
         "mindate": "1891-04-01",
         "name": "Choctaw County, OK"
        },
        {
         "datacoverage": 1,
         "id": "FIPS:40025",
         "maxdate": "2021-11-12",
         "mindate": "1900-11-01",
         "name": "Cimarron County, OK"
        },
        {
         "datacoverage": 1,
         "id": "FIPS:40027",
         "maxdate": "2021-11-13",
         "mindate": "1894-10-01",
         "name": "Cleveland County, OK"
        },
        {
         "datacoverage": 1,
         "id": "FIPS:40029",
         "maxdate": "2021-11-12",
         "mindate": "1893-01-06",
         "name": "Coal County, OK"
        },
        {
         "datacoverage": 1,
         "id": "FIPS:40031",
         "maxdate": "2021-11-13",
         "mindate": "1870-04-01",
         "name": "Comanche County, OK"
        },
        {
         "datacoverage": 1,
         "id": "FIPS:40033",
         "maxdate": "2021-11-12",
         "mindate": "1902-01-01",
         "name": "Cotton County, OK"
        },
        {
         "datacoverage": 1,
         "id": "FIPS:40035",
         "maxdate": "2021-11-12",
         "mindate": "1893-01-01",
         "name": "Craig County, OK"
        },
        {
         "datacoverage": 1,
         "id": "FIPS:40037",
         "maxdate": "2021-11-12",
         "mindate": "1899-01-21",
         "name": "Creek County, OK"
        },
        {
         "datacoverage": 1,
         "id": "FIPS:40039",
         "maxdate": "2021-11-13",
         "mindate": "1893-07-01",
         "name": "Custer County, OK"
        },
        {
         "datacoverage": 1,
         "id": "FIPS:40041",
         "maxdate": "2021-11-13",
         "mindate": "1935-05-08",
         "name": "Delaware County, OK"
        },
        {
         "datacoverage": 1,
         "id": "FIPS:40043",
         "maxdate": "2021-11-12",
         "mindate": "1897-02-01",
         "name": "Dewey County, OK"
        },
        {
         "datacoverage": 1,
         "id": "FIPS:40045",
         "maxdate": "2021-11-13",
         "mindate": "1903-05-01",
         "name": "Ellis County, OK"
        },
        {
         "datacoverage": 1,
         "id": "FIPS:40047",
         "maxdate": "2021-11-13",
         "mindate": "1894-02-01",
         "name": "Garfield County, OK"
        },
        {
         "datacoverage": 1,
         "id": "FIPS:40049",
         "maxdate": "2021-11-13",
         "mindate": "1893-01-01",
         "name": "Garvin County, OK"
        },
        {
         "datacoverage": 1,
         "id": "FIPS:40051",
         "maxdate": "2021-11-13",
         "mindate": "1901-01-01",
         "name": "Grady County, OK"
        },
        {
         "datacoverage": 1,
         "id": "FIPS:40053",
         "maxdate": "2021-11-12",
         "mindate": "1894-01-01",
         "name": "Grant County, OK"
        },
        {
         "datacoverage": 1,
         "id": "FIPS:40055",
         "maxdate": "2021-11-12",
         "mindate": "1914-01-01",
         "name": "Greer County, OK"
        },
        {
         "datacoverage": 1,
         "id": "FIPS:40057",
         "maxdate": "2021-11-12",
         "mindate": "1922-08-01",
         "name": "Harmon County, OK"
        },
        {
         "datacoverage": 1,
         "id": "FIPS:40059",
         "maxdate": "2021-11-12",
         "mindate": "1907-02-17",
         "name": "Harper County, OK"
        },
        {
         "datacoverage": 1,
         "id": "FIPS:40061",
         "maxdate": "2021-11-13",
         "mindate": "1916-08-01",
         "name": "Haskell County, OK"
        },
        {
         "datacoverage": 1,
         "id": "FIPS:40063",
         "maxdate": "2021-11-12",
         "mindate": "1901-01-16",
         "name": "Hughes County, OK"
        },
        {
         "datacoverage": 1,
         "id": "FIPS:40065",
         "maxdate": "2021-11-13",
         "mindate": "1903-05-01",
         "name": "Jackson County, OK"
        },
        {
         "datacoverage": 1,
         "id": "FIPS:40067",
         "maxdate": "2021-11-12",
         "mindate": "1899-04-13",
         "name": "Jefferson County, OK"
        },
        {
         "datacoverage": 1,
         "id": "FIPS:40069",
         "maxdate": "2021-11-12",
         "mindate": "1902-10-01",
         "name": "Johnston County, OK"
        },
        {
         "datacoverage": 1,
         "id": "FIPS:40071",
         "maxdate": "2021-11-13",
         "mindate": "1893-01-01",
         "name": "Kay County, OK"
        },
        {
         "datacoverage": 1,
         "id": "FIPS:40073",
         "maxdate": "2021-11-12",
         "mindate": "1895-04-01",
         "name": "Kingfisher County, OK"
        },
        {
         "datacoverage": 1,
         "id": "FIPS:40075",
         "maxdate": "2021-11-13",
         "mindate": "1906-09-01",
         "name": "Kiowa County, OK"
        },
        {
         "datacoverage": 1,
         "id": "FIPS:40077",
         "maxdate": "2021-11-12",
         "mindate": "1900-06-01",
         "name": "Latimer County, OK"
        },
        {
         "datacoverage": 1,
         "id": "FIPS:40079",
         "maxdate": "2021-11-13",
         "mindate": "1913-08-16",
         "name": "Le Flore County, OK"
        },
        {
         "datacoverage": 1,
         "id": "FIPS:40081",
         "maxdate": "2021-11-13",
         "mindate": "1893-01-01",
         "name": "Lincoln County, OK"
        },
        {
         "datacoverage": 1,
         "id": "FIPS:40083",
         "maxdate": "2021-11-13",
         "mindate": "1893-01-01",
         "name": "Logan County, OK"
        },
        {
         "datacoverage": 1,
         "id": "FIPS:40085",
         "maxdate": "2021-11-12",
         "mindate": "1937-09-06",
         "name": "Love County, OK"
        },
        {
         "datacoverage": 1,
         "id": "FIPS:40087",
         "maxdate": "2021-11-12",
         "mindate": "1893-01-01",
         "name": "McClain County, OK"
        },
        {
         "datacoverage": 1,
         "id": "FIPS:40089",
         "maxdate": "2021-11-13",
         "mindate": "1902-05-01",
         "name": "McCurtain County, OK"
        },
        {
         "datacoverage": 1,
         "id": "FIPS:40091",
         "maxdate": "2021-11-12",
         "mindate": "1896-04-01",
         "name": "McIntosh County, OK"
        },
        {
         "datacoverage": 1,
         "id": "FIPS:40093",
         "maxdate": "2021-11-12",
         "mindate": "1896-05-01",
         "name": "Major County, OK"
        },
        {
         "datacoverage": 1,
         "id": "FIPS:40095",
         "maxdate": "2021-11-12",
         "mindate": "1936-12-01",
         "name": "Marshall County, OK"
        },
        {
         "datacoverage": 1,
         "id": "FIPS:40097",
         "maxdate": "2021-11-12",
         "mindate": "1923-02-20",
         "name": "Mayes County, OK"
        },
        {
         "datacoverage": 1,
         "id": "FIPS:40099",
         "maxdate": "2021-11-12",
         "mindate": "1917-02-01",
         "name": "Murray County, OK"
        },
        {
         "datacoverage": 1,
         "id": "FIPS:40101",
         "maxdate": "2021-11-13",
         "mindate": "1900-02-01",
         "name": "Muskogee County, OK"
        },
        {
         "datacoverage": 1,
         "id": "FIPS:40103",
         "maxdate": "2021-11-12",
         "mindate": "1894-02-01",
         "name": "Noble County, OK"
        },
        {
         "datacoverage": 1,
         "id": "FIPS:40105",
         "maxdate": "2021-11-12",
         "mindate": "1936-07-28",
         "name": "Nowata County, OK"
        },
        {
         "datacoverage": 1,
         "id": "FIPS:40107",
         "maxdate": "2021-11-12",
         "mindate": "1912-04-24",
         "name": "Okfuskee County, OK"
        },
        {
         "datacoverage": 1,
         "id": "FIPS:40109",
         "maxdate": "2021-11-13",
         "mindate": "1893-10-01",
         "name": "Oklahoma County, OK"
        },
        {
         "datacoverage": 1,
         "id": "FIPS:40111",
         "maxdate": "2021-11-13",
         "mindate": "1910-01-01",
         "name": "Okmulgee County, OK"
        },
        {
         "datacoverage": 1,
         "id": "FIPS:40113",
         "maxdate": "2021-11-13",
         "mindate": "1898-01-01",
         "name": "Osage County, OK"
        },
        {
         "datacoverage": 1,
         "id": "FIPS:40115",
         "maxdate": "2021-11-12",
         "mindate": "1900-04-15",
         "name": "Ottawa County, OK"
        },
        {
         "datacoverage": 1,
         "id": "FIPS:40117",
         "maxdate": "2021-11-12",
         "mindate": "1905-06-08",
         "name": "Pawnee County, OK"
        },
        {
         "datacoverage": 1,
         "id": "FIPS:40119",
         "maxdate": "2021-11-13",
         "mindate": "1893-01-01",
         "name": "Payne County, OK"
        },
        {
         "datacoverage": 1,
         "id": "FIPS:40121",
         "maxdate": "2021-11-13",
         "mindate": "1899-04-01",
         "name": "Pittsburg County, OK"
        },
        {
         "datacoverage": 1,
         "id": "FIPS:40123",
         "maxdate": "2021-11-13",
         "mindate": "1901-01-01",
         "name": "Pontotoc County, OK"
        },
        {
         "datacoverage": 1,
         "id": "FIPS:40125",
         "maxdate": "2021-11-13",
         "mindate": "1893-01-01",
         "name": "Pottawatomie County, OK"
        },
        {
         "datacoverage": 1,
         "id": "FIPS:40127",
         "maxdate": "2021-11-12",
         "mindate": "1917-11-01",
         "name": "Pushmataha County, OK"
        },
        {
         "datacoverage": 1,
         "id": "FIPS:40129",
         "maxdate": "2021-11-12",
         "mindate": "1903-11-15",
         "name": "Roger Mills County, OK"
        },
        {
         "datacoverage": 1,
         "id": "FIPS:40131",
         "maxdate": "2021-11-13",
         "mindate": "1900-04-20",
         "name": "Rogers County, OK"
        },
        {
         "datacoverage": 1,
         "id": "FIPS:40133",
         "maxdate": "2021-11-13",
         "mindate": "1933-02-22",
         "name": "Seminole County, OK"
        },
        {
         "datacoverage": 1,
         "id": "FIPS:40135",
         "maxdate": "2021-11-13",
         "mindate": "1893-04-01",
         "name": "Sequoyah County, OK"
        },
        {
         "datacoverage": 1,
         "id": "FIPS:40137",
         "maxdate": "2021-11-13",
         "mindate": "1900-10-01",
         "name": "Stephens County, OK"
        },
        {
         "datacoverage": 1,
         "id": "FIPS:40139",
         "maxdate": "2021-11-13",
         "mindate": "1893-05-01",
         "name": "Texas County, OK"
        },
        {
         "datacoverage": 1,
         "id": "FIPS:40141",
         "maxdate": "2021-11-13",
         "mindate": "1904-05-01",
         "name": "Tillman County, OK"
        },
        {
         "datacoverage": 1,
         "id": "FIPS:40143",
         "maxdate": "2021-11-13",
         "mindate": "1889-01-01",
         "name": "Tulsa County, OK"
        },
        {
         "datacoverage": 1,
         "id": "FIPS:40145",
         "maxdate": "2021-11-12",
         "mindate": "1895-04-01",
         "name": "Wagoner County, OK"
        },
        {
         "datacoverage": 1,
         "id": "FIPS:40147",
         "maxdate": "2021-11-12",
         "mindate": "1914-01-01",
         "name": "Washington County, OK"
        },
        {
         "datacoverage": 1,
         "id": "FIPS:40149",
         "maxdate": "2021-11-13",
         "mindate": "1893-06-06",
         "name": "Washita County, OK"
        },
        {
         "datacoverage": 1,
         "id": "FIPS:40151",
         "maxdate": "2021-11-13",
         "mindate": "1894-05-01",
         "name": "Woods County, OK"
        },
        {
         "datacoverage": 1,
         "id": "FIPS:40153",
         "maxdate": "2021-11-13",
         "mindate": "1893-02-01",
         "name": "Woodward County, OK"
        },
        {
         "datacoverage": 1,
         "id": "FIPS:41",
         "maxdate": "2021-11-13",
         "mindate": "1871-11-01",
         "name": "Oregon"
        },
        {
         "datacoverage": 1,
         "id": "FIPS:41001",
         "maxdate": "2021-11-13",
         "mindate": "1893-01-01",
         "name": "Baker County, OR"
        },
        {
         "datacoverage": 1,
         "id": "FIPS:41003",
         "maxdate": "2021-11-13",
         "mindate": "1893-01-01",
         "name": "Benton County, OR"
        },
        {
         "datacoverage": 1,
         "id": "FIPS:41005",
         "maxdate": "2021-11-12",
         "mindate": "1893-01-01",
         "name": "Clackamas County, OR"
        },
        {
         "datacoverage": 1,
         "id": "FIPS:41007",
         "maxdate": "2021-11-13",
         "mindate": "1892-04-01",
         "name": "Clatsop County, OR"
        },
        {
         "datacoverage": 1,
         "id": "FIPS:41009",
         "maxdate": "2021-11-13",
         "mindate": "1893-01-01",
         "name": "Columbia County, OR"
        },
        {
         "datacoverage": 1,
         "id": "FIPS:41011",
         "maxdate": "2021-11-13",
         "mindate": "1893-01-01",
         "name": "Coos County, OR"
        },
        {
         "datacoverage": 1,
         "id": "FIPS:41013",
         "maxdate": "2021-11-12",
         "mindate": "1892-03-03",
         "name": "Crook County, OR"
        },
        {
         "datacoverage": 1,
         "id": "FIPS:41015",
         "maxdate": "2021-11-13",
         "mindate": "1905-03-01",
         "name": "Curry County, OR"
        },
        {
         "datacoverage": 1,
         "id": "FIPS:41017",
         "maxdate": "2021-11-13",
         "mindate": "1901-04-01",
         "name": "Deschutes County, OR"
        },
        {
         "datacoverage": 1,
         "id": "FIPS:41019",
         "maxdate": "2021-11-13",
         "mindate": "1893-01-01",
         "name": "Douglas County, OR"
        },
        {
         "datacoverage": 1,
         "id": "FIPS:41021",
         "maxdate": "2021-11-12",
         "mindate": "1893-01-01",
         "name": "Gilliam County, OR"
        },
        {
         "datacoverage": 1,
         "id": "FIPS:41023",
         "maxdate": "2021-11-13",
         "mindate": "1893-01-01",
         "name": "Grant County, OR"
        },
        {
         "datacoverage": 1,
         "id": "FIPS:41025",
         "maxdate": "2021-11-13",
         "mindate": "1893-01-01",
         "name": "Harney County, OR"
        },
        {
         "datacoverage": 1,
         "id": "FIPS:41027",
         "maxdate": "2021-11-12",
         "mindate": "1893-01-01",
         "name": "Hood River County, OR"
        },
        {
         "datacoverage": 1,
         "id": "FIPS:41029",
         "maxdate": "2021-11-13",
         "mindate": "1892-07-01",
         "name": "Jackson County, OR"
        },
        {
         "datacoverage": 1,
         "id": "FIPS:41031",
         "maxdate": "2021-11-12",
         "mindate": "1902-05-01",
         "name": "Jefferson County, OR"
        },
        {
         "datacoverage": 1,
         "id": "FIPS:41033",
         "maxdate": "2021-11-13",
         "mindate": "1892-05-16",
         "name": "Josephine County, OR"
        },
        {
         "datacoverage": 1,
         "id": "FIPS:41035",
         "maxdate": "2021-11-13",
         "mindate": "1887-01-01",
         "name": "Klamath County, OR"
        },
        {
         "datacoverage": 1,
         "id": "FIPS:41037",
         "maxdate": "2021-11-13",
         "mindate": "1887-04-01",
         "name": "Lake County, OR"
        },
        {
         "datacoverage": 1,
         "id": "FIPS:41039",
         "maxdate": "2021-11-13",
         "mindate": "1892-12-01",
         "name": "Lane County, OR"
        },
        {
         "datacoverage": 1,
         "id": "FIPS:41041",
         "maxdate": "2021-11-13",
         "mindate": "1893-01-01",
         "name": "Lincoln County, OR"
        },
        {
         "datacoverage": 1,
         "id": "FIPS:41043",
         "maxdate": "2021-11-12",
         "mindate": "1893-01-01",
         "name": "Linn County, OR"
        },
        {
         "datacoverage": 1,
         "id": "FIPS:41045",
         "maxdate": "2021-11-13",
         "mindate": "1892-01-01",
         "name": "Malheur County, OR"
        },
        {
         "datacoverage": 1,
         "id": "FIPS:41047",
         "maxdate": "2021-11-13",
         "mindate": "1893-01-01",
         "name": "Marion County, OR"
        },
        {
         "datacoverage": 1,
         "id": "FIPS:41049",
         "maxdate": "2021-11-12",
         "mindate": "1893-04-01",
         "name": "Morrow County, OR"
        },
        {
         "datacoverage": 1,
         "id": "FIPS:41051",
         "maxdate": "2021-11-13",
         "mindate": "1871-11-01",
         "name": "Multnomah County, OR"
        },
        {
         "datacoverage": 1,
         "id": "FIPS:41053",
         "maxdate": "2021-11-12",
         "mindate": "1896-08-01",
         "name": "Polk County, OR"
        },
        {
         "datacoverage": 1,
         "id": "FIPS:41055",
         "maxdate": "2021-11-12",
         "mindate": "1897-11-01",
         "name": "Sherman County, OR"
        },
        {
         "datacoverage": 1,
         "id": "FIPS:41057",
         "maxdate": "2021-11-13",
         "mindate": "1893-02-01",
         "name": "Tillamook County, OR"
        },
        {
         "datacoverage": 1,
         "id": "FIPS:41059",
         "maxdate": "2021-11-13",
         "mindate": "1892-09-01",
         "name": "Umatilla County, OR"
        },
        {
         "datacoverage": 1,
         "id": "FIPS:41061",
         "maxdate": "2021-11-13",
         "mindate": "1893-01-01",
         "name": "Union County, OR"
        },
        {
         "datacoverage": 1,
         "id": "FIPS:41063",
         "maxdate": "2021-11-12",
         "mindate": "1893-01-01",
         "name": "Wallowa County, OR"
        },
        {
         "datacoverage": 1,
         "id": "FIPS:41065",
         "maxdate": "2021-11-12",
         "mindate": "1893-01-01",
         "name": "Wasco County, OR"
        },
        {
         "datacoverage": 1,
         "id": "FIPS:41067",
         "maxdate": "2021-11-13",
         "mindate": "1893-01-01",
         "name": "Washington County, OR"
        },
        {
         "datacoverage": 1,
         "id": "FIPS:41069",
         "maxdate": "2021-11-12",
         "mindate": "1895-06-01",
         "name": "Wheeler County, OR"
        },
        {
         "datacoverage": 1,
         "id": "FIPS:41071",
         "maxdate": "2021-11-13",
         "mindate": "1893-01-01",
         "name": "Yamhill County, OR"
        },
        {
         "datacoverage": 1,
         "id": "FIPS:42",
         "maxdate": "2021-11-13",
         "mindate": "1849-04-01",
         "name": "Pennsylvania"
        },
        {
         "datacoverage": 1,
         "id": "FIPS:42001",
         "maxdate": "2021-11-12",
         "mindate": "1892-11-01",
         "name": "Adams County, PA"
        },
        {
         "datacoverage": 1,
         "id": "FIPS:42003",
         "maxdate": "2021-11-13",
         "mindate": "1891-01-01",
         "name": "Allegheny County, PA"
        },
        {
         "datacoverage": 1,
         "id": "FIPS:42005",
         "maxdate": "2021-11-12",
         "mindate": "1893-01-01",
         "name": "Armstrong County, PA"
        },
        {
         "datacoverage": 1,
         "id": "FIPS:42007",
         "maxdate": "2021-11-13",
         "mindate": "1893-07-01",
         "name": "Beaver County, PA"
        },
        {
         "datacoverage": 1,
         "id": "FIPS:42009",
         "maxdate": "2021-11-12",
         "mindate": "1897-05-01",
         "name": "Bedford County, PA"
        },
        {
         "datacoverage": 1,
         "id": "FIPS:42011",
         "maxdate": "2021-11-13",
         "mindate": "1866-08-01",
         "name": "Berks County, PA"
        },
        {
         "datacoverage": 1,
         "id": "FIPS:42013",
         "maxdate": "2021-11-13",
         "mindate": "1893-01-01",
         "name": "Blair County, PA"
        },
        {
         "datacoverage": 1,
         "id": "FIPS:42015",
         "maxdate": "2021-11-12",
         "mindate": "1893-01-01",
         "name": "Bradford County, PA"
        },
        {
         "datacoverage": 1,
         "id": "FIPS:42017",
         "maxdate": "2021-11-13",
         "mindate": "1884-09-01",
         "name": "Bucks County, PA"
        },
        {
         "datacoverage": 1,
         "id": "FIPS:42019",
         "maxdate": "2021-11-13",
         "mindate": "1899-02-01",
         "name": "Butler County, PA"
        },
        {
         "datacoverage": 1,
         "id": "FIPS:42021",
         "maxdate": "2021-11-13",
         "mindate": "1892-01-01",
         "name": "Cambria County, PA"
        },
        {
         "datacoverage": 1,
         "id": "FIPS:42023",
         "maxdate": "2021-11-12",
         "mindate": "1894-01-01",
         "name": "Cameron County, PA"
        },
        {
         "datacoverage": 1,
         "id": "FIPS:42025",
         "maxdate": "2021-11-12",
         "mindate": "1893-11-01",
         "name": "Carbon County, PA"
        },
        {
         "datacoverage": 1,
         "id": "FIPS:42027",
         "maxdate": "2021-11-13",
         "mindate": "1893-01-01",
         "name": "Centre County, PA"
        },
        {
         "datacoverage": 1,
         "id": "FIPS:42029",
         "maxdate": "2021-11-13",
         "mindate": "1893-01-01",
         "name": "Chester County, PA"
        },
        {
         "datacoverage": 1,
         "id": "FIPS:42031",
         "maxdate": "2021-11-12",
         "mindate": "1888-01-01",
         "name": "Clarion County, PA"
        },
        {
         "datacoverage": 1,
         "id": "FIPS:42033",
         "maxdate": "2021-11-13",
         "mindate": "1893-01-01",
         "name": "Clearfield County, PA"
        },
        {
         "datacoverage": 1,
         "id": "FIPS:42035",
         "maxdate": "2021-11-12",
         "mindate": "1890-11-01",
         "name": "Clinton County, PA"
        },
        {
         "datacoverage": 1,
         "id": "FIPS:42037",
         "maxdate": "2021-11-12",
         "mindate": "1894-01-01",
         "name": "Columbia County, PA"
        },
        {
         "datacoverage": 1,
         "id": "FIPS:42039",
         "maxdate": "2021-11-13",
         "mindate": "1894-01-01",
         "name": "Crawford County, PA"
        },
        {
         "datacoverage": 1,
         "id": "FIPS:42041",
         "maxdate": "2021-11-12",
         "mindate": "1849-04-01",
         "name": "Cumberland County, PA"
        },
        {
         "datacoverage": 1,
         "id": "FIPS:42043",
         "maxdate": "2021-11-13",
         "mindate": "1888-07-01",
         "name": "Dauphin County, PA"
        },
        {
         "datacoverage": 1,
         "id": "FIPS:42045",
         "maxdate": "2021-11-13",
         "mindate": "1894-01-01",
         "name": "Delaware County, PA"
        },
        {
         "datacoverage": 1,
         "id": "FIPS:42047",
         "maxdate": "2021-11-12",
         "mindate": "1893-01-01",
         "name": "Elk County, PA"
        },
        {
         "datacoverage": 1,
         "id": "FIPS:42049",
         "maxdate": "2021-11-13",
         "mindate": "1893-01-01",
         "name": "Erie County, PA"
        },
        {
         "datacoverage": 1,
         "id": "FIPS:42051",
         "maxdate": "2021-11-13",
         "mindate": "1888-01-01",
         "name": "Fayette County, PA"
        },
        {
         "datacoverage": 1,
         "id": "FIPS:42053",
         "maxdate": "2021-11-12",
         "mindate": "1921-03-01",
         "name": "Forest County, PA"
        },
        {
         "datacoverage": 1,
         "id": "FIPS:42055",
         "maxdate": "2021-11-12",
         "mindate": "1893-01-01",
         "name": "Franklin County, PA"
        },
        {
         "datacoverage": 1,
         "id": "FIPS:42057",
         "maxdate": "2021-11-12",
         "mindate": "1909-03-01",
         "name": "Fulton County, PA"
        },
        {
         "datacoverage": 1,
         "id": "FIPS:42059",
         "maxdate": "2021-11-12",
         "mindate": "1900-12-01",
         "name": "Greene County, PA"
        },
        {
         "datacoverage": 1,
         "id": "FIPS:42061",
         "maxdate": "2021-11-12",
         "mindate": "1894-01-01",
         "name": "Huntingdon County, PA"
        },
        {
         "datacoverage": 1,
         "id": "FIPS:42063",
         "maxdate": "2021-11-13",
         "mindate": "1893-01-01",
         "name": "Indiana County, PA"
        },
        {
         "datacoverage": 1,
         "id": "FIPS:42065",
         "maxdate": "2021-11-13",
         "mindate": "1892-05-01",
         "name": "Jefferson County, PA"
        },
        {
         "datacoverage": 1,
         "id": "FIPS:42067",
         "maxdate": "2021-11-12",
         "mindate": "1895-05-01",
         "name": "Juniata County, PA"
        },
        {
         "datacoverage": 1,
         "id": "FIPS:42069",
         "maxdate": "2021-11-12",
         "mindate": "1914-07-01",
         "name": "Lackawanna County, PA"
        },
        {
         "datacoverage": 1,
         "id": "FIPS:42071",
         "maxdate": "2021-11-13",
         "mindate": "1894-01-01",
         "name": "Lancaster County, PA"
        },
        {
         "datacoverage": 1,
         "id": "FIPS:42073",
         "maxdate": "2021-11-13",
         "mindate": "1892-05-01",
         "name": "Lawrence County, PA"
        },
        {
         "datacoverage": 1,
         "id": "FIPS:42075",
         "maxdate": "2021-11-13",
         "mindate": "1894-01-01",
         "name": "Lebanon County, PA"
        },
        {
         "datacoverage": 1,
         "id": "FIPS:42077",
         "maxdate": "2021-11-13",
         "mindate": "1894-01-01",
         "name": "Lehigh County, PA"
        },
        {
         "datacoverage": 1,
         "id": "FIPS:42079",
         "maxdate": "2021-11-13",
         "mindate": "1893-01-01",
         "name": "Luzerne County, PA"
        },
        {
         "datacoverage": 1,
         "id": "FIPS:42081",
         "maxdate": "2021-11-13",
         "mindate": "1895-02-01",
         "name": "Lycoming County, PA"
        },
        {
         "datacoverage": 1,
         "id": "FIPS:42083",
         "maxdate": "2021-11-13",
         "mindate": "1894-01-01",
         "name": "McKean County, PA"
        },
        {
         "datacoverage": 1,
         "id": "FIPS:42085",
         "maxdate": "2021-11-12",
         "mindate": "1894-01-01",
         "name": "Mercer County, PA"
        },
        {
         "datacoverage": 1,
         "id": "FIPS:42087",
         "maxdate": "2021-11-12",
         "mindate": "1897-10-01",
         "name": "Mifflin County, PA"
        },
        {
         "datacoverage": 1,
         "id": "FIPS:42089",
         "maxdate": "2021-11-13",
         "mindate": "1897-01-01",
         "name": "Monroe County, PA"
        },
        {
         "datacoverage": 1,
         "id": "FIPS:42091",
         "maxdate": "2021-11-13",
         "mindate": "1893-08-01",
         "name": "Montgomery County, PA"
        },
        {
         "datacoverage": 1,
         "id": "FIPS:42093",
         "maxdate": "2021-11-12",
         "mindate": "1939-11-06",
         "name": "Montour County, PA"
        },
        {
         "datacoverage": 1,
         "id": "FIPS:42095",
         "maxdate": "2021-11-12",
         "mindate": "1894-01-01",
         "name": "Northampton County, PA"
        },
        {
         "datacoverage": 1,
         "id": "FIPS:42097",
         "maxdate": "2021-11-12",
         "mindate": "1913-04-01",
         "name": "Northumberland County, PA"
        },
        {
         "datacoverage": 1,
         "id": "FIPS:42099",
         "maxdate": "2021-11-12",
         "mindate": "1893-01-01",
         "name": "Perry County, PA"
        },
        {
         "datacoverage": 1,
         "id": "FIPS:42101",
         "maxdate": "2021-11-13",
         "mindate": "1871-11-01",
         "name": "Philadelphia County, PA"
        },
        {
         "datacoverage": 1,
         "id": "FIPS:42103",
         "maxdate": "2021-11-12",
         "mindate": "1893-01-01",
         "name": "Pike County, PA"
        },
        {
         "datacoverage": 1,
         "id": "FIPS:42105",
         "maxdate": "2021-11-12",
         "mindate": "1893-12-01",
         "name": "Potter County, PA"
        },
        {
         "datacoverage": 1,
         "id": "FIPS:42107",
         "maxdate": "2021-11-12",
         "mindate": "1894-01-01",
         "name": "Schuylkill County, PA"
        },
        {
         "datacoverage": 1,
         "id": "FIPS:42109",
         "maxdate": "2021-11-13",
         "mindate": "1893-01-01",
         "name": "Snyder County, PA"
        },
        {
         "datacoverage": 1,
         "id": "FIPS:42111",
         "maxdate": "2021-11-12",
         "mindate": "1893-01-01",
         "name": "Somerset County, PA"
        },
        {
         "datacoverage": 1,
         "id": "FIPS:42113",
         "maxdate": "2021-11-12",
         "mindate": "1909-10-01",
         "name": "Sullivan County, PA"
        },
        {
         "datacoverage": 1,
         "id": "FIPS:42115",
         "maxdate": "2021-11-12",
         "mindate": "1894-01-01",
         "name": "Susquehanna County, PA"
        },
        {
         "datacoverage": 1,
         "id": "FIPS:42117",
         "maxdate": "2021-11-12",
         "mindate": "1893-01-01",
         "name": "Tioga County, PA"
        },
        {
         "datacoverage": 1,
         "id": "FIPS:42119",
         "maxdate": "2021-11-12",
         "mindate": "1894-01-01",
         "name": "Union County, PA"
        },
        {
         "datacoverage": 1,
         "id": "FIPS:42121",
         "maxdate": "2021-11-13",
         "mindate": "1897-01-01",
         "name": "Venango County, PA"
        },
        {
         "datacoverage": 1,
         "id": "FIPS:42123",
         "maxdate": "2021-11-12",
         "mindate": "1893-01-01",
         "name": "Warren County, PA"
        },
        {
         "datacoverage": 1,
         "id": "FIPS:42125",
         "maxdate": "2021-11-13",
         "mindate": "1896-05-01",
         "name": "Washington County, PA"
        },
        {
         "datacoverage": 1,
         "id": "FIPS:42127",
         "maxdate": "2021-11-12",
         "mindate": "1893-01-01",
         "name": "Wayne County, PA"
        },
        {
         "datacoverage": 1,
         "id": "FIPS:42129",
         "maxdate": "2021-11-13",
         "mindate": "1886-01-01",
         "name": "Westmoreland County, PA"
        },
        {
         "datacoverage": 1,
         "id": "FIPS:42131",
         "maxdate": "2021-11-12",
         "mindate": "1942-01-01",
         "name": "Wyoming County, PA"
        },
        {
         "datacoverage": 1,
         "id": "FIPS:42133",
         "maxdate": "2021-11-13",
         "mindate": "1894-01-01",
         "name": "York County, PA"
        },
        {
         "datacoverage": 1,
         "id": "FIPS:44",
         "maxdate": "2021-11-13",
         "mindate": "1893-01-01",
         "name": "Rhode Island"
        },
        {
         "datacoverage": 0.998,
         "id": "FIPS:44001",
         "maxdate": "2021-11-12",
         "mindate": "1896-05-01",
         "name": "Bristol County, RI"
        },
        {
         "datacoverage": 1,
         "id": "FIPS:44003",
         "maxdate": "2021-11-13",
         "mindate": "1910-01-01",
         "name": "Kent County, RI"
        },
        {
         "datacoverage": 1,
         "id": "FIPS:44005",
         "maxdate": "2021-11-13",
         "mindate": "1893-01-01",
         "name": "Newport County, RI"
        },
        {
         "datacoverage": 1,
         "id": "FIPS:44007",
         "maxdate": "2021-11-13",
         "mindate": "1893-01-01",
         "name": "Providence County, RI"
        },
        {
         "datacoverage": 1,
         "id": "FIPS:44009",
         "maxdate": "2021-11-13",
         "mindate": "1893-01-01",
         "name": "Washington County, RI"
        },
        {
         "datacoverage": 1,
         "id": "FIPS:45",
         "maxdate": "2021-11-13",
         "mindate": "1849-05-01",
         "name": "South Carolina"
        },
        {
         "datacoverage": 1,
         "id": "FIPS:45001",
         "maxdate": "2021-11-12",
         "mindate": "1899-03-01",
         "name": "Abbeville County, SC"
        },
        {
         "datacoverage": 1,
         "id": "FIPS:45003",
         "maxdate": "2021-11-13",
         "mindate": "1893-01-01",
         "name": "Aiken County, SC"
        },
        {
         "datacoverage": 1,
         "id": "FIPS:45005",
         "maxdate": "2021-11-12",
         "mindate": "1956-02-01",
         "name": "Allendale County, SC"
        },
        {
         "datacoverage": 1,
         "id": "FIPS:45007",
         "maxdate": "2021-11-13",
         "mindate": "1892-01-01",
         "name": "Anderson County, SC"
        },
        {
         "datacoverage": 1,
         "id": "FIPS:45009",
         "maxdate": "2021-11-12",
         "mindate": "1948-01-01",
         "name": "Bamberg County, SC"
        },
        {
         "datacoverage": 1,
         "id": "FIPS:45011",
         "maxdate": "2021-11-13",
         "mindate": "1893-11-01",
         "name": "Barnwell County, SC"
        },
        {
         "datacoverage": 1,
         "id": "FIPS:45013",
         "maxdate": "2021-11-13",
         "mindate": "1893-01-01",
         "name": "Beaufort County, SC"
        },
        {
         "datacoverage": 1,
         "id": "FIPS:45015",
         "maxdate": "2021-11-13",
         "mindate": "1893-05-01",
         "name": "Berkeley County, SC"
        },
        {
         "datacoverage": 1,
         "id": "FIPS:45017",
         "maxdate": "2021-11-12",
         "mindate": "1898-10-01",
         "name": "Calhoun County, SC"
        },
        {
         "datacoverage": 1,
         "id": "FIPS:45019",
         "maxdate": "2021-11-13",
         "mindate": "1893-01-01",
         "name": "Charleston County, SC"
        },
        {
         "datacoverage": 1,
         "id": "FIPS:45021",
         "maxdate": "2021-11-12",
         "mindate": "1898-10-01",
         "name": "Cherokee County, SC"
        },
        {
         "datacoverage": 1,
         "id": "FIPS:45023",
         "maxdate": "2021-11-13",
         "mindate": "1922-09-01",
         "name": "Chester County, SC"
        },
        {
         "datacoverage": 1,
         "id": "FIPS:45025",
         "maxdate": "2021-11-13",
         "mindate": "1893-01-01",
         "name": "Chesterfield County, SC"
        },
        {
         "datacoverage": 1,
         "id": "FIPS:45027",
         "maxdate": "2021-11-13",
         "mindate": "1911-01-01",
         "name": "Clarendon County, SC"
        },
        {
         "datacoverage": 1,
         "id": "FIPS:45029",
         "maxdate": "2021-11-13",
         "mindate": "1903-05-01",
         "name": "Colleton County, SC"
        },
        {
         "datacoverage": 1,
         "id": "FIPS:45031",
         "maxdate": "2021-11-13",
         "mindate": "1893-05-01",
         "name": "Darlington County, SC"
        },
        {
         "datacoverage": 1,
         "id": "FIPS:45033",
         "maxdate": "2021-11-12",
         "mindate": "1904-02-01",
         "name": "Dillon County, SC"
        },
        {
         "datacoverage": 1,
         "id": "FIPS:45035",
         "maxdate": "2021-11-13",
         "mindate": "1893-09-01",
         "name": "Dorchester County, SC"
        },
        {
         "datacoverage": 1,
         "id": "FIPS:45037",
         "maxdate": "2021-11-12",
         "mindate": "1893-05-01",
         "name": "Edgefield County, SC"
        },
        {
         "datacoverage": 1,
         "id": "FIPS:45039",
         "maxdate": "2021-11-13",
         "mindate": "1896-03-01",
         "name": "Fairfield County, SC"
        },
        {
         "datacoverage": 1,
         "id": "FIPS:45041",
         "maxdate": "2021-11-13",
         "mindate": "1893-05-01",
         "name": "Florence County, SC"
        },
        {
         "datacoverage": 1,
         "id": "FIPS:45043",
         "maxdate": "2021-11-13",
         "mindate": "1893-06-01",
         "name": "Georgetown County, SC"
        },
        {
         "datacoverage": 1,
         "id": "FIPS:45045",
         "maxdate": "2021-11-13",
         "mindate": "1884-04-01",
         "name": "Greenville County, SC"
        },
        {
         "datacoverage": 1,
         "id": "FIPS:45047",
         "maxdate": "2021-11-13",
         "mindate": "1894-05-01",
         "name": "Greenwood County, SC"
        },
        {
         "datacoverage": 1,
         "id": "FIPS:45049",
         "maxdate": "2021-11-12",
         "mindate": "1899-01-01",
         "name": "Hampton County, SC"
        },
        {
         "datacoverage": 1,
         "id": "FIPS:45051",
         "maxdate": "2021-11-13",
         "mindate": "1893-03-01",
         "name": "Horry County, SC"
        },
        {
         "datacoverage": 1,
         "id": "FIPS:45053",
         "maxdate": "2021-11-12",
         "mindate": "1941-11-01",
         "name": "Jasper County, SC"
        },
        {
         "datacoverage": 1,
         "id": "FIPS:45055",
         "maxdate": "2021-11-13",
         "mindate": "1849-05-01",
         "name": "Kershaw County, SC"
        },
        {
         "datacoverage": 1,
         "id": "FIPS:45057",
         "maxdate": "2021-11-13",
         "mindate": "1902-01-01",
         "name": "Lancaster County, SC"
        },
        {
         "datacoverage": 1,
         "id": "FIPS:45059",
         "maxdate": "2021-11-13",
         "mindate": "1901-09-01",
         "name": "Laurens County, SC"
        },
        {
         "datacoverage": 1,
         "id": "FIPS:45061",
         "maxdate": "2021-11-12",
         "mindate": "1933-04-01",
         "name": "Lee County, SC"
        },
        {
         "datacoverage": 1,
         "id": "FIPS:45063",
         "maxdate": "2021-11-13",
         "mindate": "1894-05-01",
         "name": "Lexington County, SC"
        },
        {
         "datacoverage": 1,
         "id": "FIPS:45065",
         "maxdate": "2021-11-12",
         "mindate": "1902-12-01",
         "name": "McCormick County, SC"
        },
        {
         "datacoverage": 1,
         "id": "FIPS:45067",
         "maxdate": "2021-11-13",
         "mindate": "1893-05-01",
         "name": "Marion County, SC"
        },
        {
         "datacoverage": 1,
         "id": "FIPS:45069",
         "maxdate": "2021-11-13",
         "mindate": "1901-02-01",
         "name": "Marlboro County, SC"
        },
        {
         "datacoverage": 1,
         "id": "FIPS:45071",
         "maxdate": "2021-11-13",
         "mindate": "1893-01-01",
         "name": "Newberry County, SC"
        },
        {
         "datacoverage": 1,
         "id": "FIPS:45073",
         "maxdate": "2021-11-13",
         "mindate": "1896-07-01",
         "name": "Oconee County, SC"
        },
        {
         "datacoverage": 1,
         "id": "FIPS:45075",
         "maxdate": "2021-11-13",
         "mindate": "1894-01-01",
         "name": "Orangeburg County, SC"
        },
        {
         "datacoverage": 1,
         "id": "FIPS:45077",
         "maxdate": "2021-11-13",
         "mindate": "1896-05-01",
         "name": "Pickens County, SC"
        },
        {
         "datacoverage": 1,
         "id": "FIPS:45079",
         "maxdate": "2021-11-13",
         "mindate": "1892-01-01",
         "name": "Richland County, SC"
        },
        {
         "datacoverage": 1,
         "id": "FIPS:45081",
         "maxdate": "2021-11-12",
         "mindate": "1902-04-01",
         "name": "Saluda County, SC"
        },
        {
         "datacoverage": 1,
         "id": "FIPS:45083",
         "maxdate": "2021-11-13",
         "mindate": "1915-01-01",
         "name": "Spartanburg County, SC"
        },
        {
         "datacoverage": 1,
         "id": "FIPS:45085",
         "maxdate": "2021-11-13",
         "mindate": "1893-01-01",
         "name": "Sumter County, SC"
        },
        {
         "datacoverage": 1,
         "id": "FIPS:45087",
         "maxdate": "2021-11-12",
         "mindate": "1893-08-01",
         "name": "Union County, SC"
        },
        {
         "datacoverage": 1,
         "id": "FIPS:45089",
         "maxdate": "2021-11-13",
         "mindate": "1893-08-01",
         "name": "Williamsburg County, SC"
        },
        {
         "datacoverage": 1,
         "id": "FIPS:45091",
         "maxdate": "2021-11-13",
         "mindate": "1899-12-01",
         "name": "York County, SC"
        },
        {
         "datacoverage": 1,
         "id": "FIPS:46",
         "maxdate": "2021-11-13",
         "mindate": "1893-01-01",
         "name": "South Dakota"
        },
        {
         "datacoverage": 1,
         "id": "FIPS:46003",
         "maxdate": "2021-11-12",
         "mindate": "1896-01-01",
         "name": "Aurora County, SD"
        },
        {
         "datacoverage": 1,
         "id": "FIPS:46005",
         "maxdate": "2021-11-13",
         "mindate": "1893-01-01",
         "name": "Beadle County, SD"
        },
        {
         "datacoverage": 1,
         "id": "FIPS:46007",
         "maxdate": "2021-11-12",
         "mindate": "1911-10-01",
         "name": "Bennett County, SD"
        },
        {
         "datacoverage": 1,
         "id": "FIPS:46009",
         "maxdate": "2021-11-12",
         "mindate": "1896-01-01",
         "name": "Bon Homme County, SD"
        },
        {
         "datacoverage": 1,
         "id": "FIPS:46011",
         "maxdate": "2021-11-13",
         "mindate": "1893-01-01",
         "name": "Brookings County, SD"
        },
        {
         "datacoverage": 1,
         "id": "FIPS:46013",
         "maxdate": "2021-11-13",
         "mindate": "1893-01-01",
         "name": "Brown County, SD"
        },
        {
         "datacoverage": 1,
         "id": "FIPS:46015",
         "maxdate": "2021-11-13",
         "mindate": "1893-01-01",
         "name": "Brule County, SD"
        },
        {
         "datacoverage": 1,
         "id": "FIPS:46017",
         "maxdate": "2021-11-12",
         "mindate": "1898-01-01",
         "name": "Buffalo County, SD"
        },
        {
         "datacoverage": 1,
         "id": "FIPS:46019",
         "maxdate": "2021-11-12",
         "mindate": "1906-06-01",
         "name": "Butte County, SD"
        },
        {
         "datacoverage": 1,
         "id": "FIPS:46021",
         "maxdate": "2021-11-12",
         "mindate": "1900-10-07",
         "name": "Campbell County, SD"
        },
        {
         "datacoverage": 1,
         "id": "FIPS:46023",
         "maxdate": "2021-11-12",
         "mindate": "1898-07-01",
         "name": "Charles Mix County, SD"
        },
        {
         "datacoverage": 1,
         "id": "FIPS:46025",
         "maxdate": "2021-11-12",
         "mindate": "1893-01-01",
         "name": "Clark County, SD"
        },
        {
         "datacoverage": 1,
         "id": "FIPS:46027",
         "maxdate": "2021-11-12",
         "mindate": "1893-01-01",
         "name": "Clay County, SD"
        },
        {
         "datacoverage": 1,
         "id": "FIPS:46029",
         "maxdate": "2021-11-13",
         "mindate": "1893-01-01",
         "name": "Codington County, SD"
        },
        {
         "datacoverage": 1,
         "id": "FIPS:46031",
         "maxdate": "2021-11-12",
         "mindate": "1899-10-01",
         "name": "Corson County, SD"
        },
        {
         "datacoverage": 1,
         "id": "FIPS:46033",
         "maxdate": "2021-11-13",
         "mindate": "1906-01-01",
         "name": "Custer County, SD"
        },
        {
         "datacoverage": 1,
         "id": "FIPS:46035",
         "maxdate": "2021-11-13",
         "mindate": "1893-01-01",
         "name": "Davison County, SD"
        },
        {
         "datacoverage": 1,
         "id": "FIPS:46037",
         "maxdate": "2021-11-12",
         "mindate": "1896-01-01",
         "name": "Day County, SD"
        },
        {
         "datacoverage": 1,
         "id": "FIPS:46039",
         "maxdate": "2021-11-12",
         "mindate": "1903-06-27",
         "name": "Deuel County, SD"
        },
        {
         "datacoverage": 1,
         "id": "FIPS:46041",
         "maxdate": "2021-11-12",
         "mindate": "1904-07-01",
         "name": "Dewey County, SD"
        },
        {
         "datacoverage": 1,
         "id": "FIPS:46043",
         "maxdate": "2021-11-12",
         "mindate": "1896-04-01",
         "name": "Douglas County, SD"
        },
        {
         "datacoverage": 1,
         "id": "FIPS:46045",
         "maxdate": "2021-11-12",
         "mindate": "1893-01-01",
         "name": "Edmunds County, SD"
        },
        {
         "datacoverage": 1,
         "id": "FIPS:46047",
         "maxdate": "2021-11-12",
         "mindate": "1893-01-01",
         "name": "Fall River County, SD"
        },
        {
         "datacoverage": 1,
         "id": "FIPS:46049",
         "maxdate": "2021-11-12",
         "mindate": "1893-01-01",
         "name": "Faulk County, SD"
        },
        {
         "datacoverage": 1,
         "id": "FIPS:46051",
         "maxdate": "2021-11-12",
         "mindate": "1893-01-01",
         "name": "Grant County, SD"
        },
        {
         "datacoverage": 1,
         "id": "FIPS:46053",
         "maxdate": "2021-11-12",
         "mindate": "1902-09-01",
         "name": "Gregory County, SD"
        },
        {
         "datacoverage": 1,
         "id": "FIPS:46055",
         "maxdate": "2021-11-13",
         "mindate": "1895-12-01",
         "name": "Haakon County, SD"
        },
        {
         "datacoverage": 1,
         "id": "FIPS:46057",
         "maxdate": "2021-11-12",
         "mindate": "1896-01-01",
         "name": "Hamlin County, SD"
        },
        {
         "datacoverage": 1,
         "id": "FIPS:46059",
         "maxdate": "2021-11-12",
         "mindate": "1902-01-01",
         "name": "Hand County, SD"
        },
        {
         "datacoverage": 1,
         "id": "FIPS:46061",
         "maxdate": "2021-11-12",
         "mindate": "1893-01-01",
         "name": "Hanson County, SD"
        },
        {
         "datacoverage": 1,
         "id": "FIPS:46063",
         "maxdate": "2021-11-13",
         "mindate": "1893-01-01",
         "name": "Harding County, SD"
        },
        {
         "datacoverage": 1,
         "id": "FIPS:46065",
         "maxdate": "2021-11-13",
         "mindate": "1893-01-01",
         "name": "Hughes County, SD"
        },
        {
         "datacoverage": 1,
         "id": "FIPS:46067",
         "maxdate": "2021-11-12",
         "mindate": "1895-12-01",
         "name": "Hutchinson County, SD"
        },
        {
         "datacoverage": 1,
         "id": "FIPS:46069",
         "maxdate": "2021-11-12",
         "mindate": "1893-01-01",
         "name": "Hyde County, SD"
        },
        {
         "datacoverage": 1,
         "id": "FIPS:46071",
         "maxdate": "2021-11-12",
         "mindate": "1897-11-01",
         "name": "Jackson County, SD"
        },
        {
         "datacoverage": 1,
         "id": "FIPS:46073",
         "maxdate": "2021-11-12",
         "mindate": "1896-01-01",
         "name": "Jerauld County, SD"
        },
        {
         "datacoverage": 1,
         "id": "FIPS:46075",
         "maxdate": "2021-11-12",
         "mindate": "1903-03-02",
         "name": "Jones County, SD"
        },
        {
         "datacoverage": 1,
         "id": "FIPS:46077",
         "maxdate": "2021-11-12",
         "mindate": "1893-01-01",
         "name": "Kingsbury County, SD"
        },
        {
         "datacoverage": 1,
         "id": "FIPS:46079",
         "maxdate": "2021-11-13",
         "mindate": "1893-01-01",
         "name": "Lake County, SD"
        },
        {
         "datacoverage": 1,
         "id": "FIPS:46081",
         "maxdate": "2021-11-13",
         "mindate": "1893-01-01",
         "name": "Lawrence County, SD"
        },
        {
         "datacoverage": 1,
         "id": "FIPS:46083",
         "maxdate": "2021-11-12",
         "mindate": "1896-04-01",
         "name": "Lincoln County, SD"
        },
        {
         "datacoverage": 1,
         "id": "FIPS:46085",
         "maxdate": "2021-11-13",
         "mindate": "1893-01-01",
         "name": "Lyman County, SD"
        },
        {
         "datacoverage": 1,
         "id": "FIPS:46087",
         "maxdate": "2021-11-12",
         "mindate": "1898-03-01",
         "name": "McCook County, SD"
        },
        {
         "datacoverage": 1,
         "id": "FIPS:46089",
         "maxdate": "2021-11-13",
         "mindate": "1897-09-01",
         "name": "McPherson County, SD"
        },
        {
         "datacoverage": 1,
         "id": "FIPS:46091",
         "maxdate": "2021-11-12",
         "mindate": "1896-02-01",
         "name": "Marshall County, SD"
        },
        {
         "datacoverage": 1,
         "id": "FIPS:46093",
         "maxdate": "2021-11-13",
         "mindate": "1902-01-01",
         "name": "Meade County, SD"
        },
        {
         "datacoverage": 1,
         "id": "FIPS:46095",
         "maxdate": "2021-11-12",
         "mindate": "1900-12-01",
         "name": "Mellette County, SD"
        },
        {
         "datacoverage": 1,
         "id": "FIPS:46097",
         "maxdate": "2021-11-12",
         "mindate": "1893-01-01",
         "name": "Miner County, SD"
        },
        {
         "datacoverage": 1,
         "id": "FIPS:46099",
         "maxdate": "2021-11-13",
         "mindate": "1932-01-01",
         "name": "Minnehaha County, SD"
        },
        {
         "datacoverage": 1,
         "id": "FIPS:46101",
         "maxdate": "2021-11-12",
         "mindate": "1893-01-01",
         "name": "Moody County, SD"
        },
        {
         "datacoverage": 1,
         "id": "FIPS:46103",
         "maxdate": "2021-11-13",
         "mindate": "1893-01-01",
         "name": "Pennington County, SD"
        },
        {
         "datacoverage": 1,
         "id": "FIPS:46105",
         "maxdate": "2021-11-12",
         "mindate": "1908-05-01",
         "name": "Perkins County, SD"
        },
        {
         "datacoverage": 1,
         "id": "FIPS:46107",
         "maxdate": "2021-11-12",
         "mindate": "1896-01-01",
         "name": "Potter County, SD"
        },
        {
         "datacoverage": 1,
         "id": "FIPS:46109",
         "maxdate": "2021-11-13",
         "mindate": "1900-02-01",
         "name": "Roberts County, SD"
        },
        {
         "datacoverage": 1,
         "id": "FIPS:46111",
         "maxdate": "2021-11-12",
         "mindate": "1893-01-01",
         "name": "Sanborn County, SD"
        },
        {
         "datacoverage": 1,
         "id": "FIPS:46113",
         "maxdate": "2021-11-13",
         "mindate": "1901-01-01",
         "name": "Shannon County, SD"
        },
        {
         "datacoverage": 1,
         "id": "FIPS:46115",
         "maxdate": "2021-11-12",
         "mindate": "1893-01-01",
         "name": "Spink County, SD"
        },
        {
         "datacoverage": 1,
         "id": "FIPS:46117",
         "maxdate": "2021-11-12",
         "mindate": "1909-09-01",
         "name": "Stanley County, SD"
        },
        {
         "datacoverage": 1,
         "id": "FIPS:46119",
         "maxdate": "2021-11-12",
         "mindate": "1913-01-01",
         "name": "Sully County, SD"
        },
        {
         "datacoverage": 1,
         "id": "FIPS:46121",
         "maxdate": "2021-11-12",
         "mindate": "1893-01-01",
         "name": "Todd County, SD"
        },
        {
         "datacoverage": 1,
         "id": "FIPS:46123",
         "maxdate": "2021-11-13",
         "mindate": "1910-03-01",
         "name": "Tripp County, SD"
        },
        {
         "datacoverage": 1,
         "id": "FIPS:46125",
         "maxdate": "2021-11-12",
         "mindate": "1897-04-01",
         "name": "Turner County, SD"
        },
        {
         "datacoverage": 1,
         "id": "FIPS:46127",
         "maxdate": "2021-11-12",
         "mindate": "1898-10-01",
         "name": "Union County, SD"
        },
        {
         "datacoverage": 1,
         "id": "FIPS:46129",
         "maxdate": "2021-11-12",
         "mindate": "1907-09-24",
         "name": "Walworth County, SD"
        },
        {
         "datacoverage": 1,
         "id": "FIPS:46135",
         "maxdate": "2021-11-13",
         "mindate": "1931-01-01",
         "name": "Yankton County, SD"
        },
        {
         "datacoverage": 1,
         "id": "FIPS:46137",
         "maxdate": "2021-11-12",
         "mindate": "1895-03-01",
         "name": "Ziebach County, SD"
        },
        {
         "datacoverage": 1,
         "id": "FIPS:47",
         "maxdate": "2021-11-13",
         "mindate": "1879-01-01",
         "name": "Tennessee"
        },
        {
         "datacoverage": 1,
         "id": "FIPS:47001",
         "maxdate": "2021-11-13",
         "mindate": "1896-09-01",
         "name": "Anderson County, TN"
        },
        {
         "datacoverage": 1,
         "id": "FIPS:47003",
         "maxdate": "2021-11-12",
         "mindate": "1893-03-01",
         "name": "Bedford County, TN"
        },
        {
         "datacoverage": 1,
         "id": "FIPS:47005",
         "maxdate": "2021-11-12",
         "mindate": "1943-09-01",
         "name": "Benton County, TN"
        },
        {
         "datacoverage": 1,
         "id": "FIPS:47007",
         "maxdate": "2021-11-12",
         "mindate": "1949-01-01",
         "name": "Bledsoe County, TN"
        },
        {
         "datacoverage": 1,
         "id": "FIPS:47009",
         "maxdate": "2021-11-13",
         "mindate": "1942-03-01",
         "name": "Blount County, TN"
        },
        {
         "datacoverage": 1,
         "id": "FIPS:47011",
         "maxdate": "2021-11-12",
         "mindate": "1895-12-01",
         "name": "Bradley County, TN"
        },
        {
         "datacoverage": 1,
         "id": "FIPS:47013",
         "maxdate": "2021-11-12",
         "mindate": "1896-05-01",
         "name": "Campbell County, TN"
        },
        {
         "datacoverage": 1,
         "id": "FIPS:47015",
         "maxdate": "2021-11-12",
         "mindate": "1954-07-01",
         "name": "Cannon County, TN"
        },
        {
         "datacoverage": 1,
         "id": "FIPS:47017",
         "maxdate": "2021-11-12",
         "mindate": "1890-05-01",
         "name": "Carroll County, TN"
        },
        {
         "datacoverage": 1,
         "id": "FIPS:47019",
         "maxdate": "2021-11-13",
         "mindate": "1932-11-01",
         "name": "Carter County, TN"
        },
        {
         "datacoverage": 1,
         "id": "FIPS:47021",
         "maxdate": "2021-11-12",
         "mindate": "1936-09-19",
         "name": "Cheatham County, TN"
        },
        {
         "datacoverage": 1,
         "id": "FIPS:47023",
         "maxdate": "2021-11-12",
         "mindate": "1949-01-01",
         "name": "Chester County, TN"
        },
        {
         "datacoverage": 1,
         "id": "FIPS:47025",
         "maxdate": "2021-11-12",
         "mindate": "1897-11-01",
         "name": "Claiborne County, TN"
        },
        {
         "datacoverage": 1,
         "id": "FIPS:47027",
         "maxdate": "2021-11-12",
         "mindate": "1903-12-01",
         "name": "Clay County, TN"
        },
        {
         "datacoverage": 1,
         "id": "FIPS:47029",
         "maxdate": "2021-11-12",
         "mindate": "1948-08-01",
         "name": "Cocke County, TN"
        },
        {
         "datacoverage": 1,
         "id": "FIPS:47031",
         "maxdate": "2021-11-13",
         "mindate": "1893-03-01",
         "name": "Coffee County, TN"
        },
        {
         "datacoverage": 1,
         "id": "FIPS:47033",
         "maxdate": "2021-11-12",
         "mindate": "1995-05-01",
         "name": "Crockett County, TN"
        },
        {
         "datacoverage": 1,
         "id": "FIPS:47035",
         "maxdate": "2021-11-13",
         "mindate": "1912-03-01",
         "name": "Cumberland County, TN"
        },
        {
         "datacoverage": 1,
         "id": "FIPS:47037",
         "maxdate": "2021-11-13",
         "mindate": "1898-02-01",
         "name": "Davidson County, TN"
        },
        {
         "datacoverage": 1,
         "id": "FIPS:47039",
         "maxdate": "2021-11-12",
         "mindate": "1896-01-01",
         "name": "Decatur County, TN"
        },
        {
         "datacoverage": 1,
         "id": "FIPS:47041",
         "maxdate": "2021-11-12",
         "mindate": "1896-01-01",
         "name": "DeKalb County, TN"
        },
        {
         "datacoverage": 1,
         "id": "FIPS:47043",
         "maxdate": "2021-11-12",
         "mindate": "1900-07-01",
         "name": "Dickson County, TN"
        },
        {
         "datacoverage": 1,
         "id": "FIPS:47045",
         "maxdate": "2021-11-13",
         "mindate": "1924-04-01",
         "name": "Dyer County, TN"
        },
        {
         "datacoverage": 1,
         "id": "FIPS:47047",
         "maxdate": "2021-11-12",
         "mindate": "1920-05-23",
         "name": "Fayette County, TN"
        },
        {
         "datacoverage": 1,
         "id": "FIPS:47049",
         "maxdate": "2021-11-12",
         "mindate": "1949-01-01",
         "name": "Fentress County, TN"
        },
        {
         "datacoverage": 1,
         "id": "FIPS:47051",
         "maxdate": "2021-11-13",
         "mindate": "1895-05-01",
         "name": "Franklin County, TN"
        },
        {
         "datacoverage": 1,
         "id": "FIPS:47053",
         "maxdate": "2021-11-12",
         "mindate": "1883-03-01",
         "name": "Gibson County, TN"
        },
        {
         "datacoverage": 1,
         "id": "FIPS:47055",
         "maxdate": "2021-11-12",
         "mindate": "1890-05-01",
         "name": "Giles County, TN"
        },
        {
         "datacoverage": 1,
         "id": "FIPS:47057",
         "maxdate": "2021-11-12",
         "mindate": "1949-01-01",
         "name": "Grainger County, TN"
        },
        {
         "datacoverage": 1,
         "id": "FIPS:47059",
         "maxdate": "2021-11-12",
         "mindate": "1890-05-01",
         "name": "Greene County, TN"
        },
        {
         "datacoverage": 1,
         "id": "FIPS:47061",
         "maxdate": "2021-11-12",
         "mindate": "1939-10-24",
         "name": "Grundy County, TN"
        },
        {
         "datacoverage": 1,
         "id": "FIPS:47063",
         "maxdate": "2021-11-12",
         "mindate": "1936-10-01",
         "name": "Hamblen County, TN"
        },
        {
         "datacoverage": 1,
         "id": "FIPS:47065",
         "maxdate": "2021-11-13",
         "mindate": "1879-01-01",
         "name": "Hamilton County, TN"
        },
        {
         "datacoverage": 1,
         "id": "FIPS:47067",
         "maxdate": "2021-11-12",
         "mindate": "1935-08-06",
         "name": "Hancock County, TN"
        },
        {
         "datacoverage": 1,
         "id": "FIPS:47069",
         "maxdate": "2021-11-12",
         "mindate": "1893-01-01",
         "name": "Hardeman County, TN"
        },
        {
         "datacoverage": 1,
         "id": "FIPS:47071",
         "maxdate": "2021-11-12",
         "mindate": "1883-03-01",
         "name": "Hardin County, TN"
        },
        {
         "datacoverage": 1,
         "id": "FIPS:47073",
         "maxdate": "2021-11-12",
         "mindate": "1889-01-01",
         "name": "Hawkins County, TN"
        },
        {
         "datacoverage": 1,
         "id": "FIPS:47075",
         "maxdate": "2021-11-12",
         "mindate": "1895-09-01",
         "name": "Haywood County, TN"
        },
        {
         "datacoverage": 1,
         "id": "FIPS:47077",
         "maxdate": "2021-11-12",
         "mindate": "1897-10-01",
         "name": "Henderson County, TN"
        },
        {
         "datacoverage": 1,
         "id": "FIPS:47079",
         "maxdate": "2021-11-12",
         "mindate": "1903-01-01",
         "name": "Henry County, TN"
        },
        {
         "datacoverage": 1,
         "id": "FIPS:47081",
         "maxdate": "2021-11-12",
         "mindate": "1906-09-01",
         "name": "Hickman County, TN"
        },
        {
         "datacoverage": 1,
         "id": "FIPS:47083",
         "maxdate": "2021-11-12",
         "mindate": "1995-05-01",
         "name": "Houston County, TN"
        },
        {
         "datacoverage": 1,
         "id": "FIPS:47085",
         "maxdate": "2021-11-12",
         "mindate": "1895-11-01",
         "name": "Humphreys County, TN"
        },
        {
         "datacoverage": 1,
         "id": "FIPS:47087",
         "maxdate": "2021-11-12",
         "mindate": "1940-04-19",
         "name": "Jackson County, TN"
        },
        {
         "datacoverage": 1,
         "id": "FIPS:47089",
         "maxdate": "2021-11-12",
         "mindate": "1905-02-05",
         "name": "Jefferson County, TN"
        },
        {
         "datacoverage": 1,
         "id": "FIPS:47091",
         "maxdate": "2021-11-12",
         "mindate": "1897-07-01",
         "name": "Johnson County, TN"
        },
        {
         "datacoverage": 1,
         "id": "FIPS:47093",
         "maxdate": "2021-11-12",
         "mindate": "1910-01-01",
         "name": "Knox County, TN"
        },
        {
         "datacoverage": 1,
         "id": "FIPS:47095",
         "maxdate": "2021-11-12",
         "mindate": "1924-05-01",
         "name": "Lake County, TN"
        },
        {
         "datacoverage": 1,
         "id": "FIPS:47097",
         "maxdate": "2021-11-12",
         "mindate": "1926-04-01",
         "name": "Lauderdale County, TN"
        },
        {
         "datacoverage": 1,
         "id": "FIPS:47099",
         "maxdate": "2021-11-12",
         "mindate": "1895-12-01",
         "name": "Lawrence County, TN"
        },
        {
         "datacoverage": 1,
         "id": "FIPS:47101",
         "maxdate": "2021-11-12",
         "mindate": "1893-01-01",
         "name": "Lewis County, TN"
        },
        {
         "datacoverage": 1,
         "id": "FIPS:47103",
         "maxdate": "2021-11-12",
         "mindate": "1898-01-01",
         "name": "Lincoln County, TN"
        },
        {
         "datacoverage": 1,
         "id": "FIPS:47105",
         "maxdate": "2021-11-12",
         "mindate": "1904-07-01",
         "name": "Loudon County, TN"
        },
        {
         "datacoverage": 1,
         "id": "FIPS:47107",
         "maxdate": "2021-11-12",
         "mindate": "1924-07-01",
         "name": "McMinn County, TN"
        },
        {
         "datacoverage": 1,
         "id": "FIPS:47109",
         "maxdate": "2021-11-12",
         "mindate": "1923-10-01",
         "name": "McNairy County, TN"
        },
        {
         "datacoverage": 1,
         "id": "FIPS:47111",
         "maxdate": "2021-11-12",
         "mindate": "1942-10-01",
         "name": "Macon County, TN"
        },
        {
         "datacoverage": 1,
         "id": "FIPS:47113",
         "maxdate": "2021-11-13",
         "mindate": "1891-08-01",
         "name": "Madison County, TN"
        },
        {
         "datacoverage": 1,
         "id": "FIPS:47115",
         "maxdate": "2021-11-12",
         "mindate": "1940-01-01",
         "name": "Marion County, TN"
        },
        {
         "datacoverage": 1,
         "id": "FIPS:47117",
         "maxdate": "2021-11-12",
         "mindate": "1890-05-01",
         "name": "Marshall County, TN"
        },
        {
         "datacoverage": 1,
         "id": "FIPS:47119",
         "maxdate": "2021-11-13",
         "mindate": "1890-05-01",
         "name": "Maury County, TN"
        },
        {
         "datacoverage": 1,
         "id": "FIPS:47121",
         "maxdate": "2021-11-12",
         "mindate": "1895-11-01",
         "name": "Meigs County, TN"
        },
        {
         "datacoverage": 1,
         "id": "FIPS:47123",
         "maxdate": "2021-11-12",
         "mindate": "1896-04-01",
         "name": "Monroe County, TN"
        },
        {
         "datacoverage": 1,
         "id": "FIPS:47125",
         "maxdate": "2021-11-13",
         "mindate": "1890-05-01",
         "name": "Montgomery County, TN"
        },
        {
         "datacoverage": 1,
         "id": "FIPS:47127",
         "maxdate": "2021-11-12",
         "mindate": "1941-11-01",
         "name": "Moore County, TN"
        },
        {
         "datacoverage": 1,
         "id": "FIPS:47129",
         "maxdate": "2021-11-12",
         "mindate": "1890-05-01",
         "name": "Morgan County, TN"
        },
        {
         "datacoverage": 1,
         "id": "FIPS:47131",
         "maxdate": "2021-11-13",
         "mindate": "1891-08-01",
         "name": "Obion County, TN"
        },
        {
         "datacoverage": 1,
         "id": "FIPS:47133",
         "maxdate": "2021-11-12",
         "mindate": "1910-11-01",
         "name": "Overton County, TN"
        },
        {
         "datacoverage": 1,
         "id": "FIPS:47135",
         "maxdate": "2021-11-12",
         "mindate": "1941-06-01",
         "name": "Perry County, TN"
        },
        {
         "datacoverage": 1,
         "id": "FIPS:47137",
         "maxdate": "2021-11-12",
         "mindate": "1893-01-01",
         "name": "Pickett County, TN"
        },
        {
         "datacoverage": 1,
         "id": "FIPS:47139",
         "maxdate": "2021-11-12",
         "mindate": "1890-05-01",
         "name": "Polk County, TN"
        },
        {
         "datacoverage": 1,
         "id": "FIPS:47141",
         "maxdate": "2021-11-12",
         "mindate": "1904-04-01",
         "name": "Putnam County, TN"
        },
        {
         "datacoverage": 1,
         "id": "FIPS:47143",
         "maxdate": "2021-11-12",
         "mindate": "1935-03-01",
         "name": "Rhea County, TN"
        },
        {
         "datacoverage": 1,
         "id": "FIPS:47145",
         "maxdate": "2021-11-12",
         "mindate": "1884-12-01",
         "name": "Roane County, TN"
        },
        {
         "datacoverage": 1,
         "id": "FIPS:47147",
         "maxdate": "2021-11-12",
         "mindate": "1897-03-01",
         "name": "Robertson County, TN"
        },
        {
         "datacoverage": 1,
         "id": "FIPS:47149",
         "maxdate": "2021-11-13",
         "mindate": "1890-01-01",
         "name": "Rutherford County, TN"
        },
        {
         "datacoverage": 1,
         "id": "FIPS:47151",
         "maxdate": "2021-11-12",
         "mindate": "1908-02-01",
         "name": "Scott County, TN"
        },
        {
         "datacoverage": 1,
         "id": "FIPS:47153",
         "maxdate": "2021-11-12",
         "mindate": "1909-08-01",
         "name": "Sequatchie County, TN"
        },
        {
         "datacoverage": 1,
         "id": "FIPS:47155",
         "maxdate": "2021-11-12",
         "mindate": "1906-01-01",
         "name": "Sevier County, TN"
        },
        {
         "datacoverage": 1,
         "id": "FIPS:47157",
         "maxdate": "2021-11-13",
         "mindate": "1928-01-01",
         "name": "Shelby County, TN"
        },
        {
         "datacoverage": 1,
         "id": "FIPS:47159",
         "maxdate": "2021-11-12",
         "mindate": "1897-12-15",
         "name": "Smith County, TN"
        },
        {
         "datacoverage": 1,
         "id": "FIPS:47161",
         "maxdate": "2021-11-12",
         "mindate": "1897-12-01",
         "name": "Stewart County, TN"
        },
        {
         "datacoverage": 1,
         "id": "FIPS:47163",
         "maxdate": "2021-11-13",
         "mindate": "1895-09-01",
         "name": "Sullivan County, TN"
        },
        {
         "datacoverage": 1,
         "id": "FIPS:47165",
         "maxdate": "2021-11-12",
         "mindate": "1901-12-01",
         "name": "Sumner County, TN"
        },
        {
         "datacoverage": 1,
         "id": "FIPS:47167",
         "maxdate": "2021-11-12",
         "mindate": "1890-05-01",
         "name": "Tipton County, TN"
        },
        {
         "datacoverage": 1,
         "id": "FIPS:47169",
         "maxdate": "2021-11-12",
         "mindate": "1941-09-01",
         "name": "Trousdale County, TN"
        },
        {
         "datacoverage": 1,
         "id": "FIPS:47171",
         "maxdate": "2021-11-12",
         "mindate": "1926-11-01",
         "name": "Unicoi County, TN"
        },
        {
         "datacoverage": 1,
         "id": "FIPS:47173",
         "maxdate": "2021-11-12",
         "mindate": "1948-01-01",
         "name": "Union County, TN"
        },
        {
         "datacoverage": 1,
         "id": "FIPS:47175",
         "maxdate": "2021-11-12",
         "mindate": "1949-01-01",
         "name": "Van Buren County, TN"
        },
        {
         "datacoverage": 1,
         "id": "FIPS:47177",
         "maxdate": "2021-11-12",
         "mindate": "1891-08-01",
         "name": "Warren County, TN"
        },
        {
         "datacoverage": 1,
         "id": "FIPS:47179",
         "maxdate": "2021-11-12",
         "mindate": "1926-05-01",
         "name": "Washington County, TN"
        },
        {
         "datacoverage": 1,
         "id": "FIPS:47181",
         "maxdate": "2021-11-12",
         "mindate": "1891-08-01",
         "name": "Wayne County, TN"
        },
        {
         "datacoverage": 1,
         "id": "FIPS:47183",
         "maxdate": "2021-11-12",
         "mindate": "1924-05-01",
         "name": "Weakley County, TN"
        },
        {
         "datacoverage": 1,
         "id": "FIPS:47185",
         "maxdate": "2021-11-13",
         "mindate": "1939-10-23",
         "name": "White County, TN"
        },
        {
         "datacoverage": 1,
         "id": "FIPS:47187",
         "maxdate": "2021-11-12",
         "mindate": "1891-08-01",
         "name": "Williamson County, TN"
        },
        {
         "datacoverage": 1,
         "id": "FIPS:47189",
         "maxdate": "2021-11-12",
         "mindate": "1890-01-01",
         "name": "Wilson County, TN"
        },
        {
         "datacoverage": 1,
         "id": "FIPS:48",
         "maxdate": "2021-11-13",
         "mindate": "1852-04-01",
         "name": "Texas"
        },
        {
         "datacoverage": 1,
         "id": "FIPS:48001",
         "maxdate": "2021-11-13",
         "mindate": "1904-12-01",
         "name": "Anderson County, TX"
        },
        {
         "datacoverage": 1,
         "id": "FIPS:48003",
         "maxdate": "2021-11-13",
         "mindate": "1914-01-01",
         "name": "Andrews County, TX"
        },
        {
         "datacoverage": 1,
         "id": "FIPS:48005",
         "maxdate": "2021-11-13",
         "mindate": "1940-01-01",
         "name": "Angelina County, TX"
        },
        {
         "datacoverage": 1,
         "id": "FIPS:48007",
         "maxdate": "2021-11-13",
         "mindate": "1944-03-22",
         "name": "Aransas County, TX"
        },
        {
         "datacoverage": 1,
         "id": "FIPS:48009",
         "maxdate": "2021-11-12",
         "mindate": "1910-04-01",
         "name": "Archer County, TX"
        },
        {
         "datacoverage": 1,
         "id": "FIPS:48011",
         "maxdate": "2021-11-12",
         "mindate": "1904-10-01",
         "name": "Armstrong County, TX"
        },
        {
         "datacoverage": 1,
         "id": "FIPS:48013",
         "maxdate": "2021-11-13",
         "mindate": "1907-06-01",
         "name": "Atascosa County, TX"
        },
        {
         "datacoverage": 1,
         "id": "FIPS:48015",
         "maxdate": "2021-11-12",
         "mindate": "1910-09-21",
         "name": "Austin County, TX"
        },
        {
         "datacoverage": 1,
         "id": "FIPS:48017",
         "maxdate": "2021-11-13",
         "mindate": "1921-08-01",
         "name": "Bailey County, TX"
        },
        {
         "datacoverage": 1,
         "id": "FIPS:48019",
         "maxdate": "2021-11-12",
         "mindate": "1941-10-01",
         "name": "Bandera County, TX"
        },
        {
         "datacoverage": 1,
         "id": "FIPS:48021",
         "maxdate": "2021-11-12",
         "mindate": "1900-12-01",
         "name": "Bastrop County, TX"
        },
        {
         "datacoverage": 1,
         "id": "FIPS:48023",
         "maxdate": "2021-11-12",
         "mindate": "1905-06-01",
         "name": "Baylor County, TX"
        },
        {
         "datacoverage": 1,
         "id": "FIPS:48025",
         "maxdate": "2021-11-13",
         "mindate": "1895-08-01",
         "name": "Bee County, TX"
        },
        {
         "datacoverage": 1,
         "id": "FIPS:48027",
         "maxdate": "2021-11-13",
         "mindate": "1893-01-01",
         "name": "Bell County, TX"
        },
        {
         "datacoverage": 1,
         "id": "FIPS:48029",
         "maxdate": "2021-11-13",
         "mindate": "1893-01-01",
         "name": "Bexar County, TX"
        },
        {
         "datacoverage": 1,
         "id": "FIPS:48031",
         "maxdate": "2021-11-12",
         "mindate": "1896-05-01",
         "name": "Blanco County, TX"
        },
        {
         "datacoverage": 1,
         "id": "FIPS:48033",
         "maxdate": "2021-11-12",
         "mindate": "1893-01-01",
         "name": "Borden County, TX"
        },
        {
         "datacoverage": 1,
         "id": "FIPS:48035",
         "maxdate": "2021-11-12",
         "mindate": "1900-12-01",
         "name": "Bosque County, TX"
        },
        {
         "datacoverage": 1,
         "id": "FIPS:48037",
         "maxdate": "2021-11-12",
         "mindate": "1909-04-01",
         "name": "Bowie County, TX"
        },
        {
         "datacoverage": 1,
         "id": "FIPS:48039",
         "maxdate": "2021-11-13",
         "mindate": "1893-01-01",
         "name": "Brazoria County, TX"
        },
        {
         "datacoverage": 1,
         "id": "FIPS:48041",
         "maxdate": "2021-11-13",
         "mindate": "1882-05-01",
         "name": "Brazos County, TX"
        },
        {
         "datacoverage": 1,
         "id": "FIPS:48043",
         "maxdate": "2021-11-13",
         "mindate": "1896-07-01",
         "name": "Brewster County, TX"
        },
        {
         "datacoverage": 1,
         "id": "FIPS:48045",
         "maxdate": "2021-11-12",
         "mindate": "1925-01-01",
         "name": "Briscoe County, TX"
        },
        {
         "datacoverage": 1,
         "id": "FIPS:48047",
         "maxdate": "2021-11-13",
         "mindate": "1907-03-01",
         "name": "Brooks County, TX"
        },
        {
         "datacoverage": 1,
         "id": "FIPS:48049",
         "maxdate": "2021-11-13",
         "mindate": "1893-01-01",
         "name": "Brown County, TX"
        },
        {
         "datacoverage": 1,
         "id": "FIPS:48051",
         "maxdate": "2021-11-13",
         "mindate": "1908-01-01",
         "name": "Burleson County, TX"
        },
        {
         "datacoverage": 1,
         "id": "FIPS:48053",
         "maxdate": "2021-11-13",
         "mindate": "1893-01-01",
         "name": "Burnet County, TX"
        },
        {
         "datacoverage": 1,
         "id": "FIPS:48055",
         "maxdate": "2021-11-13",
         "mindate": "1897-01-01",
         "name": "Caldwell County, TX"
        },
        {
         "datacoverage": 1,
         "id": "FIPS:48057",
         "maxdate": "2021-11-13",
         "mindate": "1901-02-01",
         "name": "Calhoun County, TX"
        },
        {
         "datacoverage": 1,
         "id": "FIPS:48059",
         "maxdate": "2021-11-12",
         "mindate": "1911-03-17",
         "name": "Callahan County, TX"
        },
        {
         "datacoverage": 1,
         "id": "FIPS:48061",
         "maxdate": "2021-11-13",
         "mindate": "1889-01-01",
         "name": "Cameron County, TX"
        },
        {
         "datacoverage": 1,
         "id": "FIPS:48063",
         "maxdate": "2021-11-12",
         "mindate": "1949-04-29",
         "name": "Camp County, TX"
        },
        {
         "datacoverage": 1,
         "id": "FIPS:48065",
         "maxdate": "2021-11-12",
         "mindate": "1911-08-01",
         "name": "Carson County, TX"
        },
        {
         "datacoverage": 1,
         "id": "FIPS:48067",
         "maxdate": "2021-11-12",
         "mindate": "1930-08-18",
         "name": "Cass County, TX"
        },
        {
         "datacoverage": 1,
         "id": "FIPS:48069",
         "maxdate": "2021-11-12",
         "mindate": "1906-03-01",
         "name": "Castro County, TX"
        },
        {
         "datacoverage": 1,
         "id": "FIPS:48071",
         "maxdate": "2021-11-12",
         "mindate": "1909-06-01",
         "name": "Chambers County, TX"
        },
        {
         "datacoverage": 1,
         "id": "FIPS:48073",
         "maxdate": "2021-11-13",
         "mindate": "1897-08-01",
         "name": "Cherokee County, TX"
        },
        {
         "datacoverage": 1,
         "id": "FIPS:48075",
         "maxdate": "2021-11-13",
         "mindate": "1893-01-01",
         "name": "Childress County, TX"
        },
        {
         "datacoverage": 1,
         "id": "FIPS:48077",
         "maxdate": "2021-11-12",
         "mindate": "1897-06-01",
         "name": "Clay County, TX"
        },
        {
         "datacoverage": 1,
         "id": "FIPS:48079",
         "maxdate": "2021-11-12",
         "mindate": "1935-05-01",
         "name": "Cochran County, TX"
        },
        {
         "datacoverage": 1,
         "id": "FIPS:48081",
         "maxdate": "2021-11-13",
         "mindate": "1908-03-01",
         "name": "Coke County, TX"
        },
        {
         "datacoverage": 1,
         "id": "FIPS:48083",
         "maxdate": "2021-11-13",
         "mindate": "1894-03-01",
         "name": "Coleman County, TX"
        },
        {
         "datacoverage": 1,
         "id": "FIPS:48085",
         "maxdate": "2021-11-13",
         "mindate": "1898-06-01",
         "name": "Collin County, TX"
        },
        {
         "datacoverage": 1,
         "id": "FIPS:48087",
         "maxdate": "2021-11-12",
         "mindate": "1912-04-01",
         "name": "Collingsworth County, TX"
        },
        {
         "datacoverage": 1,
         "id": "FIPS:48089",
         "maxdate": "2021-11-12",
         "mindate": "1899-01-01",
         "name": "Colorado County, TX"
        },
        {
         "datacoverage": 1,
         "id": "FIPS:48091",
         "maxdate": "2021-11-12",
         "mindate": "1893-01-01",
         "name": "Comal County, TX"
        },
        {
         "datacoverage": 1,
         "id": "FIPS:48093",
         "maxdate": "2021-11-13",
         "mindate": "1901-04-01",
         "name": "Comanche County, TX"
        },
        {
         "datacoverage": 1,
         "id": "FIPS:48095",
         "maxdate": "2021-11-12",
         "mindate": "1911-08-01",
         "name": "Concho County, TX"
        },
        {
         "datacoverage": 1,
         "id": "FIPS:48097",
         "maxdate": "2021-11-13",
         "mindate": "1893-01-01",
         "name": "Cooke County, TX"
        },
        {
         "datacoverage": 1,
         "id": "FIPS:48099",
         "maxdate": "2021-11-13",
         "mindate": "1900-02-01",
         "name": "Coryell County, TX"
        },
        {
         "datacoverage": 1,
         "id": "FIPS:48101",
         "maxdate": "2021-11-12",
         "mindate": "1913-06-01",
         "name": "Cottle County, TX"
        },
        {
         "datacoverage": 1,
         "id": "FIPS:48103",
         "maxdate": "2021-11-12",
         "mindate": "1940-02-26",
         "name": "Crane County, TX"
        },
        {
         "datacoverage": 1,
         "id": "FIPS:48105",
         "maxdate": "2021-11-13",
         "mindate": "1940-04-24",
         "name": "Crockett County, TX"
        },
        {
         "datacoverage": 1,
         "id": "FIPS:48107",
         "maxdate": "2021-11-12",
         "mindate": "1893-01-01",
         "name": "Crosby County, TX"
        },
        {
         "datacoverage": 1,
         "id": "FIPS:48109",
         "maxdate": "2021-11-13",
         "mindate": "1893-01-01",
         "name": "Culberson County, TX"
        },
        {
         "datacoverage": 1,
         "id": "FIPS:48111",
         "maxdate": "2021-11-12",
         "mindate": "1893-01-01",
         "name": "Dallam County, TX"
        },
        {
         "datacoverage": 1,
         "id": "FIPS:48113",
         "maxdate": "2021-11-13",
         "mindate": "1893-01-01",
         "name": "Dallas County, TX"
        },
        {
         "datacoverage": 1,
         "id": "FIPS:48115",
         "maxdate": "2021-11-12",
         "mindate": "1910-05-01",
         "name": "Dawson County, TX"
        },
        {
         "datacoverage": 1,
         "id": "FIPS:48117",
         "maxdate": "2021-11-13",
         "mindate": "1895-05-01",
         "name": "Deaf Smith County, TX"
        },
        {
         "datacoverage": 1,
         "id": "FIPS:48119",
         "maxdate": "2021-11-12",
         "mindate": "1944-02-08",
         "name": "Delta County, TX"
        },
        {
         "datacoverage": 1,
         "id": "FIPS:48121",
         "maxdate": "2021-11-13",
         "mindate": "1913-06-01",
         "name": "Denton County, TX"
        },
        {
         "datacoverage": 1,
         "id": "FIPS:48123",
         "maxdate": "2021-11-12",
         "mindate": "1940-01-01",
         "name": "DeWitt County, TX"
        },
        {
         "datacoverage": 1,
         "id": "FIPS:48125",
         "maxdate": "2021-11-12",
         "mindate": "1911-04-16",
         "name": "Dickens County, TX"
        },
        {
         "datacoverage": 1,
         "id": "FIPS:48127",
         "maxdate": "2021-11-13",
         "mindate": "1912-02-26",
         "name": "Dimmit County, TX"
        },
        {
         "datacoverage": 1,
         "id": "FIPS:48129",
         "maxdate": "2021-11-12",
         "mindate": "1904-05-01",
         "name": "Donley County, TX"
        },
        {
         "datacoverage": 1,
         "id": "FIPS:48131",
         "maxdate": "2021-11-12",
         "mindate": "1940-03-25",
         "name": "Duval County, TX"
        },
        {
         "datacoverage": 1,
         "id": "FIPS:48133",
         "maxdate": "2021-11-12",
         "mindate": "1893-01-01",
         "name": "Eastland County, TX"
        },
        {
         "datacoverage": 1,
         "id": "FIPS:48135",
         "maxdate": "2021-11-13",
         "mindate": "1943-08-18",
         "name": "Ector County, TX"
        },
        {
         "datacoverage": 1,
         "id": "FIPS:48137",
         "maxdate": "2021-11-13",
         "mindate": "1894-01-01",
         "name": "Edwards County, TX"
        },
        {
         "datacoverage": 1,
         "id": "FIPS:48139",
         "maxdate": "2021-11-13",
         "mindate": "1897-01-01",
         "name": "Ellis County, TX"
        },
        {
         "datacoverage": 1,
         "id": "FIPS:48141",
         "maxdate": "2021-11-13",
         "mindate": "1893-01-01",
         "name": "El Paso County, TX"
        },
        {
         "datacoverage": 1,
         "id": "FIPS:48143",
         "maxdate": "2021-11-13",
         "mindate": "1897-01-01",
         "name": "Erath County, TX"
        },
        {
         "datacoverage": 1,
         "id": "FIPS:48145",
         "maxdate": "2021-11-12",
         "mindate": "1902-08-05",
         "name": "Falls County, TX"
        },
        {
         "datacoverage": 1,
         "id": "FIPS:48147",
         "maxdate": "2021-11-12",
         "mindate": "1898-04-01",
         "name": "Fannin County, TX"
        },
        {
         "datacoverage": 1,
         "id": "FIPS:48149",
         "maxdate": "2021-11-13",
         "mindate": "1908-01-01",
         "name": "Fayette County, TX"
        },
        {
         "datacoverage": 1,
         "id": "FIPS:48151",
         "maxdate": "2021-11-12",
         "mindate": "1893-01-01",
         "name": "Fisher County, TX"
        },
        {
         "datacoverage": 1,
         "id": "FIPS:48153",
         "maxdate": "2021-11-12",
         "mindate": "1939-08-02",
         "name": "Floyd County, TX"
        },
        {
         "datacoverage": 1,
         "id": "FIPS:48155",
         "maxdate": "2021-11-12",
         "mindate": "1916-08-01",
         "name": "Foard County, TX"
        },
        {
         "datacoverage": 1,
         "id": "FIPS:48157",
         "maxdate": "2021-11-13",
         "mindate": "1893-04-01",
         "name": "Fort Bend County, TX"
        },
        {
         "datacoverage": 1,
         "id": "FIPS:48159",
         "maxdate": "2021-11-12",
         "mindate": "1909-12-01",
         "name": "Franklin County, TX"
        },
        {
         "datacoverage": 1,
         "id": "FIPS:48161",
         "maxdate": "2021-11-12",
         "mindate": "1913-10-01",
         "name": "Freestone County, TX"
        },
        {
         "datacoverage": 1,
         "id": "FIPS:48163",
         "maxdate": "2021-11-12",
         "mindate": "1902-03-01",
         "name": "Frio County, TX"
        },
        {
         "datacoverage": 1,
         "id": "FIPS:48165",
         "maxdate": "2021-11-13",
         "mindate": "1922-08-05",
         "name": "Gaines County, TX"
        },
        {
         "datacoverage": 1,
         "id": "FIPS:48167",
         "maxdate": "2021-11-13",
         "mindate": "1897-01-01",
         "name": "Galveston County, TX"
        },
        {
         "datacoverage": 1,
         "id": "FIPS:48169",
         "maxdate": "2021-11-12",
         "mindate": "1910-05-01",
         "name": "Garza County, TX"
        },
        {
         "datacoverage": 1,
         "id": "FIPS:48171",
         "maxdate": "2021-11-13",
         "mindate": "1896-01-01",
         "name": "Gillespie County, TX"
        },
        {
         "datacoverage": 1,
         "id": "FIPS:48173",
         "maxdate": "2021-11-12",
         "mindate": "1912-10-01",
         "name": "Glasscock County, TX"
        },
        {
         "datacoverage": 1,
         "id": "FIPS:48175",
         "maxdate": "2021-11-12",
         "mindate": "1912-09-01",
         "name": "Goliad County, TX"
        },
        {
         "datacoverage": 1,
         "id": "FIPS:48177",
         "maxdate": "2021-11-13",
         "mindate": "1915-04-01",
         "name": "Gonzales County, TX"
        },
        {
         "datacoverage": 1,
         "id": "FIPS:48179",
         "maxdate": "2021-11-13",
         "mindate": "1907-01-27",
         "name": "Gray County, TX"
        },
        {
         "datacoverage": 1,
         "id": "FIPS:48181",
         "maxdate": "2021-11-13",
         "mindate": "1897-05-01",
         "name": "Grayson County, TX"
        },
        {
         "datacoverage": 1,
         "id": "FIPS:48183",
         "maxdate": "2021-11-13",
         "mindate": "1902-01-01",
         "name": "Gregg County, TX"
        },
        {
         "datacoverage": 1,
         "id": "FIPS:48185",
         "maxdate": "2021-11-12",
         "mindate": "1914-06-01",
         "name": "Grimes County, TX"
        }
       ]
      },
      "text/plain": [
       "<IPython.core.display.JSON object>"
      ]
     },
     "execution_count": 10,
     "metadata": {
      "application/json": {
       "expanded": false,
       "root": "root"
      }
     },
     "output_type": "execute_result"
    }
   ],
   "source": [
    "JSON(json_contents)"
   ]
  },
  {
   "cell_type": "code",
   "execution_count": 18,
   "metadata": {},
   "outputs": [],
   "source": [
    "df = pd.DataFrame(json_contents[\"results\"])"
   ]
  },
  {
   "cell_type": "code",
   "execution_count": 19,
   "metadata": {
    "collapsed": true,
    "jupyter": {
     "outputs_hidden": true
    },
    "tags": []
   },
   "outputs": [
    {
     "data": {
      "text/html": [
       "<div>\n",
       "<style scoped>\n",
       "    .dataframe tbody tr th:only-of-type {\n",
       "        vertical-align: middle;\n",
       "    }\n",
       "\n",
       "    .dataframe tbody tr th {\n",
       "        vertical-align: top;\n",
       "    }\n",
       "\n",
       "    .dataframe thead th {\n",
       "        text-align: right;\n",
       "    }\n",
       "</style>\n",
       "<table border=\"1\" class=\"dataframe\">\n",
       "  <thead>\n",
       "    <tr style=\"text-align: right;\">\n",
       "      <th></th>\n",
       "      <th>mindate</th>\n",
       "      <th>maxdate</th>\n",
       "      <th>name</th>\n",
       "      <th>datacoverage</th>\n",
       "      <th>id</th>\n",
       "    </tr>\n",
       "  </thead>\n",
       "  <tbody>\n",
       "    <tr>\n",
       "      <th>0</th>\n",
       "      <td>1905-05-08</td>\n",
       "      <td>2021-11-12</td>\n",
       "      <td>Phillips County, MT</td>\n",
       "      <td>1.0</td>\n",
       "      <td>FIPS:30071</td>\n",
       "    </tr>\n",
       "    <tr>\n",
       "      <th>1</th>\n",
       "      <td>1911-03-01</td>\n",
       "      <td>2021-11-12</td>\n",
       "      <td>Pondera County, MT</td>\n",
       "      <td>1.0</td>\n",
       "      <td>FIPS:30073</td>\n",
       "    </tr>\n",
       "    <tr>\n",
       "      <th>2</th>\n",
       "      <td>1893-02-01</td>\n",
       "      <td>2021-11-12</td>\n",
       "      <td>Powder River County, MT</td>\n",
       "      <td>1.0</td>\n",
       "      <td>FIPS:30075</td>\n",
       "    </tr>\n",
       "    <tr>\n",
       "      <th>3</th>\n",
       "      <td>1893-01-01</td>\n",
       "      <td>2021-11-12</td>\n",
       "      <td>Powell County, MT</td>\n",
       "      <td>1.0</td>\n",
       "      <td>FIPS:30077</td>\n",
       "    </tr>\n",
       "    <tr>\n",
       "      <th>4</th>\n",
       "      <td>1904-11-01</td>\n",
       "      <td>2021-11-12</td>\n",
       "      <td>Prairie County, MT</td>\n",
       "      <td>1.0</td>\n",
       "      <td>FIPS:30079</td>\n",
       "    </tr>\n",
       "    <tr>\n",
       "      <th>...</th>\n",
       "      <td>...</td>\n",
       "      <td>...</td>\n",
       "      <td>...</td>\n",
       "      <td>...</td>\n",
       "      <td>...</td>\n",
       "    </tr>\n",
       "    <tr>\n",
       "      <th>995</th>\n",
       "      <td>1915-04-01</td>\n",
       "      <td>2021-11-13</td>\n",
       "      <td>Gonzales County, TX</td>\n",
       "      <td>1.0</td>\n",
       "      <td>FIPS:48177</td>\n",
       "    </tr>\n",
       "    <tr>\n",
       "      <th>996</th>\n",
       "      <td>1907-01-27</td>\n",
       "      <td>2021-11-13</td>\n",
       "      <td>Gray County, TX</td>\n",
       "      <td>1.0</td>\n",
       "      <td>FIPS:48179</td>\n",
       "    </tr>\n",
       "    <tr>\n",
       "      <th>997</th>\n",
       "      <td>1897-05-01</td>\n",
       "      <td>2021-11-13</td>\n",
       "      <td>Grayson County, TX</td>\n",
       "      <td>1.0</td>\n",
       "      <td>FIPS:48181</td>\n",
       "    </tr>\n",
       "    <tr>\n",
       "      <th>998</th>\n",
       "      <td>1902-01-01</td>\n",
       "      <td>2021-11-13</td>\n",
       "      <td>Gregg County, TX</td>\n",
       "      <td>1.0</td>\n",
       "      <td>FIPS:48183</td>\n",
       "    </tr>\n",
       "    <tr>\n",
       "      <th>999</th>\n",
       "      <td>1914-06-01</td>\n",
       "      <td>2021-11-12</td>\n",
       "      <td>Grimes County, TX</td>\n",
       "      <td>1.0</td>\n",
       "      <td>FIPS:48185</td>\n",
       "    </tr>\n",
       "  </tbody>\n",
       "</table>\n",
       "<p>1000 rows × 5 columns</p>\n",
       "</div>"
      ],
      "text/plain": [
       "        mindate     maxdate                     name  datacoverage          id\n",
       "0    1905-05-08  2021-11-12      Phillips County, MT           1.0  FIPS:30071\n",
       "1    1911-03-01  2021-11-12       Pondera County, MT           1.0  FIPS:30073\n",
       "2    1893-02-01  2021-11-12  Powder River County, MT           1.0  FIPS:30075\n",
       "3    1893-01-01  2021-11-12        Powell County, MT           1.0  FIPS:30077\n",
       "4    1904-11-01  2021-11-12       Prairie County, MT           1.0  FIPS:30079\n",
       "..          ...         ...                      ...           ...         ...\n",
       "995  1915-04-01  2021-11-13      Gonzales County, TX           1.0  FIPS:48177\n",
       "996  1907-01-27  2021-11-13          Gray County, TX           1.0  FIPS:48179\n",
       "997  1897-05-01  2021-11-13       Grayson County, TX           1.0  FIPS:48181\n",
       "998  1902-01-01  2021-11-13         Gregg County, TX           1.0  FIPS:48183\n",
       "999  1914-06-01  2021-11-12        Grimes County, TX           1.0  FIPS:48185\n",
       "\n",
       "[1000 rows x 5 columns]"
      ]
     },
     "execution_count": 19,
     "metadata": {},
     "output_type": "execute_result"
    }
   ],
   "source": [
    "df"
   ]
  },
  {
   "cell_type": "markdown",
   "metadata": {
    "tags": []
   },
   "source": [
    "## Convert JSON Into a DataFrame"
   ]
  },
  {
   "cell_type": "markdown",
   "metadata": {
    "tags": []
   },
   "source": [
    "Using the json_contents variable, create a Pandas dataframe."
   ]
  },
  {
   "cell_type": "code",
   "execution_count": 21,
   "metadata": {
    "tags": []
   },
   "outputs": [],
   "source": [
    "df = pd.DataFrame(json_contents['results'])\n"
   ]
  },
  {
   "cell_type": "markdown",
   "metadata": {},
   "source": [
    "Display the contents of the DataFrame. "
   ]
  },
  {
   "cell_type": "code",
   "execution_count": 23,
   "metadata": {},
   "outputs": [
    {
     "data": {
      "text/html": [
       "<div>\n",
       "<style scoped>\n",
       "    .dataframe tbody tr th:only-of-type {\n",
       "        vertical-align: middle;\n",
       "    }\n",
       "\n",
       "    .dataframe tbody tr th {\n",
       "        vertical-align: top;\n",
       "    }\n",
       "\n",
       "    .dataframe thead th {\n",
       "        text-align: right;\n",
       "    }\n",
       "</style>\n",
       "<table border=\"1\" class=\"dataframe\">\n",
       "  <thead>\n",
       "    <tr style=\"text-align: right;\">\n",
       "      <th></th>\n",
       "      <th>mindate</th>\n",
       "      <th>maxdate</th>\n",
       "      <th>name</th>\n",
       "      <th>datacoverage</th>\n",
       "      <th>id</th>\n",
       "    </tr>\n",
       "  </thead>\n",
       "  <tbody>\n",
       "    <tr>\n",
       "      <th>0</th>\n",
       "      <td>1905-05-08</td>\n",
       "      <td>2021-11-12</td>\n",
       "      <td>Phillips County, MT</td>\n",
       "      <td>1.0</td>\n",
       "      <td>FIPS:30071</td>\n",
       "    </tr>\n",
       "    <tr>\n",
       "      <th>1</th>\n",
       "      <td>1911-03-01</td>\n",
       "      <td>2021-11-12</td>\n",
       "      <td>Pondera County, MT</td>\n",
       "      <td>1.0</td>\n",
       "      <td>FIPS:30073</td>\n",
       "    </tr>\n",
       "    <tr>\n",
       "      <th>2</th>\n",
       "      <td>1893-02-01</td>\n",
       "      <td>2021-11-12</td>\n",
       "      <td>Powder River County, MT</td>\n",
       "      <td>1.0</td>\n",
       "      <td>FIPS:30075</td>\n",
       "    </tr>\n",
       "    <tr>\n",
       "      <th>3</th>\n",
       "      <td>1893-01-01</td>\n",
       "      <td>2021-11-12</td>\n",
       "      <td>Powell County, MT</td>\n",
       "      <td>1.0</td>\n",
       "      <td>FIPS:30077</td>\n",
       "    </tr>\n",
       "    <tr>\n",
       "      <th>4</th>\n",
       "      <td>1904-11-01</td>\n",
       "      <td>2021-11-12</td>\n",
       "      <td>Prairie County, MT</td>\n",
       "      <td>1.0</td>\n",
       "      <td>FIPS:30079</td>\n",
       "    </tr>\n",
       "    <tr>\n",
       "      <th>...</th>\n",
       "      <td>...</td>\n",
       "      <td>...</td>\n",
       "      <td>...</td>\n",
       "      <td>...</td>\n",
       "      <td>...</td>\n",
       "    </tr>\n",
       "    <tr>\n",
       "      <th>995</th>\n",
       "      <td>1915-04-01</td>\n",
       "      <td>2021-11-13</td>\n",
       "      <td>Gonzales County, TX</td>\n",
       "      <td>1.0</td>\n",
       "      <td>FIPS:48177</td>\n",
       "    </tr>\n",
       "    <tr>\n",
       "      <th>996</th>\n",
       "      <td>1907-01-27</td>\n",
       "      <td>2021-11-13</td>\n",
       "      <td>Gray County, TX</td>\n",
       "      <td>1.0</td>\n",
       "      <td>FIPS:48179</td>\n",
       "    </tr>\n",
       "    <tr>\n",
       "      <th>997</th>\n",
       "      <td>1897-05-01</td>\n",
       "      <td>2021-11-13</td>\n",
       "      <td>Grayson County, TX</td>\n",
       "      <td>1.0</td>\n",
       "      <td>FIPS:48181</td>\n",
       "    </tr>\n",
       "    <tr>\n",
       "      <th>998</th>\n",
       "      <td>1902-01-01</td>\n",
       "      <td>2021-11-13</td>\n",
       "      <td>Gregg County, TX</td>\n",
       "      <td>1.0</td>\n",
       "      <td>FIPS:48183</td>\n",
       "    </tr>\n",
       "    <tr>\n",
       "      <th>999</th>\n",
       "      <td>1914-06-01</td>\n",
       "      <td>2021-11-12</td>\n",
       "      <td>Grimes County, TX</td>\n",
       "      <td>1.0</td>\n",
       "      <td>FIPS:48185</td>\n",
       "    </tr>\n",
       "  </tbody>\n",
       "</table>\n",
       "<p>1000 rows × 5 columns</p>\n",
       "</div>"
      ],
      "text/plain": [
       "        mindate     maxdate                     name  datacoverage          id\n",
       "0    1905-05-08  2021-11-12      Phillips County, MT           1.0  FIPS:30071\n",
       "1    1911-03-01  2021-11-12       Pondera County, MT           1.0  FIPS:30073\n",
       "2    1893-02-01  2021-11-12  Powder River County, MT           1.0  FIPS:30075\n",
       "3    1893-01-01  2021-11-12        Powell County, MT           1.0  FIPS:30077\n",
       "4    1904-11-01  2021-11-12       Prairie County, MT           1.0  FIPS:30079\n",
       "..          ...         ...                      ...           ...         ...\n",
       "995  1915-04-01  2021-11-13      Gonzales County, TX           1.0  FIPS:48177\n",
       "996  1907-01-27  2021-11-13          Gray County, TX           1.0  FIPS:48179\n",
       "997  1897-05-01  2021-11-13       Grayson County, TX           1.0  FIPS:48181\n",
       "998  1902-01-01  2021-11-13         Gregg County, TX           1.0  FIPS:48183\n",
       "999  1914-06-01  2021-11-12        Grimes County, TX           1.0  FIPS:48185\n",
       "\n",
       "[1000 rows x 5 columns]"
      ]
     },
     "execution_count": 23,
     "metadata": {},
     "output_type": "execute_result"
    }
   ],
   "source": [
    "df\n"
   ]
  },
  {
   "cell_type": "markdown",
   "metadata": {},
   "source": [
    "How many records are in the DataFrame? How many columns does each record have? "
   ]
  },
  {
   "cell_type": "markdown",
   "metadata": {},
   "source": [
    "    1000 records that are 5 columns wide"
   ]
  },
  {
   "cell_type": "markdown",
   "metadata": {},
   "source": [
    "Filter the contents of the DataFrame to only show records where the name column contains the string \"Durham\"."
   ]
  },
  {
   "cell_type": "code",
   "execution_count": 29,
   "metadata": {},
   "outputs": [
    {
     "data": {
      "text/html": [
       "<div>\n",
       "<style scoped>\n",
       "    .dataframe tbody tr th:only-of-type {\n",
       "        vertical-align: middle;\n",
       "    }\n",
       "\n",
       "    .dataframe tbody tr th {\n",
       "        vertical-align: top;\n",
       "    }\n",
       "\n",
       "    .dataframe thead th {\n",
       "        text-align: right;\n",
       "    }\n",
       "</style>\n",
       "<table border=\"1\" class=\"dataframe\">\n",
       "  <thead>\n",
       "    <tr style=\"text-align: right;\">\n",
       "      <th></th>\n",
       "      <th>mindate</th>\n",
       "      <th>maxdate</th>\n",
       "      <th>name</th>\n",
       "      <th>datacoverage</th>\n",
       "      <th>id</th>\n",
       "    </tr>\n",
       "  </thead>\n",
       "  <tbody>\n",
       "    <tr>\n",
       "      <th>295</th>\n",
       "      <td>1891-01-01</td>\n",
       "      <td>2021-11-12</td>\n",
       "      <td>Durham County, NC</td>\n",
       "      <td>1.0</td>\n",
       "      <td>FIPS:37063</td>\n",
       "    </tr>\n",
       "  </tbody>\n",
       "</table>\n",
       "</div>"
      ],
      "text/plain": [
       "        mindate     maxdate               name  datacoverage          id\n",
       "295  1891-01-01  2021-11-12  Durham County, NC           1.0  FIPS:37063"
      ]
     },
     "execution_count": 29,
     "metadata": {},
     "output_type": "execute_result"
    }
   ],
   "source": [
    "df[df['name'].str.contains(\"Durham\")]"
   ]
  },
  {
   "cell_type": "markdown",
   "metadata": {},
   "source": [
    "## Read Multiple JSON Files"
   ]
  },
  {
   "cell_type": "markdown",
   "metadata": {},
   "source": [
    "Define a function called read_all_json_files. Given a string representing a path to a directory, this function should read all of the json files and return a Pandas DataFrame containing all of the objects. In addition to the data from the files, this DataFrame should also contain an additional column called \"source\". The source column should be populated with the name of the file from which this record originated from."
   ]
  },
  {
   "cell_type": "code",
   "execution_count": 126,
   "metadata": {},
   "outputs": [],
   "source": [
    "# implement me\n",
    "def read_all_json_files(JSON_ROOT):\n",
    "    files_all = os.listdir(JSON_ROOT)\n",
    "    # print(files_all)\n",
    "    files_json = ([file for file in files_all if file.endswith(\".json\")])\n",
    "    first = True\n",
    "    # print(files_json)\n",
    "    for file in files_json:\n",
    "        # print(file)\n",
    "        if first:\n",
    "            # print(first)\n",
    "            json_contents = read_json(f\"{JSON_ROOT}/{file}\")\n",
    "            df = pd.DataFrame(json_contents['results'])\n",
    "            df[\"source\"] = file\n",
    "            first = False\n",
    "        else:\n",
    "            # print(first)\n",
    "            # print(file)\n",
    "            json_contents = read_json(f\"{JSON_ROOT}/{file}\")\n",
    "            df2 = pd.DataFrame(json_contents['results'])\n",
    "            df2[\"source\"] = file\n",
    "            df =df.append(df2, ignore_index = True)\n",
    "    return df"
   ]
  },
  {
   "cell_type": "markdown",
   "metadata": {},
   "source": [
    "Use the read_all_json_files function above to read the contents of all locations file acquired in the the Data Acquisition Lab.  \n",
    "Hint: It is easier if you put all of those files in a dedicated subdirectory ex: (./data/locations/)"
   ]
  },
  {
   "cell_type": "code",
   "execution_count": 127,
   "metadata": {},
   "outputs": [],
   "source": [
    "df = read_all_json_files('./data/locations')"
   ]
  },
  {
   "cell_type": "markdown",
   "metadata": {},
   "source": [
    "What is the shape of the DataFrame? Does this match the number of columns and records you expected?"
   ]
  },
  {
   "cell_type": "code",
   "execution_count": 128,
   "metadata": {},
   "outputs": [
    {
     "data": {
      "text/html": [
       "<div>\n",
       "<style scoped>\n",
       "    .dataframe tbody tr th:only-of-type {\n",
       "        vertical-align: middle;\n",
       "    }\n",
       "\n",
       "    .dataframe tbody tr th {\n",
       "        vertical-align: top;\n",
       "    }\n",
       "\n",
       "    .dataframe thead th {\n",
       "        text-align: right;\n",
       "    }\n",
       "</style>\n",
       "<table border=\"1\" class=\"dataframe\">\n",
       "  <thead>\n",
       "    <tr style=\"text-align: right;\">\n",
       "      <th></th>\n",
       "      <th>mindate</th>\n",
       "      <th>maxdate</th>\n",
       "      <th>name</th>\n",
       "      <th>datacoverage</th>\n",
       "      <th>id</th>\n",
       "      <th>source</th>\n",
       "    </tr>\n",
       "  </thead>\n",
       "  <tbody>\n",
       "    <tr>\n",
       "      <th>0</th>\n",
       "      <td>1948-05-01</td>\n",
       "      <td>2021-11-12</td>\n",
       "      <td>Highgate Center, VT 05459</td>\n",
       "      <td>1.00</td>\n",
       "      <td>ZIP:05459</td>\n",
       "      <td>locations_10.json</td>\n",
       "    </tr>\n",
       "    <tr>\n",
       "      <th>1</th>\n",
       "      <td>1995-05-08</td>\n",
       "      <td>2021-11-12</td>\n",
       "      <td>Hinesburg, VT 05461</td>\n",
       "      <td>1.00</td>\n",
       "      <td>ZIP:05461</td>\n",
       "      <td>locations_10.json</td>\n",
       "    </tr>\n",
       "    <tr>\n",
       "      <th>2</th>\n",
       "      <td>1955-11-01</td>\n",
       "      <td>2021-11-12</td>\n",
       "      <td>Huntington, VT 05462</td>\n",
       "      <td>1.00</td>\n",
       "      <td>ZIP:05462</td>\n",
       "      <td>locations_10.json</td>\n",
       "    </tr>\n",
       "    <tr>\n",
       "      <th>3</th>\n",
       "      <td>1997-03-06</td>\n",
       "      <td>2021-11-12</td>\n",
       "      <td>Isle la Motte, VT 05463</td>\n",
       "      <td>0.95</td>\n",
       "      <td>ZIP:05463</td>\n",
       "      <td>locations_10.json</td>\n",
       "    </tr>\n",
       "    <tr>\n",
       "      <th>4</th>\n",
       "      <td>1995-05-08</td>\n",
       "      <td>2021-11-12</td>\n",
       "      <td>Jeffersonville, VT 05464</td>\n",
       "      <td>1.00</td>\n",
       "      <td>ZIP:05464</td>\n",
       "      <td>locations_10.json</td>\n",
       "    </tr>\n",
       "    <tr>\n",
       "      <th>...</th>\n",
       "      <td>...</td>\n",
       "      <td>...</td>\n",
       "      <td>...</td>\n",
       "      <td>...</td>\n",
       "      <td>...</td>\n",
       "      <td>...</td>\n",
       "    </tr>\n",
       "    <tr>\n",
       "      <th>38857</th>\n",
       "      <td>1871-08-01</td>\n",
       "      <td>2021-11-13</td>\n",
       "      <td>Lower Tar Hydrologic Unit</td>\n",
       "      <td>1.00</td>\n",
       "      <td>HUC:03020103</td>\n",
       "      <td>locations_05.json</td>\n",
       "    </tr>\n",
       "    <tr>\n",
       "      <th>38858</th>\n",
       "      <td>1900-02-01</td>\n",
       "      <td>2021-11-12</td>\n",
       "      <td>Pamlico Hydrologic Unit</td>\n",
       "      <td>1.00</td>\n",
       "      <td>HUC:03020104</td>\n",
       "      <td>locations_05.json</td>\n",
       "    </tr>\n",
       "    <tr>\n",
       "      <th>38859</th>\n",
       "      <td>1893-01-01</td>\n",
       "      <td>2021-11-13</td>\n",
       "      <td>Pamlico Sound Hydrologic Unit</td>\n",
       "      <td>1.00</td>\n",
       "      <td>HUC:03020105</td>\n",
       "      <td>locations_05.json</td>\n",
       "    </tr>\n",
       "    <tr>\n",
       "      <th>38860</th>\n",
       "      <td>1896-02-01</td>\n",
       "      <td>2021-11-13</td>\n",
       "      <td>Bogue-Core Sounds Hydrologic Unit</td>\n",
       "      <td>1.00</td>\n",
       "      <td>HUC:03020106</td>\n",
       "      <td>locations_05.json</td>\n",
       "    </tr>\n",
       "    <tr>\n",
       "      <th>38861</th>\n",
       "      <td>1890-09-01</td>\n",
       "      <td>2021-11-13</td>\n",
       "      <td>Neuse Hydrologic Unit</td>\n",
       "      <td>1.00</td>\n",
       "      <td>HUC:030202</td>\n",
       "      <td>locations_05.json</td>\n",
       "    </tr>\n",
       "  </tbody>\n",
       "</table>\n",
       "<p>38862 rows × 6 columns</p>\n",
       "</div>"
      ],
      "text/plain": [
       "          mindate     maxdate                               name  \\\n",
       "0      1948-05-01  2021-11-12          Highgate Center, VT 05459   \n",
       "1      1995-05-08  2021-11-12                Hinesburg, VT 05461   \n",
       "2      1955-11-01  2021-11-12               Huntington, VT 05462   \n",
       "3      1997-03-06  2021-11-12            Isle la Motte, VT 05463   \n",
       "4      1995-05-08  2021-11-12           Jeffersonville, VT 05464   \n",
       "...           ...         ...                                ...   \n",
       "38857  1871-08-01  2021-11-13          Lower Tar Hydrologic Unit   \n",
       "38858  1900-02-01  2021-11-12            Pamlico Hydrologic Unit   \n",
       "38859  1893-01-01  2021-11-13      Pamlico Sound Hydrologic Unit   \n",
       "38860  1896-02-01  2021-11-13  Bogue-Core Sounds Hydrologic Unit   \n",
       "38861  1890-09-01  2021-11-13              Neuse Hydrologic Unit   \n",
       "\n",
       "       datacoverage            id             source  \n",
       "0              1.00     ZIP:05459  locations_10.json  \n",
       "1              1.00     ZIP:05461  locations_10.json  \n",
       "2              1.00     ZIP:05462  locations_10.json  \n",
       "3              0.95     ZIP:05463  locations_10.json  \n",
       "4              1.00     ZIP:05464  locations_10.json  \n",
       "...             ...           ...                ...  \n",
       "38857          1.00  HUC:03020103  locations_05.json  \n",
       "38858          1.00  HUC:03020104  locations_05.json  \n",
       "38859          1.00  HUC:03020105  locations_05.json  \n",
       "38860          1.00  HUC:03020106  locations_05.json  \n",
       "38861          1.00    HUC:030202  locations_05.json  \n",
       "\n",
       "[38862 rows x 6 columns]"
      ]
     },
     "execution_count": 128,
     "metadata": {},
     "output_type": "execute_result"
    }
   ],
   "source": [
    "# Validate the shape of the DataFrame here.\n",
    "df"
   ]
  },
  {
   "cell_type": "markdown",
   "metadata": {},
   "source": [
    "Show the first few records of the DataFrame."
   ]
  },
  {
   "cell_type": "code",
   "execution_count": 129,
   "metadata": {},
   "outputs": [
    {
     "data": {
      "text/html": [
       "<div>\n",
       "<style scoped>\n",
       "    .dataframe tbody tr th:only-of-type {\n",
       "        vertical-align: middle;\n",
       "    }\n",
       "\n",
       "    .dataframe tbody tr th {\n",
       "        vertical-align: top;\n",
       "    }\n",
       "\n",
       "    .dataframe thead th {\n",
       "        text-align: right;\n",
       "    }\n",
       "</style>\n",
       "<table border=\"1\" class=\"dataframe\">\n",
       "  <thead>\n",
       "    <tr style=\"text-align: right;\">\n",
       "      <th></th>\n",
       "      <th>mindate</th>\n",
       "      <th>maxdate</th>\n",
       "      <th>name</th>\n",
       "      <th>datacoverage</th>\n",
       "      <th>id</th>\n",
       "      <th>source</th>\n",
       "    </tr>\n",
       "  </thead>\n",
       "  <tbody>\n",
       "    <tr>\n",
       "      <th>0</th>\n",
       "      <td>1948-05-01</td>\n",
       "      <td>2021-11-12</td>\n",
       "      <td>Highgate Center, VT 05459</td>\n",
       "      <td>1.00</td>\n",
       "      <td>ZIP:05459</td>\n",
       "      <td>locations_10.json</td>\n",
       "    </tr>\n",
       "    <tr>\n",
       "      <th>1</th>\n",
       "      <td>1995-05-08</td>\n",
       "      <td>2021-11-12</td>\n",
       "      <td>Hinesburg, VT 05461</td>\n",
       "      <td>1.00</td>\n",
       "      <td>ZIP:05461</td>\n",
       "      <td>locations_10.json</td>\n",
       "    </tr>\n",
       "    <tr>\n",
       "      <th>2</th>\n",
       "      <td>1955-11-01</td>\n",
       "      <td>2021-11-12</td>\n",
       "      <td>Huntington, VT 05462</td>\n",
       "      <td>1.00</td>\n",
       "      <td>ZIP:05462</td>\n",
       "      <td>locations_10.json</td>\n",
       "    </tr>\n",
       "    <tr>\n",
       "      <th>3</th>\n",
       "      <td>1997-03-06</td>\n",
       "      <td>2021-11-12</td>\n",
       "      <td>Isle la Motte, VT 05463</td>\n",
       "      <td>0.95</td>\n",
       "      <td>ZIP:05463</td>\n",
       "      <td>locations_10.json</td>\n",
       "    </tr>\n",
       "    <tr>\n",
       "      <th>4</th>\n",
       "      <td>1995-05-08</td>\n",
       "      <td>2021-11-12</td>\n",
       "      <td>Jeffersonville, VT 05464</td>\n",
       "      <td>1.00</td>\n",
       "      <td>ZIP:05464</td>\n",
       "      <td>locations_10.json</td>\n",
       "    </tr>\n",
       "  </tbody>\n",
       "</table>\n",
       "</div>"
      ],
      "text/plain": [
       "      mindate     maxdate                       name  datacoverage         id  \\\n",
       "0  1948-05-01  2021-11-12  Highgate Center, VT 05459          1.00  ZIP:05459   \n",
       "1  1995-05-08  2021-11-12        Hinesburg, VT 05461          1.00  ZIP:05461   \n",
       "2  1955-11-01  2021-11-12       Huntington, VT 05462          1.00  ZIP:05462   \n",
       "3  1997-03-06  2021-11-12    Isle la Motte, VT 05463          0.95  ZIP:05463   \n",
       "4  1995-05-08  2021-11-12   Jeffersonville, VT 05464          1.00  ZIP:05464   \n",
       "\n",
       "              source  \n",
       "0  locations_10.json  \n",
       "1  locations_10.json  \n",
       "2  locations_10.json  \n",
       "3  locations_10.json  \n",
       "4  locations_10.json  "
      ]
     },
     "execution_count": 129,
     "metadata": {},
     "output_type": "execute_result"
    }
   ],
   "source": [
    "# Show the first few records\n",
    "df.head()"
   ]
  },
  {
   "cell_type": "markdown",
   "metadata": {},
   "source": [
    "Show the last few records of the DataFrame."
   ]
  },
  {
   "cell_type": "code",
   "execution_count": 130,
   "metadata": {},
   "outputs": [
    {
     "data": {
      "text/html": [
       "<div>\n",
       "<style scoped>\n",
       "    .dataframe tbody tr th:only-of-type {\n",
       "        vertical-align: middle;\n",
       "    }\n",
       "\n",
       "    .dataframe tbody tr th {\n",
       "        vertical-align: top;\n",
       "    }\n",
       "\n",
       "    .dataframe thead th {\n",
       "        text-align: right;\n",
       "    }\n",
       "</style>\n",
       "<table border=\"1\" class=\"dataframe\">\n",
       "  <thead>\n",
       "    <tr style=\"text-align: right;\">\n",
       "      <th></th>\n",
       "      <th>mindate</th>\n",
       "      <th>maxdate</th>\n",
       "      <th>name</th>\n",
       "      <th>datacoverage</th>\n",
       "      <th>id</th>\n",
       "      <th>source</th>\n",
       "    </tr>\n",
       "  </thead>\n",
       "  <tbody>\n",
       "    <tr>\n",
       "      <th>38857</th>\n",
       "      <td>1871-08-01</td>\n",
       "      <td>2021-11-13</td>\n",
       "      <td>Lower Tar Hydrologic Unit</td>\n",
       "      <td>1.0</td>\n",
       "      <td>HUC:03020103</td>\n",
       "      <td>locations_05.json</td>\n",
       "    </tr>\n",
       "    <tr>\n",
       "      <th>38858</th>\n",
       "      <td>1900-02-01</td>\n",
       "      <td>2021-11-12</td>\n",
       "      <td>Pamlico Hydrologic Unit</td>\n",
       "      <td>1.0</td>\n",
       "      <td>HUC:03020104</td>\n",
       "      <td>locations_05.json</td>\n",
       "    </tr>\n",
       "    <tr>\n",
       "      <th>38859</th>\n",
       "      <td>1893-01-01</td>\n",
       "      <td>2021-11-13</td>\n",
       "      <td>Pamlico Sound Hydrologic Unit</td>\n",
       "      <td>1.0</td>\n",
       "      <td>HUC:03020105</td>\n",
       "      <td>locations_05.json</td>\n",
       "    </tr>\n",
       "    <tr>\n",
       "      <th>38860</th>\n",
       "      <td>1896-02-01</td>\n",
       "      <td>2021-11-13</td>\n",
       "      <td>Bogue-Core Sounds Hydrologic Unit</td>\n",
       "      <td>1.0</td>\n",
       "      <td>HUC:03020106</td>\n",
       "      <td>locations_05.json</td>\n",
       "    </tr>\n",
       "    <tr>\n",
       "      <th>38861</th>\n",
       "      <td>1890-09-01</td>\n",
       "      <td>2021-11-13</td>\n",
       "      <td>Neuse Hydrologic Unit</td>\n",
       "      <td>1.0</td>\n",
       "      <td>HUC:030202</td>\n",
       "      <td>locations_05.json</td>\n",
       "    </tr>\n",
       "  </tbody>\n",
       "</table>\n",
       "</div>"
      ],
      "text/plain": [
       "          mindate     maxdate                               name  \\\n",
       "38857  1871-08-01  2021-11-13          Lower Tar Hydrologic Unit   \n",
       "38858  1900-02-01  2021-11-12            Pamlico Hydrologic Unit   \n",
       "38859  1893-01-01  2021-11-13      Pamlico Sound Hydrologic Unit   \n",
       "38860  1896-02-01  2021-11-13  Bogue-Core Sounds Hydrologic Unit   \n",
       "38861  1890-09-01  2021-11-13              Neuse Hydrologic Unit   \n",
       "\n",
       "       datacoverage            id             source  \n",
       "38857           1.0  HUC:03020103  locations_05.json  \n",
       "38858           1.0  HUC:03020104  locations_05.json  \n",
       "38859           1.0  HUC:03020105  locations_05.json  \n",
       "38860           1.0  HUC:03020106  locations_05.json  \n",
       "38861           1.0    HUC:030202  locations_05.json  "
      ]
     },
     "execution_count": 130,
     "metadata": {},
     "output_type": "execute_result"
    }
   ],
   "source": [
    "# Show the last few records\n",
    "df.tail()"
   ]
  },
  {
   "cell_type": "markdown",
   "metadata": {},
   "source": [
    "## Validate Records Are Unique"
   ]
  },
  {
   "cell_type": "markdown",
   "metadata": {},
   "source": [
    "Provide two different ways to determine there are no duplicate records.  \n",
    "Hint: The id field should be unique."
   ]
  },
  {
   "cell_type": "code",
   "execution_count": 131,
   "metadata": {},
   "outputs": [
    {
     "data": {
      "text/plain": [
       "mindate          3665\n",
       "maxdate           180\n",
       "name            38437\n",
       "datacoverage      518\n",
       "id              38862\n",
       "source             39\n",
       "dtype: int64"
      ]
     },
     "execution_count": 131,
     "metadata": {},
     "output_type": "execute_result"
    }
   ],
   "source": [
    "df.nunique()\n",
    "#38862 = total number of rows"
   ]
  },
  {
   "cell_type": "code",
   "execution_count": 132,
   "metadata": {},
   "outputs": [
    {
     "data": {
      "text/plain": [
       "0"
      ]
     },
     "execution_count": 132,
     "metadata": {},
     "output_type": "execute_result"
    }
   ],
   "source": [
    "# another way to determine there are no duplicate records\n",
    "len(df) - len(df.drop_duplicates())"
   ]
  },
  {
   "cell_type": "markdown",
   "metadata": {},
   "source": [
    "# Peking In"
   ]
  },
  {
   "cell_type": "markdown",
   "metadata": {},
   "source": [
    "Show the record with id \"CITY:TU000041\". Which file did it come from? "
   ]
  },
  {
   "cell_type": "code",
   "execution_count": 136,
   "metadata": {},
   "outputs": [
    {
     "data": {
      "text/html": [
       "<div>\n",
       "<style scoped>\n",
       "    .dataframe tbody tr th:only-of-type {\n",
       "        vertical-align: middle;\n",
       "    }\n",
       "\n",
       "    .dataframe tbody tr th {\n",
       "        vertical-align: top;\n",
       "    }\n",
       "\n",
       "    .dataframe thead th {\n",
       "        text-align: right;\n",
       "    }\n",
       "</style>\n",
       "<table border=\"1\" class=\"dataframe\">\n",
       "  <thead>\n",
       "    <tr style=\"text-align: right;\">\n",
       "      <th></th>\n",
       "      <th>mindate</th>\n",
       "      <th>maxdate</th>\n",
       "      <th>name</th>\n",
       "      <th>datacoverage</th>\n",
       "      <th>id</th>\n",
       "      <th>source</th>\n",
       "    </tr>\n",
       "  </thead>\n",
       "  <tbody>\n",
       "    <tr>\n",
       "      <th>12001</th>\n",
       "      <td>1974-08-01</td>\n",
       "      <td>2021-11-09</td>\n",
       "      <td>Mersin, TU</td>\n",
       "      <td>1.0</td>\n",
       "      <td>CITY:TU000041</td>\n",
       "      <td>locations_01.json</td>\n",
       "    </tr>\n",
       "  </tbody>\n",
       "</table>\n",
       "</div>"
      ],
      "text/plain": [
       "          mindate     maxdate        name  datacoverage             id  \\\n",
       "12001  1974-08-01  2021-11-09  Mersin, TU           1.0  CITY:TU000041   \n",
       "\n",
       "                  source  \n",
       "12001  locations_01.json  "
      ]
     },
     "execution_count": 136,
     "metadata": {},
     "output_type": "execute_result"
    }
   ],
   "source": [
    "# \n",
    "df[df[\"id\"] == \"CITY:TU000041\"]\n",
    "#locations_01.json\n"
   ]
  },
  {
   "cell_type": "markdown",
   "metadata": {},
   "source": [
    "Show the record with id \"CLIM:0405\". Which file did it come from? "
   ]
  },
  {
   "cell_type": "code",
   "execution_count": 137,
   "metadata": {},
   "outputs": [
    {
     "data": {
      "text/html": [
       "<div>\n",
       "<style scoped>\n",
       "    .dataframe tbody tr th:only-of-type {\n",
       "        vertical-align: middle;\n",
       "    }\n",
       "\n",
       "    .dataframe tbody tr th {\n",
       "        vertical-align: top;\n",
       "    }\n",
       "\n",
       "    .dataframe thead th {\n",
       "        text-align: right;\n",
       "    }\n",
       "</style>\n",
       "<table border=\"1\" class=\"dataframe\">\n",
       "  <thead>\n",
       "    <tr style=\"text-align: right;\">\n",
       "      <th></th>\n",
       "      <th>mindate</th>\n",
       "      <th>maxdate</th>\n",
       "      <th>name</th>\n",
       "      <th>datacoverage</th>\n",
       "      <th>id</th>\n",
       "      <th>source</th>\n",
       "    </tr>\n",
       "  </thead>\n",
       "  <tbody>\n",
       "    <tr>\n",
       "      <th>19001</th>\n",
       "      <td>1893-10-10</td>\n",
       "      <td>2021-11-13</td>\n",
       "      <td>Southwest Arizona Climate Division</td>\n",
       "      <td>1.0</td>\n",
       "      <td>CLIM:0405</td>\n",
       "      <td>locations_02.json</td>\n",
       "    </tr>\n",
       "  </tbody>\n",
       "</table>\n",
       "</div>"
      ],
      "text/plain": [
       "          mindate     maxdate                                name  \\\n",
       "19001  1893-10-10  2021-11-13  Southwest Arizona Climate Division   \n",
       "\n",
       "       datacoverage         id             source  \n",
       "19001           1.0  CLIM:0405  locations_02.json  "
      ]
     },
     "execution_count": 137,
     "metadata": {},
     "output_type": "execute_result"
    }
   ],
   "source": [
    "# \n",
    "df[df[\"id\"] == \"CLIM:0405\"]\n",
    "#locations_02.json"
   ]
  },
  {
   "cell_type": "markdown",
   "metadata": {},
   "source": [
    "How many unique values are there for the source column in the DataFrame?"
   ]
  },
  {
   "cell_type": "code",
   "execution_count": 138,
   "metadata": {},
   "outputs": [
    {
     "data": {
      "text/plain": [
       "39"
      ]
     },
     "execution_count": 138,
     "metadata": {},
     "output_type": "execute_result"
    }
   ],
   "source": [
    "# \n",
    "df[\"source\"].nunique()\n",
    "#39"
   ]
  },
  {
   "cell_type": "markdown",
   "metadata": {},
   "source": [
    "How many records did the locations_38.json file contain?"
   ]
  },
  {
   "cell_type": "code",
   "execution_count": 141,
   "metadata": {},
   "outputs": [
    {
     "data": {
      "text/plain": [
       "mindate         862\n",
       "maxdate         862\n",
       "name            862\n",
       "datacoverage    862\n",
       "id              862\n",
       "source          862\n",
       "dtype: int64"
      ]
     },
     "execution_count": 141,
     "metadata": {},
     "output_type": "execute_result"
    }
   ],
   "source": [
    "# \n",
    "df[df[\"source\"] == \"locations_38.json\"].count()\n",
    "#862\n"
   ]
  },
  {
   "cell_type": "markdown",
   "metadata": {},
   "source": [
    "We will work with this DataFrame in a subsequent part of the lab. Instead of repeating all of this work again, let's export the DataFrame to a pickled file."
   ]
  },
  {
   "cell_type": "code",
   "execution_count": 147,
   "metadata": {},
   "outputs": [],
   "source": [
    "# export DataFrame to a pickled file called locations_data_frame.pickle. Save it to the data directory.\n",
    "def write_pickle(dataframe):\n",
    "    try:\n",
    "        file = open(\"./locations_dataframe.pkl\", \"wb\")\n",
    "    except OSError as e:\n",
    "        print(\"Error opening the file. Please ensure the file exists and has appropriate permissions.\")\n",
    "        logging.error(e)\n",
    "    else:\n",
    "        # pickle.dump()\n",
    "        # pickle.dump()\n",
    "        pickle.dump(dataframe, file)\n",
    "    finally:\n",
    "        file.close() if file else logging.warning(\"No file resource available to close.\")"
   ]
  },
  {
   "cell_type": "code",
   "execution_count": 148,
   "metadata": {},
   "outputs": [],
   "source": [
    "write_pickle(df)"
   ]
  },
  {
   "cell_type": "code",
   "execution_count": 149,
   "metadata": {},
   "outputs": [],
   "source": [
    "def load_pickle(file_with_path):\n",
    "    pickle_contents = None\n",
    "    file = None\n",
    "    try:\n",
    "        file = open(file_with_path, \"rb\")\n",
    "    except OSError as e:\n",
    "        print(\"Error opening the file. Please ensure the file exists and has appropriate permissions.\")\n",
    "        logging.error(e)\n",
    "    else:\n",
    "        # print(file)\n",
    "        # print(pickle.load(file))\n",
    "        pickle_contents = pickle.load(file)\n",
    "    finally:\n",
    "        file.close() if file else logging.warning(\"No file resource available to close.\")\n",
    "        return pickle_contents"
   ]
  },
  {
   "cell_type": "markdown",
   "metadata": {},
   "source": [
    "## Test Pickle before closing"
   ]
  },
  {
   "cell_type": "code",
   "execution_count": 150,
   "metadata": {},
   "outputs": [
    {
     "data": {
      "text/html": [
       "<div>\n",
       "<style scoped>\n",
       "    .dataframe tbody tr th:only-of-type {\n",
       "        vertical-align: middle;\n",
       "    }\n",
       "\n",
       "    .dataframe tbody tr th {\n",
       "        vertical-align: top;\n",
       "    }\n",
       "\n",
       "    .dataframe thead th {\n",
       "        text-align: right;\n",
       "    }\n",
       "</style>\n",
       "<table border=\"1\" class=\"dataframe\">\n",
       "  <thead>\n",
       "    <tr style=\"text-align: right;\">\n",
       "      <th></th>\n",
       "      <th>mindate</th>\n",
       "      <th>maxdate</th>\n",
       "      <th>name</th>\n",
       "      <th>datacoverage</th>\n",
       "      <th>id</th>\n",
       "      <th>source</th>\n",
       "    </tr>\n",
       "  </thead>\n",
       "  <tbody>\n",
       "    <tr>\n",
       "      <th>0</th>\n",
       "      <td>1948-05-01</td>\n",
       "      <td>2021-11-12</td>\n",
       "      <td>Highgate Center, VT 05459</td>\n",
       "      <td>1.00</td>\n",
       "      <td>ZIP:05459</td>\n",
       "      <td>locations_10.json</td>\n",
       "    </tr>\n",
       "    <tr>\n",
       "      <th>1</th>\n",
       "      <td>1995-05-08</td>\n",
       "      <td>2021-11-12</td>\n",
       "      <td>Hinesburg, VT 05461</td>\n",
       "      <td>1.00</td>\n",
       "      <td>ZIP:05461</td>\n",
       "      <td>locations_10.json</td>\n",
       "    </tr>\n",
       "    <tr>\n",
       "      <th>2</th>\n",
       "      <td>1955-11-01</td>\n",
       "      <td>2021-11-12</td>\n",
       "      <td>Huntington, VT 05462</td>\n",
       "      <td>1.00</td>\n",
       "      <td>ZIP:05462</td>\n",
       "      <td>locations_10.json</td>\n",
       "    </tr>\n",
       "    <tr>\n",
       "      <th>3</th>\n",
       "      <td>1997-03-06</td>\n",
       "      <td>2021-11-12</td>\n",
       "      <td>Isle la Motte, VT 05463</td>\n",
       "      <td>0.95</td>\n",
       "      <td>ZIP:05463</td>\n",
       "      <td>locations_10.json</td>\n",
       "    </tr>\n",
       "    <tr>\n",
       "      <th>4</th>\n",
       "      <td>1995-05-08</td>\n",
       "      <td>2021-11-12</td>\n",
       "      <td>Jeffersonville, VT 05464</td>\n",
       "      <td>1.00</td>\n",
       "      <td>ZIP:05464</td>\n",
       "      <td>locations_10.json</td>\n",
       "    </tr>\n",
       "    <tr>\n",
       "      <th>...</th>\n",
       "      <td>...</td>\n",
       "      <td>...</td>\n",
       "      <td>...</td>\n",
       "      <td>...</td>\n",
       "      <td>...</td>\n",
       "      <td>...</td>\n",
       "    </tr>\n",
       "    <tr>\n",
       "      <th>38857</th>\n",
       "      <td>1871-08-01</td>\n",
       "      <td>2021-11-13</td>\n",
       "      <td>Lower Tar Hydrologic Unit</td>\n",
       "      <td>1.00</td>\n",
       "      <td>HUC:03020103</td>\n",
       "      <td>locations_05.json</td>\n",
       "    </tr>\n",
       "    <tr>\n",
       "      <th>38858</th>\n",
       "      <td>1900-02-01</td>\n",
       "      <td>2021-11-12</td>\n",
       "      <td>Pamlico Hydrologic Unit</td>\n",
       "      <td>1.00</td>\n",
       "      <td>HUC:03020104</td>\n",
       "      <td>locations_05.json</td>\n",
       "    </tr>\n",
       "    <tr>\n",
       "      <th>38859</th>\n",
       "      <td>1893-01-01</td>\n",
       "      <td>2021-11-13</td>\n",
       "      <td>Pamlico Sound Hydrologic Unit</td>\n",
       "      <td>1.00</td>\n",
       "      <td>HUC:03020105</td>\n",
       "      <td>locations_05.json</td>\n",
       "    </tr>\n",
       "    <tr>\n",
       "      <th>38860</th>\n",
       "      <td>1896-02-01</td>\n",
       "      <td>2021-11-13</td>\n",
       "      <td>Bogue-Core Sounds Hydrologic Unit</td>\n",
       "      <td>1.00</td>\n",
       "      <td>HUC:03020106</td>\n",
       "      <td>locations_05.json</td>\n",
       "    </tr>\n",
       "    <tr>\n",
       "      <th>38861</th>\n",
       "      <td>1890-09-01</td>\n",
       "      <td>2021-11-13</td>\n",
       "      <td>Neuse Hydrologic Unit</td>\n",
       "      <td>1.00</td>\n",
       "      <td>HUC:030202</td>\n",
       "      <td>locations_05.json</td>\n",
       "    </tr>\n",
       "  </tbody>\n",
       "</table>\n",
       "<p>38862 rows × 6 columns</p>\n",
       "</div>"
      ],
      "text/plain": [
       "          mindate     maxdate                               name  \\\n",
       "0      1948-05-01  2021-11-12          Highgate Center, VT 05459   \n",
       "1      1995-05-08  2021-11-12                Hinesburg, VT 05461   \n",
       "2      1955-11-01  2021-11-12               Huntington, VT 05462   \n",
       "3      1997-03-06  2021-11-12            Isle la Motte, VT 05463   \n",
       "4      1995-05-08  2021-11-12           Jeffersonville, VT 05464   \n",
       "...           ...         ...                                ...   \n",
       "38857  1871-08-01  2021-11-13          Lower Tar Hydrologic Unit   \n",
       "38858  1900-02-01  2021-11-12            Pamlico Hydrologic Unit   \n",
       "38859  1893-01-01  2021-11-13      Pamlico Sound Hydrologic Unit   \n",
       "38860  1896-02-01  2021-11-13  Bogue-Core Sounds Hydrologic Unit   \n",
       "38861  1890-09-01  2021-11-13              Neuse Hydrologic Unit   \n",
       "\n",
       "       datacoverage            id             source  \n",
       "0              1.00     ZIP:05459  locations_10.json  \n",
       "1              1.00     ZIP:05461  locations_10.json  \n",
       "2              1.00     ZIP:05462  locations_10.json  \n",
       "3              0.95     ZIP:05463  locations_10.json  \n",
       "4              1.00     ZIP:05464  locations_10.json  \n",
       "...             ...           ...                ...  \n",
       "38857          1.00  HUC:03020103  locations_05.json  \n",
       "38858          1.00  HUC:03020104  locations_05.json  \n",
       "38859          1.00  HUC:03020105  locations_05.json  \n",
       "38860          1.00  HUC:03020106  locations_05.json  \n",
       "38861          1.00    HUC:030202  locations_05.json  \n",
       "\n",
       "[38862 rows x 6 columns]"
      ]
     },
     "execution_count": 150,
     "metadata": {},
     "output_type": "execute_result"
    }
   ],
   "source": [
    "df_test = load_pickle(\"./locations_dataframe.pkl\")\n",
    "df_test"
   ]
  },
  {
   "cell_type": "code",
   "execution_count": null,
   "metadata": {},
   "outputs": [],
   "source": []
  }
 ],
 "metadata": {
  "kernelspec": {
   "display_name": "Python 3 (ipykernel)",
   "language": "python",
   "name": "python3"
  },
  "language_info": {
   "codemirror_mode": {
    "name": "ipython",
    "version": 3
   },
   "file_extension": ".py",
   "mimetype": "text/x-python",
   "name": "python",
   "nbconvert_exporter": "python",
   "pygments_lexer": "ipython3",
   "version": "3.9.8"
  }
 },
 "nbformat": 4,
 "nbformat_minor": 4
}
