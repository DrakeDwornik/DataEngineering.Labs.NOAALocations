# import pandas module
# import os module
import pandas as pd
import os
import pickle





# Define a file path (using os module) pointing to the pickled file from Exercise 1
# Create a Pandas DataFrame from the pickled file. Use the file path as an argument.
file_path = os.path.join("./","locations_dataframe.pkl")
df = pd.read_pickle(file_path)




# Display the DataFrame
df



